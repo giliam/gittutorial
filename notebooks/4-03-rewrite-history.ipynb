{
 "cells": [
  {
   "cell_type": "markdown",
   "metadata": {
    "slideshow": {
     "slide_type": "slide"
    }
   },
   "source": [
    "<div class=\"licence\">\n",
    "<span>Licence CC BY-NC-ND</span>\n",
    "<span>Thierry Parmentelat</span>\n",
    "<span><img src=\"../media/inria-25-alpha.png\" /></span>\n",
    "</div>"
   ]
  },
  {
   "cell_type": "markdown",
   "metadata": {
    "slideshow": {
     "slide_type": ""
    }
   },
   "source": [
    "# récrire l'historique"
   ]
  },
  {
   "cell_type": "code",
   "execution_count": null,
   "metadata": {
    "slideshow": {
     "slide_type": "slide"
    }
   },
   "outputs": [],
   "source": [
    "# ce sera toujours notre façon de commencer\n",
    "[ -f scripts/helpers.sh ] && source scripts/helpers.sh"
   ]
  },
  {
   "cell_type": "markdown",
   "metadata": {
    "slideshow": {
     "slide_type": "slide"
    }
   },
   "source": [
    "## `repo-rebase`"
   ]
  },
  {
   "cell_type": "code",
   "execution_count": null,
   "metadata": {},
   "outputs": [],
   "source": [
    "cd $TOP\n",
    "\n",
    "# pour pouvoir recommencer le scénario depuis le début\n",
    "# je nettoie complètement ce qu'on a pu faire précédemment\n",
    "if [ -d repo-rebase ]; then\n",
    "    echo \"on repart d'un directory vide\"\n",
    "    rm -rf repo-rebase\n",
    "fi\n",
    "\n",
    "# on le crée\n",
    "mkdir repo-rebase\n",
    "\n",
    "# on va dedans\n",
    "cd repo-rebase"
   ]
  },
  {
   "cell_type": "markdown",
   "metadata": {
    "slideshow": {
     "slide_type": "slide"
    }
   },
   "source": [
    "## rappel : un commit est immutable"
   ]
  },
  {
   "cell_type": "markdown",
   "metadata": {},
   "source": [
    "en informatique, on fait la distinction entre  \n",
    "objets *mutables* et *immutables*\n",
    "\n",
    "* un terme savant pour désigner les objets  \n",
    "  qui peuvent changer\n",
    "\n",
    "* un ficher par exemple est un objet mutable"
   ]
  },
  {
   "cell_type": "markdown",
   "metadata": {},
   "source": [
    "* un commit est par contre **immutable**\n",
    "* dit autrement, une fois qu'il est créé  \n",
    "  on ne peut plus le modifier  \n",
    "\n",
    "* mais on peut en **créer un autre**"
   ]
  },
  {
   "cell_type": "markdown",
   "metadata": {
    "slideshow": {
     "slide_type": "slide"
    }
   },
   "source": [
    "## attention aux commits poussés"
   ]
  },
  {
   "cell_type": "markdown",
   "metadata": {},
   "source": [
    "avant d'aller plus loin, souvenez-vous de cette règle d'or\n",
    "\n",
    "> ne **jamais** bidouiller (recréer) un commit déjà publié (poussé)\n",
    "\n",
    "si quelqu'un a déjà tiré ce commit, et vous le remplacez  \n",
    "par un autre, au deuxième `pull` votre collègue  \n",
    "va déclencher un désordre monstrueux\n",
    "\n",
    "on en reparlera"
   ]
  },
  {
   "cell_type": "markdown",
   "metadata": {
    "slideshow": {
     "slide_type": "slide"
    }
   },
   "source": [
    "## un dépôt"
   ]
  },
  {
   "cell_type": "code",
   "execution_count": null,
   "metadata": {
    "cell_style": "split"
   },
   "outputs": [],
   "source": [
    "$SCRIPTS/do rebase-init\n",
    "$SCRIPTS/do rebase-master-branch\n",
    "$SCRIPTS/do rebase-devel-branch"
   ]
  },
  {
   "cell_type": "code",
   "execution_count": null,
   "metadata": {
    "cell_style": "split"
   },
   "outputs": [],
   "source": [
    "# rappel:\n",
    "# git l = git log --oneline --graph\n",
    "git l --all"
   ]
  },
  {
   "cell_type": "markdown",
   "metadata": {
    "slideshow": {
     "slide_type": "slide"
    }
   },
   "source": [
    "## modifier le dernier commit"
   ]
  },
  {
   "cell_type": "markdown",
   "metadata": {},
   "source": [
    "le cas le plus simple de récriture de l'histoire :  \n",
    "vous voulez modifier le commit que vous venez de faire  \n",
    "à cause d'une faute d'orthographe dans le message\n",
    "\n",
    "\n",
    "```\n",
    "git commit --amend\n",
    "```\n",
    "\n",
    "si vous avez ajouté des changements dans l'index entretemps,  \n",
    "ils feront partie du nouveau commit "
   ]
  },
  {
   "cell_type": "code",
   "execution_count": null,
   "metadata": {
    "cell_style": "split",
    "slideshow": {
     "slide_type": "slide"
    }
   },
   "outputs": [],
   "source": [
    "git l"
   ]
  },
  {
   "cell_type": "code",
   "execution_count": null,
   "metadata": {
    "cell_style": "split"
   },
   "outputs": [],
   "source": [
    "# récrire le dernier commit\n",
    "git commit --amend --message C"
   ]
  },
  {
   "cell_type": "code",
   "execution_count": null,
   "metadata": {
    "cell_style": "split"
   },
   "outputs": [],
   "source": [
    "git l"
   ]
  },
  {
   "cell_type": "code",
   "execution_count": null,
   "metadata": {
    "cell_style": "split"
   },
   "outputs": [],
   "source": [
    "# le commit 'OOPS' est \n",
    "# toujours là quelque part\n",
    "# mais on ne le parcourt pas\n",
    "git l --all"
   ]
  },
  {
   "cell_type": "markdown",
   "metadata": {
    "slideshow": {
     "slide_type": "slide"
    }
   },
   "source": [
    "## reconstruire avec `rebase` "
   ]
  },
  {
   "cell_type": "markdown",
   "metadata": {},
   "source": [
    "un outil permettant de rejouer une suite de changements  \n",
    "\n"
   ]
  },
  {
   "cell_type": "markdown",
   "metadata": {
    "cell_style": "split"
   },
   "source": [
    "![](../media/merge-vs-rebase.png)"
   ]
  },
  {
   "cell_type": "markdown",
   "metadata": {
    "cell_style": "split",
    "slideshow": {
     "slide_type": ""
    }
   },
   "source": [
    "`rebase` *vs* `merge` :\n",
    "\n",
    "les deux résultats `F` et `E'`  \n",
    "ont un contenu identique  \n",
    "mais la topologie est  \n",
    "évidemment très différente"
   ]
  },
  {
   "cell_type": "code",
   "execution_count": null,
   "metadata": {
    "cell_style": "split",
    "slideshow": {
     "slide_type": "slide"
    }
   },
   "outputs": [],
   "source": [
    "# juste pour garder une référence\n",
    "git branch old-devel devel"
   ]
  },
  {
   "cell_type": "code",
   "execution_count": null,
   "metadata": {
    "cell_style": "split",
    "slideshow": {
     "slide_type": ""
    }
   },
   "outputs": [],
   "source": [
    "git l --all"
   ]
  },
  {
   "cell_type": "code",
   "execution_count": null,
   "metadata": {
    "cell_style": "split"
   },
   "outputs": [],
   "source": [
    "# ça se lit comme ceci\n",
    "# reconstruire la branche devel \n",
    "# au dessus de la branche master\n",
    "git rebase master devel"
   ]
  },
  {
   "cell_type": "code",
   "execution_count": null,
   "metadata": {
    "cell_style": "split"
   },
   "outputs": [],
   "source": [
    "git l --all"
   ]
  },
  {
   "cell_type": "markdown",
   "metadata": {
    "slideshow": {
     "slide_type": "slide"
    }
   },
   "source": [
    "## F == E'"
   ]
  },
  {
   "cell_type": "markdown",
   "metadata": {},
   "source": [
    "pour s'assurer qu'on a bien le même contenu qu'avec un merge"
   ]
  },
  {
   "cell_type": "code",
   "execution_count": null,
   "metadata": {
    "cell_style": "split"
   },
   "outputs": [],
   "source": [
    "git checkout -b merging master\n",
    "git merge old-devel --message F"
   ]
  },
  {
   "cell_type": "code",
   "execution_count": null,
   "metadata": {
    "cell_style": "split"
   },
   "outputs": [],
   "source": [
    "git l --all"
   ]
  },
  {
   "cell_type": "code",
   "execution_count": null,
   "metadata": {},
   "outputs": [],
   "source": [
    "# pas de différence entre les deux contenus\n",
    "git diff merging devel"
   ]
  },
  {
   "cell_type": "markdown",
   "metadata": {
    "slideshow": {
     "slide_type": "slide"
    }
   },
   "source": [
    "## `pull --rebase`"
   ]
  },
  {
   "cell_type": "markdown",
   "metadata": {},
   "source": [
    "souvenez-vous des cas où il faut jouer à `pull-push`  \n",
    "i.e. les cas où deux personnes partent d'un même commit  \n",
    "et où on l'un des deux ne peut pas pousser  \n",
    "il doit d'abord faire `pull` (cf. *fast-forward*) "
   ]
  },
  {
   "cell_type": "markdown",
   "metadata": {},
   "source": [
    "dans ces cas-là si on préfère ne pas créer de diamant  \n",
    "envisagez dans ce cas-là de faire un `pull --rebase`  \n",
    "c'est souvent une option proposée dans les diverses UI"
   ]
  },
  {
   "cell_type": "markdown",
   "metadata": {
    "slideshow": {
     "slide_type": "slide"
    }
   },
   "source": [
    "## `rebase -i`"
   ]
  },
  {
   "cell_type": "markdown",
   "metadata": {},
   "source": [
    "on signale enfin (détails à creuser par vous-mêmes)  \n",
    "le **mode interactif** de rebase :\n",
    "\n",
    "* toujours sur des commits **non publiés**\n",
    "* on peut récrire une suite de commits pour\n",
    "* changer leur ordre\n",
    "* en regrouper\n",
    "* en enlever\n",
    "* ...\n",
    "\n",
    "ce qui est l'outil idéal pour produire un historique propre"
   ]
  },
  {
   "cell_type": "markdown",
   "metadata": {
    "slideshow": {
     "slide_type": "slide"
    }
   },
   "source": [
    "## ne pas utiliser `push --force`"
   ]
  },
  {
   "cell_type": "markdown",
   "metadata": {},
   "source": [
    "revenons au slide \"*attention aux commits poussés*\"  \n",
    "si vous avez déjà publié (poussé) un commit  \n",
    "et que vous le récrivez - par exemple avec `commit --amend`  \n",
    "\n",
    "* vous ne pouvez pas pousser le nouveau commit,  \n",
    "  car ce n'est pas un fast-forward (fig. suivante)\n",
    "\n",
    "* `git push` vous offre une option `--force`  \n",
    "  qui ignore le problème  \n",
    "\n",
    "* mais un tiers a déjà tiré le premier commit  \n",
    "  ça va créer un gros désordre  \n",
    "  \n",
    "**Attention** donc à  \n",
    "\n",
    "* éviter de récrire un commit déjà publié  \n",
    "* réserver `push --force` à des cas bien contrôlés \n",
    "\n"
   ]
  },
  {
   "cell_type": "markdown",
   "metadata": {
    "slideshow": {
     "slide_type": "slide"
    }
   },
   "source": [
    "![](../media/force-push-is-evil.png)"
   ]
  },
  {
   "cell_type": "markdown",
   "metadata": {
    "cell_style": "center",
    "slideshow": {
     "slide_type": "notes"
    }
   },
   "source": [
    "En partant d'un état stable, avec 2 contributeurs; alice publie le commit B, et se rend compte qu'elle a besoin de l'amender.\n",
    "\n",
    "En fait, c'est une situation possiblement problématique; si bob a déjà eu le temps de tirer ce commit, il est de loin préférable de s'abstenir de modifier B (et de créer plutôt un commit au dessus de B)\n",
    "\n",
    "Tout d'abord remarquons que si alice a déjà publié B et qu'elle récrit B', elle ne peut pas pousser B' sur github, qui a ce stade a sa branche master sur B, on n'est donc pas dans le cas d'un fast-forward.\n",
    "\n",
    "Alice peut decider de passer outre mais pour cela elle doit invoquer `git push --force`. \n",
    "\n",
    "Ce serait une mauvaise idée dans ce cas car, sauf à contacter bob directement pour qu'il nettoie son dépôt, la prochaine fois que bob va tirer il va créer un commit B'', qui sera le troisième commit qui traite du même changement, et avec un fort risque de conflit en plus !"
   ]
  },
  {
   "cell_type": "markdown",
   "metadata": {
    "slideshow": {
     "slide_type": "slide"
    }
   },
   "source": [
    "## exercice - amend"
   ]
  },
  {
   "cell_type": "markdown",
   "metadata": {
    "cell_style": "center"
   },
   "source": [
    "1. créez un commit  \n",
    "   modifiez le message avec `amend`\n",
    "   \n",
    "1. même scénario, mais vous créez une branche `bookmark`  \n",
    "   juste avant le `amend` pour vérifier  \n",
    "   que le premier commit est toujours présent dans le dépôt\n",
    "   \n",
    "1. créez un commit  \n",
    "   ajoutez des changements dans l'index  \n",
    "   faites un `amend` et constatez que l'indez est vide\n",
    "   \n",
    "1. utilisez `amend` pour modifier l'auteur du commit  \n",
    "   voyez la doc de `commit` pour cela"
   ]
  },
  {
   "cell_type": "markdown",
   "metadata": {
    "slideshow": {
     "slide_type": "slide"
    }
   },
   "source": [
    "## exercice - rebase "
   ]
  },
  {
   "cell_type": "markdown",
   "metadata": {},
   "source": [
    "1. créer un dépôt avec 5 commits init, bugfix1, feature1, bugfix2, feature2  \n",
    "1. utiliser `rebase -i` pour récrire au dessus de init  \n",
    "   le même contenu en seulement 2 commit feature, bugfix\n",
    "1. créer une branche au niveau de init, lui appliquer le commit bugfix  \n",
    "   (*hint*: voir la commande `cherry-pick`)"
   ]
  }
 ],
 "metadata": {
  "celltoolbar": "Slideshow",
  "ipub": {
   "sphinx": {
    "toggle_input": true,
    "toggle_input_all": true,
    "toggle_output": true,
    "toggle_output_all": true
   }
  },
  "kernelspec": {
   "display_name": "Calysto Bash",
   "language": "bash",
   "name": "calysto_bash"
  },
  "language_info": {
   "file_extension": ".sh",
   "help_links": [
    {
     "text": "MetaKernel Magics",
     "url": "https://metakernel.readthedocs.io/en/latest/source/README.html"
    }
   ],
   "mimetype": "text/x-sh",
   "name": "bash",
   "version": "0.2.1"
  },
  "notebookname": "rebase",
  "rise": {
   "autolaunch": true,
   "slideNumber": "c/t",
   "start_slideshow_at": "selected",
   "theme": "sky",
   "transition": "cube"
  },
  "version": "1.0"
 },
 "nbformat": 4,
 "nbformat_minor": 4
}

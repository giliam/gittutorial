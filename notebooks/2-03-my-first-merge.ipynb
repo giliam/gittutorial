{
 "cells": [
  {
   "cell_type": "markdown",
   "metadata": {
    "slideshow": {
     "slide_type": "slide"
    }
   },
   "source": [
    "<div class=\"licence\">\n",
    "<span>Licence CC BY-NC-ND</span>\n",
    "<span>Thierry Parmentelat</span>\n",
    "<span><img src=\"media/inria-25-alpha.png\" /></span>\n",
    "</div>"
   ]
  },
  {
   "cell_type": "markdown",
   "metadata": {
    "slideshow": {
     "slide_type": ""
    }
   },
   "source": [
    "# mon premier merge"
   ]
  },
  {
   "cell_type": "code",
   "execution_count": null,
   "metadata": {
    "slideshow": {
     "slide_type": "slide"
    }
   },
   "outputs": [],
   "source": [
    "# ce sera toujours notre façon de commencer\n",
    "[ -f scripts/helpers.sh ] && source scripts/helpers.sh"
   ]
  },
  {
   "cell_type": "markdown",
   "metadata": {
    "slideshow": {
     "slide_type": "slide"
    }
   },
   "source": [
    "## repartons de la partie 2"
   ]
  },
  {
   "cell_type": "markdown",
   "metadata": {},
   "source": [
    "si vous avez bien suivi et exécuté ce qui précède,  \n",
    "vous devez avoir un répertoire `my-first-repo`:\n",
    "\n",
    "* qui contient 4 commits\n",
    "* et deux branches `master` et `devel`\n",
    "* et vous devez être sur la branche devel"
   ]
  },
  {
   "cell_type": "code",
   "execution_count": null,
   "metadata": {},
   "outputs": [],
   "source": [
    "# si nécessaire, vous pouvez remettre le repository en l'état\n",
    "# \n",
    "# pour cela mettez \"true\" au lieu de \"\"\n",
    "# et bien sûr évaluer la cellule\n",
    "\n",
    "reset=\"\"\n",
    "\n",
    "if [ -n \"$reset\" ]; then \n",
    "    cd $TOP\n",
    "    bash $SCRIPTS/2-01-my-first-repo.sh \n",
    "    bash $SCRIPTS/2-02-consistency-repo-fs.sh \n",
    "fi >& /dev/null"
   ]
  },
  {
   "cell_type": "code",
   "execution_count": null,
   "metadata": {
    "slideshow": {
     "slide_type": "slide"
    }
   },
   "outputs": [],
   "source": [
    "# si nécessaire, on se place dans le dépôt git\n",
    "[ -d my-first-repo ] && cd my-first-repo\n",
    "\n",
    "pwd"
   ]
  },
  {
   "cell_type": "code",
   "execution_count": null,
   "metadata": {
    "cell_style": "center",
    "slideshow": {
     "slide_type": ""
    }
   },
   "outputs": [],
   "source": [
    "# vous devez avoir 4 commits, deux branches\n",
    "# et être sur la branche devel\n",
    "git l --all"
   ]
  },
  {
   "cell_type": "markdown",
   "metadata": {
    "slideshow": {
     "slide_type": "slide"
    }
   },
   "source": [
    "## branche courante"
   ]
  },
  {
   "cell_type": "markdown",
   "metadata": {
    "cell_style": "center"
   },
   "source": [
    "souvenez vous: \n",
    "\n",
    "* on avait fait\n",
    " * `git checkout -b devel HEAD^^`\n",
    "* on avait vu que ça avait :\n",
    "  * créé une branche `devel` \n",
    "  * choisi cette branche comme **courante**"
   ]
  },
  {
   "cell_type": "markdown",
   "metadata": {
    "cell_style": "split"
   },
   "source": [
    "vue gitkraken:"
   ]
  },
  {
   "cell_type": "markdown",
   "metadata": {
    "cell_style": "split"
   },
   "source": [
    "![](media/repo-4c-2b.png)"
   ]
  },
  {
   "cell_type": "markdown",
   "metadata": {
    "slideshow": {
     "slide_type": "slide"
    }
   },
   "source": [
    "## branches"
   ]
  },
  {
   "cell_type": "markdown",
   "metadata": {},
   "source": [
    "notion de branche\n",
    "\n",
    "* une branche correspond uniquement à  \n",
    "  **une marque posée sur un commit**\n",
    "\n",
    "* et de plus la branche **courante**  \n",
    "  suit les **commits** au fur et à mesure"
   ]
  },
  {
   "cell_type": "markdown",
   "metadata": {
    "slideshow": {
     "slide_type": "slide"
    }
   },
   "source": [
    "## on committe dans la branche courante"
   ]
  },
  {
   "cell_type": "markdown",
   "metadata": {},
   "source": [
    "comme nous sommes sur la branche `devel`   \n",
    "\n",
    "* on va créer le commit avec comme parent  \n",
    "  le commit #2 (*added LICENSE..*)\n",
    "\n",
    "* et la branche devel avance d'un cran  \n",
    "  elle désigne le nouveau commit"
   ]
  },
  {
   "cell_type": "code",
   "execution_count": null,
   "metadata": {
    "cell_style": "split"
   },
   "outputs": [],
   "source": [
    "# la branche courante est devel\n",
    "# du coup si on crée un commit\n",
    "# maintenant:\n",
    "\n",
    "echo \"dans la branche devel\" >> LICENSE\n",
    "git add LICENSE\n",
    "git commit -m \"le début de la branche devel\""
   ]
  },
  {
   "cell_type": "markdown",
   "metadata": {
    "cell_style": "split"
   },
   "source": [
    "![](media/repo-5c-2b.png)"
   ]
  },
  {
   "cell_type": "markdown",
   "metadata": {
    "slideshow": {
     "slide_type": "slide"
    }
   },
   "source": [
    "\n",
    "## changer de branche: `git checkout`"
   ]
  },
  {
   "cell_type": "markdown",
   "metadata": {},
   "source": [
    "quand on change de branche  \n",
    "**l'espace de travail est modifié** en conséquence"
   ]
  },
  {
   "cell_type": "code",
   "execution_count": null,
   "metadata": {
    "cell_style": "center"
   },
   "outputs": [],
   "source": [
    "# on est  sur devel\n",
    "ls"
   ]
  },
  {
   "cell_type": "code",
   "execution_count": null,
   "metadata": {
    "cell_style": "split"
   },
   "outputs": [],
   "source": [
    "# on va sur master\n",
    "git checkout master"
   ]
  },
  {
   "cell_type": "code",
   "execution_count": null,
   "metadata": {
    "cell_style": "split"
   },
   "outputs": [],
   "source": [
    "# on retrouve tous nos fichiers\n",
    "ls"
   ]
  },
  {
   "cell_type": "code",
   "execution_count": null,
   "metadata": {
    "cell_style": "split"
   },
   "outputs": [],
   "source": [
    "# on retourne sur devel\n",
    "git checkout devel"
   ]
  },
  {
   "cell_type": "code",
   "execution_count": null,
   "metadata": {
    "cell_style": "split"
   },
   "outputs": [],
   "source": [
    "# les fichiers suivent le contenu du commit\n",
    "ls"
   ]
  },
  {
   "cell_type": "markdown",
   "metadata": {
    "slideshow": {
     "slide_type": "notes"
    }
   },
   "source": [
    "On insiste à nouveau : le fait de changer de branche est une opérations invasive, dans ce sens que cela modifie les fichiers présents sur le disque, pour s'aligner avec le changement de commit courant."
   ]
  },
  {
   "cell_type": "markdown",
   "metadata": {
    "slideshow": {
     "slide_type": "slide"
    }
   },
   "source": [
    "## digression : `git diff` entre commits \n",
    "\n",
    "`git diff` fonctionne **aussi** entre deux commits :"
   ]
  },
  {
   "cell_type": "code",
   "execution_count": null,
   "metadata": {
    "cell_style": "split"
   },
   "outputs": [],
   "source": [
    "git diff master devel"
   ]
  },
  {
   "cell_type": "markdown",
   "metadata": {
    "cell_style": "split"
   },
   "source": [
    "![](media/repo-5c-2b.png)"
   ]
  },
  {
   "cell_type": "markdown",
   "metadata": {
    "slideshow": {
     "slide_type": "slide"
    }
   },
   "source": [
    "## mon premier `merge`"
   ]
  },
  {
   "cell_type": "markdown",
   "metadata": {},
   "source": [
    "dans sa version la plus simple,\n",
    "`git merge` permet de 'fusionner' deux branches :"
   ]
  },
  {
   "cell_type": "code",
   "execution_count": null,
   "metadata": {
    "cell_style": "split"
   },
   "outputs": [],
   "source": [
    "# on se met dans la branche master\n",
    "git checkout master\n",
    "\n",
    "# on vérifie\n",
    "git branch"
   ]
  },
  {
   "cell_type": "code",
   "execution_count": null,
   "metadata": {
    "cell_style": "split"
   },
   "outputs": [],
   "source": [
    "# ce merge va \n",
    "# créer un commit, donc:\n",
    "\n",
    "# - il sera créé \n",
    "# sur la branche courante\n",
    "# ici master\n",
    "# -  il me faut donner\n",
    "# un message\n",
    "\n",
    "git merge devel -m \"mon premier merge\""
   ]
  },
  {
   "cell_type": "code",
   "execution_count": null,
   "metadata": {
    "cell_style": "split"
   },
   "outputs": [],
   "source": [
    "# remarquez le nouveau commit \n",
    "# qui est bien sûr\n",
    "# créé dans la branche courante\n",
    "git l"
   ]
  },
  {
   "cell_type": "markdown",
   "metadata": {
    "cell_style": "split"
   },
   "source": [
    "![](media/order-0-both.png)"
   ]
  },
  {
   "cell_type": "markdown",
   "metadata": {
    "slideshow": {
     "slide_type": "notes"
    }
   },
   "source": [
    "Pour se souvenir des paramètres, comme toujours, le commit qui est (éventuellement) créé l'est **sur la branche courante**; c'est seulement la branche courante qui avance, i.e. lorsqu'on fait `git merge tutu`, la branche `tutu` **n'est pas mmodifiée**.\n"
   ]
  },
  {
   "cell_type": "markdown",
   "metadata": {
    "slideshow": {
     "slide_type": "slide"
    }
   },
   "source": [
    "## mon premier `merge` - comportement"
   ]
  },
  {
   "cell_type": "markdown",
   "metadata": {
    "cell_style": "split"
   },
   "source": [
    "naturellement:\n",
    "\n",
    "* le merge inclut tout le code contenu dans le point de la fourche\n",
    "* ainsi que toutes les modifications faites **dans les deux branches**\n",
    "\n",
    "* nous allons le vérifier en comparant\n",
    "  * les modifs entre `left` et `master`\n",
    "  * avec les modifs entre `fork` et `right`\n",
    "  * qui doivent être identiques\n",
    "* et symétriquement"
   ]
  },
  {
   "cell_type": "markdown",
   "metadata": {
    "cell_style": "split"
   },
   "source": [
    "![](media/order-1-compare-labels.png)"
   ]
  },
  {
   "cell_type": "markdown",
   "metadata": {
    "slideshow": {
     "slide_type": "slide"
    }
   },
   "source": [
    "## rappel - naviguer dans les commits"
   ]
  },
  {
   "cell_type": "code",
   "execution_count": null,
   "metadata": {
    "cell_style": "split"
   },
   "outputs": [],
   "source": [
    "git l"
   ]
  },
  {
   "cell_type": "markdown",
   "metadata": {
    "cell_style": "split"
   },
   "source": [
    "on sait déjà désigner `left` et `right` \n",
    "\n",
    "* left = `master^`  \n",
    "  car `X^` est le premier parent de X\n",
    "\n",
    "* right = `master^2`  \n",
    "  le second parent"
   ]
  },
  {
   "cell_type": "code",
   "execution_count": null,
   "metadata": {
    "cell_style": "split"
   },
   "outputs": [],
   "source": [
    "git l -1 master^"
   ]
  },
  {
   "cell_type": "code",
   "execution_count": null,
   "metadata": {
    "cell_style": "split"
   },
   "outputs": [],
   "source": [
    "git l -1 master~2"
   ]
  },
  {
   "cell_type": "markdown",
   "metadata": {
    "slideshow": {
     "slide_type": "notes"
    }
   },
   "source": [
    "Pour plus de détails sur les nombreux autres mécanismes qui existent pour naviguer dans les commits, voir aussi https://git-scm.com/book/en/v2/Git-Tools-Revision-Selection"
   ]
  },
  {
   "cell_type": "markdown",
   "metadata": {
    "slideshow": {
     "slide_type": "slide"
    }
   },
   "source": [
    "## digression - le plus proche ancêtre commun\n",
    "\n",
    "`git merge-base` "
   ]
  },
  {
   "cell_type": "code",
   "execution_count": null,
   "metadata": {
    "cell_style": "split"
   },
   "outputs": [],
   "source": [
    "git l --all"
   ]
  },
  {
   "cell_type": "code",
   "execution_count": null,
   "metadata": {
    "cell_style": "split"
   },
   "outputs": [],
   "source": [
    "# l'endroit de la 'fourche' c'est\n",
    "git merge-base master^ master^2"
   ]
  },
  {
   "cell_type": "code",
   "execution_count": null,
   "metadata": {
    "cell_style": "split"
   },
   "outputs": [],
   "source": [
    "fork=$(git merge-base master^ master^2)\n",
    "echo $fork"
   ]
  },
  {
   "cell_type": "markdown",
   "metadata": {
    "slideshow": {
     "slide_type": ""
    }
   },
   "source": [
    "pas besoin tous les jours, juste utile pour nous pour démontrer ce qui s'est passé dans ce merge"
   ]
  },
  {
   "cell_type": "markdown",
   "metadata": {
    "slideshow": {
     "slide_type": "notes"
    }
   },
   "source": [
    "`git merge-base` permet, étant donné deux commits, de trouver le plus proche ancêtre commun aux deux.\n",
    "\n",
    "C'est comme ça que l'on détermine le SHA-1 du commit où les deux branches se sont séparées.\n",
    "\n",
    "À noter également, dans ce code `fork` désigne une **variable `bash`**, ça nous évitera de retaper cette phrase un peu barbare"
   ]
  },
  {
   "cell_type": "markdown",
   "metadata": {
    "slideshow": {
     "slide_type": "slide"
    }
   },
   "source": [
    "## les pivots du merge"
   ]
  },
  {
   "cell_type": "markdown",
   "metadata": {
    "cell_style": "split"
   },
   "source": [
    "![](media/order-1-compare-labels.png)"
   ]
  },
  {
   "cell_type": "code",
   "execution_count": null,
   "metadata": {
    "cell_style": "split"
   },
   "outputs": [],
   "source": [
    "# on va se définir des raccourcis\n",
    "# pour désigner les 4 points importants\n",
    "\n",
    "left=\"master^\"\n",
    "\n",
    "right=\"master^2\""
   ]
  },
  {
   "cell_type": "code",
   "execution_count": null,
   "metadata": {
    "cell_style": "split"
   },
   "outputs": [],
   "source": [
    "git l -1 master"
   ]
  },
  {
   "cell_type": "code",
   "execution_count": null,
   "metadata": {
    "cell_style": "split"
   },
   "outputs": [],
   "source": [
    "git l -1 $left"
   ]
  },
  {
   "cell_type": "code",
   "execution_count": null,
   "metadata": {
    "cell_style": "split"
   },
   "outputs": [],
   "source": [
    "git l -1 $right"
   ]
  },
  {
   "cell_type": "code",
   "execution_count": null,
   "metadata": {
    "cell_style": "split"
   },
   "outputs": [],
   "source": [
    "git l -1 $fork\n"
   ]
  },
  {
   "cell_type": "markdown",
   "metadata": {
    "cell_style": "split",
    "slideshow": {
     "slide_type": "slide"
    }
   },
   "source": [
    "## vérifions le merge (1)"
   ]
  },
  {
   "cell_type": "markdown",
   "metadata": {
    "cell_style": "split",
    "slideshow": {
     "slide_type": ""
    }
   },
   "source": [
    "<span><img src=\"media/order-1-compare-labels.png\" width=\"120px\" />"
   ]
  },
  {
   "cell_type": "code",
   "execution_count": null,
   "metadata": {
    "cell_style": "split"
   },
   "outputs": [],
   "source": [
    "git diff $right master"
   ]
  },
  {
   "cell_type": "code",
   "execution_count": null,
   "metadata": {
    "cell_style": "split"
   },
   "outputs": [],
   "source": [
    "git diff $fork $left"
   ]
  },
  {
   "cell_type": "markdown",
   "metadata": {
    "cell_style": "split",
    "slideshow": {
     "slide_type": "slide"
    }
   },
   "source": [
    "## vérifions le merge (2)"
   ]
  },
  {
   "cell_type": "markdown",
   "metadata": {
    "cell_style": "split",
    "slideshow": {
     "slide_type": ""
    }
   },
   "source": [
    "<span><img src=\"media/order-1-compare-labels.png\" width=\"120px\" />"
   ]
  },
  {
   "cell_type": "code",
   "execution_count": null,
   "metadata": {
    "cell_style": "split"
   },
   "outputs": [],
   "source": [
    "git diff $left master"
   ]
  },
  {
   "cell_type": "code",
   "execution_count": null,
   "metadata": {
    "cell_style": "split"
   },
   "outputs": [],
   "source": [
    "git diff $fork $right"
   ]
  },
  {
   "cell_type": "markdown",
   "metadata": {
    "slideshow": {
     "slide_type": "notes"
    }
   },
   "source": [
    "Le point que l'on veut faire ici est que, après ce merge, les différences entre `left et master` sont identiques à celles entre `fork` et `right`."
   ]
  },
  {
   "cell_type": "markdown",
   "metadata": {
    "slideshow": {
     "slide_type": "slide"
    }
   },
   "source": [
    "## autant de branches qu'on veut"
   ]
  },
  {
   "cell_type": "markdown",
   "metadata": {},
   "source": [
    "on ne va pas le faire sur ce premier exemple, mais\n",
    "\n",
    "* on peut créer autant de branches qu'on veut\n",
    "  * qui partent de où on veut\n",
    "  \n",
    "* on peut aussi merger plusieurs branches dans un merge\n",
    "  * ça s'appelle *octopus* merge\n",
    "  \n",
    "* on peut donc parfaitement avoir\n",
    "  * *n* branches qui partent du même commit\n",
    "  * et *n* branches qui sont fusionnées dans un seul commit"
   ]
  },
  {
   "cell_type": "markdown",
   "metadata": {
    "slideshow": {
     "slide_type": "notes"
    }
   },
   "source": [
    "À titre anecdotique, on peut effectivement merger plus de deux branches, il suffit pour cela de mentionnner plusieurs branches à `git merge`, comme par exemple `git merge b1 b2 b3`, ce qui créera en général un commit avec 4 parents; cette pratique est connue sous le nom de *octopus merge*."
   ]
  },
  {
   "cell_type": "markdown",
   "metadata": {
    "slideshow": {
     "slide_type": "slide"
    }
   },
   "source": [
    "## résumé\n",
    "\n"
   ]
  },
  {
   "cell_type": "markdown",
   "metadata": {},
   "source": [
    "* `git merge` crée si nécessaire **un nouveau commit**\n",
    "  * qui contient les changements \n",
    "  * faits dans les branches fusionnées\n",
    "\n",
    "* pour fusionner deux commits\n",
    "  * choisir la branche courante\n",
    "  * qui comme toujours va recevoir le commit\n",
    "  * désigner le (ou les) commits qu'il faut fusionner"
   ]
  },
  {
   "cell_type": "markdown",
   "metadata": {
    "slideshow": {
     "slide_type": "slide"
    }
   },
   "source": [
    "## état\n",
    "\n",
    "pour pouvoir s'y référer le cas échéant, voici notre dépôt à ce stade"
   ]
  },
  {
   "cell_type": "code",
   "execution_count": null,
   "metadata": {},
   "outputs": [],
   "source": [
    "git l --all"
   ]
  }
 ],
 "metadata": {
  "celltoolbar": "Slideshow",
  "ipub": {
   "sphinx": {
    "toggle_input": true,
    "toggle_input_all": true,
    "toggle_output": true,
    "toggle_output_all": true
   }
  },
  "kernelspec": {
   "display_name": "Calysto Bash",
   "language": "bash",
   "name": "calysto_bash"
  },
  "language_info": {
   "file_extension": ".sh",
   "help_links": [
    {
     "text": "MetaKernel Magics",
     "url": "https://metakernel.readthedocs.io/en/latest/source/README.html"
    }
   ],
   "mimetype": "text/x-sh",
   "name": "bash",
   "version": "0.2.1"
  },
  "notebookname": "ma première branche",
  "rise": {
   "autolaunch": true,
   "slideNumber": "c/t",
   "start_slideshow_at": "selected",
   "theme": "sky",
   "transition": "cube"
  },
  "version": "1.0"
 },
 "nbformat": 4,
 "nbformat_minor": 2
}

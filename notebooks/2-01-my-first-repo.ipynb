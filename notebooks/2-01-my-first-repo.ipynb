{
 "cells": [
  {
   "cell_type": "markdown",
   "metadata": {
    "slideshow": {
     "slide_type": "slide"
    }
   },
   "source": [
    "<div class=\"licence\">\n",
    "<span>Licence CC BY-NC-ND</span>\n",
    "<span>Thierry Parmentelat</span>\n",
    "<span><img src=\"media/inria-25-alpha.png\" /></span>\n",
    "</div>"
   ]
  },
  {
   "cell_type": "markdown",
   "metadata": {
    "slideshow": {
     "slide_type": ""
    }
   },
   "source": [
    "# mon premier dépôt"
   ]
  },
  {
   "cell_type": "markdown",
   "metadata": {
    "slideshow": {
     "slide_type": "slide"
    }
   },
   "source": [
    "## objectifs\n",
    "\n",
    "* utilisation **en local seulement** pour l'instant\n",
    "* créer un dépôt / dépôt à partir de rien\n",
    "* créer quelques commits\n",
    "* illustrer le rôle de l'index dans la création d'un commit\n",
    "* voir le contenu du dépôt"
   ]
  },
  {
   "cell_type": "markdown",
   "metadata": {
    "slideshow": {
     "slide_type": "slide"
    }
   },
   "source": [
    "## idempotence  \n",
    "\n",
    "pour rendre ce notebook idempotent, il est important de toujours commencer dans le même répertoire.."
   ]
  },
  {
   "cell_type": "code",
   "execution_count": null,
   "metadata": {},
   "outputs": [],
   "source": [
    "# ce sera toujours notre façon de commencer\n",
    "[ -f scripts/helpers.sh ] && source scripts/helpers.sh"
   ]
  },
  {
   "cell_type": "markdown",
   "metadata": {
    "slideshow": {
     "slide_type": "slide"
    }
   },
   "source": [
    "## quelle version de git ?"
   ]
  },
  {
   "cell_type": "markdown",
   "metadata": {},
   "source": [
    "en fait toutes les commandes de git sont de cette forme\n",
    "\n",
    "```bash\n",
    "git subcommand [options] [arguments]\n",
    "```"
   ]
  },
  {
   "cell_type": "code",
   "execution_count": null,
   "metadata": {},
   "outputs": [],
   "source": [
    "# en particulier pour savoir la version de `git` qui est installée\n",
    "git version"
   ]
  },
  {
   "cell_type": "markdown",
   "metadata": {
    "slideshow": {
     "slide_type": "slide"
    }
   },
   "source": [
    "## créer un dépôt git"
   ]
  },
  {
   "cell_type": "markdown",
   "metadata": {},
   "source": [
    "la première commande à connaître est celle qui crée un dépôt vide:\n",
    "\n",
    "`git init`\n",
    "\n",
    "mais avant, toujours pour être idempotent, je vais partir d'un répertoire entièrement vide"
   ]
  },
  {
   "cell_type": "code",
   "execution_count": null,
   "metadata": {},
   "outputs": [],
   "source": [
    "# les détails techniques de cette cellule ne sont pas importants\n",
    "# c'est simplement pour permettre de recommencer à zéro \n",
    "\n",
    "# cd veut dire 'change directory'\n",
    "# on se met dans le répertoire des notebooks\n",
    "cd $TOP\n",
    "\n",
    "# pour pouvoir recommencer le scénario depuis le début\n",
    "# je nettoie complètement ce qu'on a pu faire précédemment\n",
    "if [ -d my-first-repo ]; then\n",
    "    echo \"on repart d'un directory vide\"\n",
    "    rm -rf my-first-repo\n",
    "fi\n",
    "\n",
    "# on le crée\n",
    "mkdir my-first-repo\n",
    "\n",
    "# on va dedans\n",
    "cd my-first-repo"
   ]
  },
  {
   "cell_type": "markdown",
   "metadata": {
    "slideshow": {
     "slide_type": "notes"
    }
   },
   "source": [
    "Il n'est pas important de comprendre cette cellule en profondeur, ce sont des détails qui nous permettent de rendre le scénario plus facilement rejouable. En substance ici, on s'assure simplement de repartir d'un répertoire vierge, qui s'appelle `my-first-repo` et qui est dans le répertoire des notebooks."
   ]
  },
  {
   "cell_type": "markdown",
   "metadata": {
    "slideshow": {
     "slide_type": "slide"
    }
   },
   "source": [
    "## on est bien dans un répertoire vide\n",
    "\n",
    "Si on regarde bien partout (l'option `ls -a` montre **tous les fichiers** même ceux dont le nom commence par un point) :"
   ]
  },
  {
   "cell_type": "code",
   "execution_count": null,
   "metadata": {
    "slideshow": {
     "slide_type": "-"
    }
   },
   "outputs": [],
   "source": [
    "ls -a"
   ]
  },
  {
   "cell_type": "markdown",
   "metadata": {
    "slideshow": {
     "slide_type": "notes"
    }
   },
   "source": [
    "La commande `ls` est une commande Unix; sur Windows on peut utiliser à la place `dir`. "
   ]
  },
  {
   "cell_type": "markdown",
   "metadata": {},
   "source": [
    "## pour **transformer ce répertoire vide en dépôt git**"
   ]
  },
  {
   "cell_type": "code",
   "execution_count": null,
   "metadata": {},
   "outputs": [],
   "source": [
    "git init"
   ]
  },
  {
   "cell_type": "markdown",
   "metadata": {
    "slideshow": {
     "slide_type": "slide"
    }
   },
   "source": [
    "## la zone de travail de git est créée dans `.git`"
   ]
  },
  {
   "cell_type": "markdown",
   "metadata": {
    "slideshow": {
     "slide_type": ""
    }
   },
   "source": [
    "regardons à nouveau le répertoire (l'option `ls -F` montre le type des entrées)"
   ]
  },
  {
   "cell_type": "code",
   "execution_count": null,
   "metadata": {},
   "outputs": [],
   "source": [
    "ls -aF"
   ]
  },
  {
   "cell_type": "markdown",
   "metadata": {},
   "source": [
    "ici vous voyez que les trois entrées sont des répertoires :  \n",
    "\n",
    "* `.` c'est le répertoire courant,  \n",
    "* `..` est son répertoire père, et  \n",
    "* `.git` est le répertoire de travail de `git`"
   ]
  },
  {
   "cell_type": "markdown",
   "metadata": {
    "slideshow": {
     "slide_type": "slide"
    }
   },
   "source": [
    "## ne plus pensez à `.git`"
   ]
  },
  {
   "cell_type": "markdown",
   "metadata": {},
   "source": [
    "maintenant que vous avez vu ce répertoire `.git`, on va s'efforcer de **l'oublier entièrement**, car ce n'est qu'un détail d'implémentation\n",
    "\n",
    "il est beaucoup plus important de se familiariser avec le modèle mental des objets de git, que de savoir en détail comment tout ça est rangé sur le disque."
   ]
  },
  {
   "cell_type": "code",
   "execution_count": null,
   "metadata": {},
   "outputs": [],
   "source": [
    "# malgré la présence de ce directory .git\n",
    "# si on demande la liste des fichiers 'normaux' \n",
    "# on voit un répertoire vide\n",
    "ls "
   ]
  },
  {
   "cell_type": "markdown",
   "metadata": {
    "slideshow": {
     "slide_type": "slide"
    }
   },
   "source": [
    "## premier commit"
   ]
  },
  {
   "cell_type": "markdown",
   "metadata": {},
   "source": [
    "les **principaux objets** dans ce modèle mental, ce sont les `commit`s. \n",
    "\n",
    "comme mon répository est vide, je n'ai encore aucun commit,  \n",
    "je le vérifie en visualisant la liste des commits :"
   ]
  },
  {
   "cell_type": "code",
   "execution_count": null,
   "metadata": {
    "tags": [
     "raises-exception"
    ]
   },
   "outputs": [],
   "source": [
    "# git log permet de lister les commits\n",
    "# il se plaint, c'est normal \n",
    "# car on n'a encore créé aucun commit\n",
    "git log"
   ]
  },
  {
   "cell_type": "markdown",
   "metadata": {
    "slideshow": {
     "slide_type": "slide"
    }
   },
   "source": [
    "## l'index"
   ]
  },
  {
   "cell_type": "markdown",
   "metadata": {},
   "source": [
    "* l'index est aussi appelé *stage*, il contient des **modifications pendantes**\n",
    "* sa raison est uniquement de **préparer** le prochain commit\n",
    "* on ajoute des changements dans l'index avec `git add`\n",
    "* lorsqu'on est satisfait on fait `git commit` \n",
    "  * qui crée un nouveau commit\n",
    "  * l'index devient donc identique au nouveau commit"
   ]
  },
  {
   "cell_type": "markdown",
   "metadata": {},
   "source": [
    "![](media/repo-contents-3-add-index-commit.png)"
   ]
  },
  {
   "cell_type": "markdown",
   "metadata": {
    "slideshow": {
     "slide_type": "notes"
    }
   },
   "source": [
    "Une fois qu'un changement a été fait - le plus souvent manuellement - sur un fichier source : `git add` permet de mettre le changement dans l'index, et une fois qu'on est satisfait du contenu de l'index, `git commit` crée un commit identique à l'index."
   ]
  },
  {
   "cell_type": "markdown",
   "metadata": {
    "slideshow": {
     "slide_type": "slide"
    }
   },
   "source": [
    "## création d'un commit"
   ]
  },
  {
   "cell_type": "markdown",
   "metadata": {},
   "source": [
    "![](media/changes-partial.png)"
   ]
  },
  {
   "cell_type": "markdown",
   "metadata": {
    "slideshow": {
     "slide_type": "notes"
    }
   },
   "source": [
    "dans un premier temps, on fait un changement, disons à partir d'un éditeur de texte ; ce changement `δ` se trouve donc entre l'espace de travail et l'index  \n",
    "\n",
    "avec `git add` on promeut e changement dans l'index, `δ` apparaît alors dans les différences entre l'index et le dernier commit  \n",
    "\n",
    "enfin avec `git commit` on crée un commit qui reprend tous les changements ajoutés dans l'index; juste après le commit, l'index redevient donc identique au dernier commit."
   ]
  },
  {
   "cell_type": "markdown",
   "metadata": {
    "slideshow": {
     "slide_type": "slide"
    }
   },
   "source": [
    "nous allons créer un premier commit; pour avoir quelque chose à y mettre, on crée un premier fichier `README.md`, avec quelques lignes dedans, et une faute d'orthographe :"
   ]
  },
  {
   "cell_type": "code",
   "execution_count": null,
   "metadata": {
    "cell_style": "center"
   },
   "outputs": [],
   "source": [
    "# là je triche, je crée README.md par script \n",
    "# imaginez que j'ai utilisé un éditeur de texte\n",
    "$SCRIPTS/do create-readme\n",
    "\n",
    "# voyons ce fichier\n",
    "cat README.md"
   ]
  },
  {
   "cell_type": "markdown",
   "metadata": {
    "slideshow": {
     "slide_type": "slide"
    }
   },
   "source": [
    "## `git status`"
   ]
  },
  {
   "cell_type": "markdown",
   "metadata": {},
   "source": [
    "pour savoir où on en est,  \n",
    "la commande `git status` nous indique surtout :\n",
    "\n",
    "* en rouge les fichiers qu'on pourrait ajouter à l'index\n",
    "* en vert les changements présents dans l'index (ici aucun)"
   ]
  },
  {
   "cell_type": "markdown",
   "metadata": {},
   "source": [
    "![](media/changes-reference.png)"
   ]
  },
  {
   "cell_type": "code",
   "execution_count": null,
   "metadata": {},
   "outputs": [],
   "source": [
    "# on a pour l'instant une différence \n",
    "# entre l'espace de travail et l'index: en rouge\n",
    "git status"
   ]
  },
  {
   "cell_type": "markdown",
   "metadata": {
    "slideshow": {
     "slide_type": "notes"
    }
   },
   "source": [
    "La commande `git status` est utile car elle résume où on en est, en indiquant notamment la branche courante (un peu de patience), les différences entre espace de travail et index (en rouge, ce qu'on pourrait `add`er), et les changements entre index et dernier commit (en vert, ce qui irait dans le prochain commit).\n",
    "\n",
    "Ici par exemple le fichier `README.md` n'est pas connu de `git`, on pourrait l'ajouter (c'est d'ailleurs ce qu'on va faire tout de suite), il apparaît en rouge.\n",
    "\n",
    "Comme pour toutes les commandes du système, de très nombreuses options sont disponibles, à consulter dans la documentation; vous pouvez par exemple faire pour cela `git status --help`"
   ]
  },
  {
   "cell_type": "markdown",
   "metadata": {
    "slideshow": {
     "slide_type": "slide"
    }
   },
   "source": [
    "`git add`"
   ]
  },
  {
   "cell_type": "markdown",
   "metadata": {},
   "source": [
    "pour créer un commit, il faut d'abord **ajouter**  \n",
    "avec `git add` des changements dans l'index,  \n",
    "pour **préparer** le contenu du commit :"
   ]
  },
  {
   "cell_type": "code",
   "execution_count": null,
   "metadata": {},
   "outputs": [],
   "source": [
    "git add README.md"
   ]
  },
  {
   "cell_type": "markdown",
   "metadata": {
    "slideshow": {
     "slide_type": "slide"
    }
   },
   "source": [
    "**remarque sur la granularité**\n",
    "\n",
    "* on peut ajouter dans l'index **ligne par ligne** si on veut\n",
    "* facile avec un GUI (Graphic User Interface)\n",
    "* fastidieux avec une CLI (Command Line Interface)\n",
    "  * ici on se contente d'ajouter d'un coup  \n",
    "    tous les changements d'un fichier"
   ]
  },
  {
   "cell_type": "markdown",
   "metadata": {
    "slideshow": {
     "slide_type": "slide"
    }
   },
   "source": [
    "**`git status` (après `add`)**"
   ]
  },
  {
   "cell_type": "code",
   "execution_count": null,
   "metadata": {},
   "outputs": [],
   "source": [
    "# notre différence est maintenant montrée en vert\n",
    "git status"
   ]
  },
  {
   "cell_type": "markdown",
   "metadata": {
    "slideshow": {
     "slide_type": "slide"
    }
   },
   "source": [
    "## `git commit`"
   ]
  },
  {
   "cell_type": "markdown",
   "metadata": {},
   "source": [
    "et maintenant nous pouvons créer notre premier commit, sans grande surprise, avec la commande `git commit`\n",
    "\n",
    "en pratique on fait juste `git commit` et ça ouvre un éditeur pour saisir le message; mais ici dans le notebook je ne peux pas passer par un éditeur, du coup je donne le commentaire sur la ligne de commande :"
   ]
  },
  {
   "cell_type": "code",
   "execution_count": null,
   "metadata": {},
   "outputs": [],
   "source": [
    "# en pratique vous pouvez faire simplement \n",
    "# git commit\n",
    "# et écrire le commentaire avec un éditeur de texte\n",
    "git commit -m 'my first commit: added README.md'"
   ]
  },
  {
   "cell_type": "markdown",
   "metadata": {
    "slideshow": {
     "slide_type": "slide"
    }
   },
   "source": [
    "**après le premier commit**"
   ]
  },
  {
   "cell_type": "markdown",
   "metadata": {},
   "source": [
    "pour voir la liste des commits: `git log`"
   ]
  },
  {
   "cell_type": "code",
   "execution_count": null,
   "metadata": {},
   "outputs": [],
   "source": [
    "# pour l'instant on n'en a qu'un\n",
    "git log"
   ]
  },
  {
   "cell_type": "markdown",
   "metadata": {
    "slideshow": {
     "slide_type": "slide"
    }
   },
   "source": [
    "**après le commit - suite**"
   ]
  },
  {
   "cell_type": "markdown",
   "metadata": {},
   "source": [
    "naturellement après un commit, le contenu de l'index est égal à celui du commit courant (celui qu'on vient de créer)"
   ]
  },
  {
   "cell_type": "code",
   "execution_count": null,
   "metadata": {},
   "outputs": [],
   "source": [
    "# il n'y a plus de changement dans l'index\n",
    "git status"
   ]
  },
  {
   "cell_type": "markdown",
   "metadata": {
    "slideshow": {
     "slide_type": "slide"
    }
   },
   "source": [
    "## la branche `master` "
   ]
  },
  {
   "cell_type": "markdown",
   "metadata": {},
   "source": [
    "remarquez aussi que `git status` nous dit : \n",
    "\n",
    "> `on branch master`\n",
    "\n",
    "on en reparlera, mais pour démystifier un peu :\n",
    "\n",
    "* `master` est le nom de la **branche courante**\n",
    "* elle désigne le dernier commit\n",
    "* et elle avance au fur et à mesure  \n",
    "  de la création des commits"
   ]
  },
  {
   "cell_type": "markdown",
   "metadata": {
    "slideshow": {
     "slide_type": "slide"
    }
   },
   "source": [
    "## index et abus de langage"
   ]
  },
  {
   "cell_type": "markdown",
   "metadata": {},
   "source": [
    "**ATTENTION** car:\n",
    "\n",
    "* il y a deux termes **interchangeables** *index* et *stage* \n",
    "  * ils désignent ce même concept de 'zone tampon'\n",
    "* et aussi, lorsqu'on parle de l'index\n",
    "  * parfois on fait référence à **son contenu**  \n",
    "    comme dans: \"après un commit, l'index est égal au nouveau commit\"\n",
    "\n",
    "  * parfois on fait référence **aux changements** par rapport au dernier commit  \n",
    "    «l'index est vide» ⇔ «l'index correspond au dernier commit»"
   ]
  },
  {
   "cell_type": "markdown",
   "metadata": {
    "slideshow": {
     "slide_type": "notes"
    }
   },
   "source": [
    "L'endroit (totalement abstrait naturellement) où on stocke les changements en vue du commit s'appelle indifféremment l'***index*** ou le ***stage*** - et oui, ce serait mieux s'il n'y avait qu'un nom, mais bon, c'est comme ça :)"
   ]
  },
  {
   "cell_type": "markdown",
   "metadata": {
    "slideshow": {
     "slide_type": "slide"
    }
   },
   "source": [
    "## c'est quoi un commit ?"
   ]
  },
  {
   "cell_type": "markdown",
   "metadata": {},
   "source": [
    "pour essayer de définir un commit de manière formelle,  \n",
    "un commit peut être vu comme :\n",
    "\n",
    "* la **liste** et les **contenus**  \n",
    "  des **fichiers** qui constituent une version,\n",
    "\n",
    "* le ou les parents: les **commits** dont ce commit **dépend**  \n",
    "  (pour ce premier commit, il n'y a pas de parent)\n",
    "\n",
    "* des métadata :  \n",
    "  l'auteur,  \n",
    "  un commentaire en texte libre, …  \n",
    "  \n",
    "pour l'instant c'est un peu abstrait, on en reparlera.."
   ]
  },
  {
   "cell_type": "markdown",
   "metadata": {
    "slideshow": {
     "slide_type": "slide"
    }
   },
   "source": [
    "## voir l'historique"
   ]
  },
  {
   "cell_type": "markdown",
   "metadata": {},
   "source": [
    "l'historique d'un répository git,  \n",
    "c'est donc principalement la liste des commits :"
   ]
  },
  {
   "cell_type": "code",
   "execution_count": null,
   "metadata": {},
   "outputs": [],
   "source": [
    "git log   "
   ]
  },
  {
   "cell_type": "markdown",
   "metadata": {
    "slideshow": {
     "slide_type": "slide"
    }
   },
   "source": [
    "## codage hexadécimal"
   ]
  },
  {
   "cell_type": "markdown",
   "metadata": {},
   "source": [
    "pour rappel, lorsqu'on utilise la base 16 pour représenter les entiers, on a besoin de 16 chiffres (ou digits)\n",
    "\n",
    "on a choisi `0`, .. `9`, `A`, `B` .. `F` - indifféremment en majuscule ou en minuscule\n",
    "\n",
    "où `A` = 10 et `F` = 15 \n",
    "\n",
    "ainsi par exemple `FF = 15*16 + 15 = 255`"
   ]
  },
  {
   "cell_type": "markdown",
   "metadata": {
    "slideshow": {
     "slide_type": "slide"
    }
   },
   "source": [
    "## chaque commit a son sha-1"
   ]
  },
  {
   "cell_type": "markdown",
   "metadata": {},
   "source": [
    "comme vous le voyez, notre commit a un identifiant (en orange), assez long (40 chiffres hexadécimaux, donc des caratères de 0 à F) pour qu'on soit sûr qu'il est unique; on appelle ça le **hash** du commit, ou encore son **sha1** - prononcer *chat-ouane*.\n",
    "\n",
    "40 caractères hexadécimaux, ça fait $40 * 4$ bits, donc $2^{160}$ hash différents; de l'ordre de $10^{50}$.\n",
    "\n",
    "en général, seulement 7 caractères suffisent pour disambigüer les commits dans un dépôt; en effet il y a $2^{7*4} = 2^{28} = 268435456$  \n",
    "suites de 7 digits hexadécimaux."
   ]
  },
  {
   "cell_type": "markdown",
   "metadata": {
    "slideshow": {
     "slide_type": "slide"
    }
   },
   "source": [
    "signalons tout de suite une présentation qui sera plus pratique, où chaque commit fait l'objet d'une ligne du rapport"
   ]
  },
  {
   "cell_type": "code",
   "execution_count": null,
   "metadata": {},
   "outputs": [],
   "source": [
    "# on reparlera de git log tout à l'heure\n",
    "git log --oneline"
   ]
  },
  {
   "cell_type": "markdown",
   "metadata": {
    "slideshow": {
     "slide_type": ""
    }
   },
   "source": [
    "la mention `(HEAD -> master)` nous indique que :\n",
    "\n",
    "* ce commit est le commit courant (`HEAD`)\n",
    "* la branche `master` est actuellement posée sur ce commit"
   ]
  },
  {
   "cell_type": "markdown",
   "metadata": {
    "slideshow": {
     "slide_type": "slide"
    }
   },
   "source": [
    "## un second commit"
   ]
  },
  {
   "cell_type": "markdown",
   "metadata": {},
   "source": [
    "utilisons la même technique pour créer un deuxième commit; cette fois nous allons créer un deuxième fichier `LICENSE`, et également modifier le premier `README.md`."
   ]
  },
  {
   "cell_type": "code",
   "execution_count": null,
   "metadata": {},
   "outputs": [],
   "source": [
    "$SCRIPTS/do create-license"
   ]
  },
  {
   "cell_type": "code",
   "execution_count": null,
   "metadata": {
    "slideshow": {
     "slide_type": "slide"
    }
   },
   "outputs": [],
   "source": [
    "# voici le contenu du fichier LICENSE\n",
    "cat LICENSE"
   ]
  },
  {
   "cell_type": "code",
   "execution_count": null,
   "metadata": {
    "cell_style": "split"
   },
   "outputs": [],
   "source": [
    "# comme on veut que ce nouveau \n",
    "# fichier fasse partie du deuxième \n",
    "# commit, on l'ajoute\n",
    "git add LICENSE"
   ]
  },
  {
   "cell_type": "code",
   "execution_count": null,
   "metadata": {
    "cell_style": "split"
   },
   "outputs": [],
   "source": [
    "# voilà ce que nous montre alors \"git status\"\n",
    "git status"
   ]
  },
  {
   "cell_type": "code",
   "execution_count": null,
   "metadata": {
    "cell_style": "center",
    "slideshow": {
     "slide_type": "slide"
    }
   },
   "outputs": [],
   "source": [
    "# maintenant je corrige la faute d'orthographe\n",
    "\n",
    "# de nouveau, normalement on fait ça avec un éditeur\n",
    "# ici j'utilise un outil en ligne de commande, peu importe...\n",
    "$SCRIPTS/do fix-readme "
   ]
  },
  {
   "cell_type": "code",
   "execution_count": null,
   "metadata": {
    "cell_style": "center"
   },
   "outputs": [],
   "source": [
    "# voici maintenant git status\n",
    "# remarquez ce qui est en vert et ce qui est en rouge\n",
    "# qui correspond aux deux étages\n",
    "git status"
   ]
  },
  {
   "cell_type": "markdown",
   "metadata": {
    "slideshow": {
     "slide_type": "slide"
    }
   },
   "source": [
    "dans l'immédiat je veux que la correction  \n",
    "du typo soit dans le prochain commit;  \n",
    "\n",
    "je commence par regarder ce qui a changé  \n",
    "(depuis le dernier commit donc)"
   ]
  },
  {
   "cell_type": "code",
   "execution_count": null,
   "metadata": {
    "cell_style": "split"
   },
   "outputs": [],
   "source": [
    "git diff"
   ]
  },
  {
   "cell_type": "code",
   "execution_count": null,
   "metadata": {
    "cell_style": "split",
    "slideshow": {
     "slide_type": ""
    }
   },
   "outputs": [],
   "source": [
    "# c'est bien ce que \n",
    "# je voulais faire\n",
    "# donc je peux ajouter\n",
    "# tout le fichier \n",
    "git add README.md"
   ]
  },
  {
   "cell_type": "markdown",
   "metadata": {
    "slideshow": {
     "slide_type": "notes"
    }
   },
   "source": [
    "La sortie de `git diff` contient pas mal de sucre pas forcément lisible, à destination notamment d'outils graphiques. Entre autres la ligne `@@ -1,4 +1,4 @@` signifie qu'on nous montre ici les lignes de 1 à 4 du fichier avant et après le changement."
   ]
  },
  {
   "cell_type": "code",
   "execution_count": null,
   "metadata": {
    "slideshow": {
     "slide_type": "slide"
    }
   },
   "outputs": [],
   "source": [
    "# regardons à nouveau git status\n",
    "# tout ce qui est en vert sera dans le prochain commit\n",
    "git status"
   ]
  },
  {
   "cell_type": "code",
   "execution_count": null,
   "metadata": {
    "slideshow": {
     "slide_type": ""
    }
   },
   "outputs": [],
   "source": [
    "# tous les changements montrés EN VERT vont faire partie du prochain commit\n",
    "git commit -m \"added LICENSE, changed README.md\""
   ]
  },
  {
   "cell_type": "markdown",
   "metadata": {
    "slideshow": {
     "slide_type": "slide"
    }
   },
   "source": [
    "## afficher le contenu du repository"
   ]
  },
  {
   "cell_type": "markdown",
   "metadata": {},
   "source": [
    "lister le contenu du repository, c'est donc afficher les commits qui sont dedans\n",
    "\n",
    "on l'a vu, le premier outil pour faire cela s'appelle `git log`"
   ]
  },
  {
   "cell_type": "code",
   "execution_count": null,
   "metadata": {},
   "outputs": [],
   "source": [
    "git log"
   ]
  },
  {
   "cell_type": "code",
   "execution_count": null,
   "metadata": {},
   "outputs": [],
   "source": [
    "# le format par défaut de git log est vite encombrant, si on veut condenser\n",
    "git log --oneline"
   ]
  },
  {
   "cell_type": "markdown",
   "metadata": {
    "slideshow": {
     "slide_type": "slide"
    }
   },
   "source": [
    "## `git log --graph`"
   ]
  },
  {
   "cell_type": "markdown",
   "metadata": {},
   "source": [
    "prenons aussi l'habitude d'appeler `git log` avec l'option `--graph`"
   ]
  },
  {
   "cell_type": "code",
   "execution_count": null,
   "metadata": {},
   "outputs": [],
   "source": [
    "git log --oneline --graph"
   ]
  },
  {
   "cell_type": "markdown",
   "metadata": {},
   "source": [
    "pour l'instant ça ne fait que d'ajouter cette petite étoile sur le coté gauche, mais c'est ça qui nous permettra de suivre les branches lorsqu'on en verra"
   ]
  },
  {
   "cell_type": "markdown",
   "metadata": {
    "slideshow": {
     "slide_type": "slide"
    }
   },
   "source": [
    "## raccourci"
   ]
  },
  {
   "cell_type": "code",
   "execution_count": null,
   "metadata": {},
   "outputs": [],
   "source": [
    "# on peut facilement se définir des raccourcis\n",
    "git config --global alias.l \"log --oneline --graph\"\n",
    "\n",
    "# du coup c'est plus rapide\n",
    "git l"
   ]
  },
  {
   "cell_type": "code",
   "execution_count": null,
   "metadata": {},
   "outputs": [],
   "source": [
    "# pour voir la documentation complète\n",
    "# de git log (attention très très long !)\n",
    "# tapez \n",
    "# git log --help"
   ]
  },
  {
   "cell_type": "markdown",
   "metadata": {
    "slideshow": {
     "slide_type": "slide"
    }
   },
   "source": [
    "## la branche `master`"
   ]
  },
  {
   "cell_type": "code",
   "execution_count": null,
   "metadata": {},
   "outputs": [],
   "source": [
    "git l"
   ]
  },
  {
   "cell_type": "markdown",
   "metadata": {},
   "source": [
    "vous remarquez aussi que le dernier commit est affiché avec le label `(HEAD -> master)`  \n",
    "cela signifie que \n",
    "\n",
    "* la branche `master` est actuellement sur ce commit, \n",
    "* et que c'est la branche courante (`HEAD` désigne la branche courante)"
   ]
  },
  {
   "cell_type": "markdown",
   "metadata": {
    "slideshow": {
     "slide_type": "slide"
    }
   },
   "source": [
    "c'est aussi ce que nous dit `git status` d'ailleurs :"
   ]
  },
  {
   "cell_type": "code",
   "execution_count": null,
   "metadata": {},
   "outputs": [],
   "source": [
    "git status"
   ]
  },
  {
   "cell_type": "markdown",
   "metadata": {
    "slideshow": {
     "slide_type": ""
    }
   },
   "source": [
    "à ce stade de notre avancement, le repository possède une seule branche qui s'appelle `master`;  \n",
    "c'est le nom par défaut, lorsqu'on crée un dépôt vide on se trouve sur la branche `master`\n",
    "\n",
    "et donc naturellement, comme pour l'instant on n'a qu'une seule branche,\n",
    "c'est aussi la branche courante (`On branch master`)"
   ]
  },
  {
   "cell_type": "markdown",
   "metadata": {
    "slideshow": {
     "slide_type": "slide"
    }
   },
   "source": [
    "## la branche courante"
   ]
  },
  {
   "cell_type": "markdown",
   "metadata": {
    "slideshow": {
     "slide_type": ""
    }
   },
   "source": [
    "à quoi sert cette branche ? pour nous pour l'instant, on peut se contenter de remarquer que\n",
    "\n",
    "* la branche désigne un commit\n",
    "* ce commit sera le *point de départ* du prochain commit (son parent);  \n",
    "* et aussi, la branche courante *avance* en même temps que nos commits;  \n",
    "  après le premier commit, `master` désignait le premier commit, après le second commit elle désigne le second commit.\n",
    "\n",
    "on verra qu'on peut très facilement créer plusieurs branches, et basculer facilement entre les différentes évolutions du code, qui peuvent tout à fait se faire en parallèle; mais n'anticipons pas…"
   ]
  },
  {
   "cell_type": "markdown",
   "metadata": {
    "slideshow": {
     "slide_type": "slide"
    }
   },
   "source": [
    "## créons quelques fichiers"
   ]
  },
  {
   "cell_type": "code",
   "execution_count": null,
   "metadata": {},
   "outputs": [],
   "source": [
    "# on crée deux fichiers; les détails importent peu\n",
    "$SCRIPTS/do create-code"
   ]
  },
  {
   "cell_type": "code",
   "execution_count": null,
   "metadata": {},
   "outputs": [],
   "source": [
    "$SCRIPTS/do create-doc"
   ]
  },
  {
   "cell_type": "code",
   "execution_count": null,
   "metadata": {
    "cell_style": "split"
   },
   "outputs": [],
   "source": [
    "# leur contenu\n",
    "cat factorial.py    "
   ]
  },
  {
   "cell_type": "code",
   "execution_count": null,
   "metadata": {
    "cell_style": "split"
   },
   "outputs": [],
   "source": [
    "cat factorial.md"
   ]
  },
  {
   "cell_type": "markdown",
   "metadata": {
    "slideshow": {
     "slide_type": "slide"
    }
   },
   "source": [
    "à ce stade nous avons donc :  \n",
    "deux fichiers dans le (dernier commit du) dépôt  \n",
    "et 2 fichiers nouveaux (inconnus de git) "
   ]
  },
  {
   "cell_type": "code",
   "execution_count": null,
   "metadata": {
    "cell_style": "split"
   },
   "outputs": [],
   "source": [
    "# les fichiers dans le commit courant \n",
    "# (en fait dans l'index mais ici c'est pareil)\n",
    "git ls-files"
   ]
  },
  {
   "cell_type": "code",
   "execution_count": null,
   "metadata": {
    "cell_style": "split"
   },
   "outputs": [],
   "source": [
    "# sur le disque\n",
    "ls -1"
   ]
  },
  {
   "cell_type": "markdown",
   "metadata": {},
   "source": [
    "et deux commits\n",
    "\n",
    "![](../media/repo-2c-1b.png)"
   ]
  },
  {
   "cell_type": "markdown",
   "metadata": {
    "slideshow": {
     "slide_type": "slide"
    }
   },
   "source": [
    "## deux autres commits"
   ]
  },
  {
   "cell_type": "markdown",
   "metadata": {},
   "source": [
    "l'intérêt de procéder en deux temps lorsqu'on fabrique un commit, c'est qu'on ne veut pas toujours mettre dans le prochain commit **tout ce qui a changé**\n",
    "\n",
    "imaginons par exemple que je touche aussi le README:"
   ]
  },
  {
   "cell_type": "code",
   "execution_count": null,
   "metadata": {
    "cell_style": "split"
   },
   "outputs": [],
   "source": [
    "# un changement dans README.md\n",
    "echo 'commit #3' >> README.md"
   ]
  },
  {
   "cell_type": "code",
   "execution_count": null,
   "metadata": {
    "cell_style": "split"
   },
   "outputs": [],
   "source": [
    "git status"
   ]
  },
  {
   "cell_type": "markdown",
   "metadata": {
    "slideshow": {
     "slide_type": "slide"
    }
   },
   "source": [
    "**commit #3**"
   ]
  },
  {
   "cell_type": "markdown",
   "metadata": {},
   "source": [
    "ici par exemple si je veux créer mon troisième commit:\n",
    "\n",
    "* **avec** le changement dans README.md\n",
    "* **avec** le code python `factorial.py`\n",
    "* mais **sans** le markdown de `factorial.md`\n",
    "\n",
    "je peux le faire comme ceci"
   ]
  },
  {
   "cell_type": "code",
   "execution_count": null,
   "metadata": {
    "cell_style": "split"
   },
   "outputs": [],
   "source": [
    "# je prépare le commit \n",
    "git add README.md factorial.py "
   ]
  },
  {
   "cell_type": "code",
   "execution_count": null,
   "metadata": {
    "cell_style": "split"
   },
   "outputs": [],
   "source": [
    "# je fais le commit\n",
    "git commit -m \"new code file, tweak README\""
   ]
  },
  {
   "cell_type": "code",
   "execution_count": null,
   "metadata": {
    "slideshow": {
     "slide_type": "slide"
    }
   },
   "outputs": [],
   "source": [
    "git l"
   ]
  },
  {
   "cell_type": "markdown",
   "metadata": {
    "slideshow": {
     "slide_type": "slide"
    }
   },
   "source": [
    "**commit #4**"
   ]
  },
  {
   "cell_type": "markdown",
   "metadata": {},
   "source": [
    "et je crée un quatrième commit, qui modifie à nouveau le readme, et ajoute la doc "
   ]
  },
  {
   "cell_type": "code",
   "execution_count": null,
   "metadata": {
    "cell_style": "split",
    "slideshow": {
     "slide_type": ""
    }
   },
   "outputs": [],
   "source": [
    "# un changement dans README.md\n",
    "echo 'commit #4' >> README.md"
   ]
  },
  {
   "cell_type": "code",
   "execution_count": null,
   "metadata": {
    "cell_style": "split",
    "slideshow": {
     "slide_type": ""
    }
   },
   "outputs": [],
   "source": [
    "# ici git status me montre que j'ai \n",
    "# (*) le fichier README.md modifié \n",
    "# (*) le fichier factorial.md\n",
    "#     qui n'est pas dans le dépôt\n",
    "git status"
   ]
  },
  {
   "cell_type": "code",
   "execution_count": null,
   "metadata": {
    "slideshow": {
     "slide_type": "slide"
    }
   },
   "outputs": [],
   "source": [
    "# si j'ajoute les deux fichiers README.md et factorial.md\n",
    "# je prépare un commit qui contient \n",
    "# tout ce qu'il y a dans mon répertoire de travail\n",
    "git add README.md factorial.md"
   ]
  },
  {
   "cell_type": "code",
   "execution_count": null,
   "metadata": {},
   "outputs": [],
   "source": [
    "# du coup tout est en vert\n",
    "git status"
   ]
  },
  {
   "cell_type": "code",
   "execution_count": null,
   "metadata": {
    "slideshow": {
     "slide_type": "slide"
    }
   },
   "outputs": [],
   "source": [
    "git commit -m \"adding markdown, we now have 4 files\""
   ]
  },
  {
   "cell_type": "code",
   "execution_count": null,
   "metadata": {},
   "outputs": [],
   "source": [
    "git l"
   ]
  },
  {
   "cell_type": "markdown",
   "metadata": {
    "slideshow": {
     "slide_type": "slide"
    }
   },
   "source": [
    "remarquez enfin que la branche master est toujours placée sur le tout dernier commit  \n",
    "c'est parce que c'est notre branche courante, elle suit les commits au fur et à mesure"
   ]
  },
  {
   "cell_type": "markdown",
   "metadata": {},
   "source": [
    "pour rappel, ce qu'on avait observé après deux commits :\n",
    "![](../media/repo-2c-1b.png)"
   ]
  },
  {
   "cell_type": "markdown",
   "metadata": {},
   "source": [
    "et maintenant\n",
    "![](media/repo-4c-1b.png)"
   ]
  },
  {
   "cell_type": "markdown",
   "metadata": {
    "slideshow": {
     "slide_type": "slide"
    }
   },
   "source": [
    "## le nom symbolique `HEAD`"
   ]
  },
  {
   "cell_type": "markdown",
   "metadata": {},
   "source": [
    "le nom `HEAD` désigne **toujours** le commit courant\n",
    "\n",
    "on va voir bientôt comment créer d'autres branches, et changer de branche, mais dans tous les cas `HEAD` désigne le commit courant"
   ]
  },
  {
   "cell_type": "markdown",
   "metadata": {
    "slideshow": {
     "slide_type": "slide"
    }
   },
   "source": [
    "## repository *vs* espace de travail"
   ]
  },
  {
   "cell_type": "markdown",
   "metadata": {},
   "source": [
    "à ce stade, il est crucial de bien faire la différence entre :"
   ]
  },
  {
   "cell_type": "markdown",
   "metadata": {
    "slideshow": {
     "slide_type": ""
    }
   },
   "source": [
    "* les **fichiers** présents dans le répertoire, qui appartiennent à ce qu'on appelle l'**espace de travail**\n",
    "* les **commits** appartiennent quant à eux au **repository**  \n",
    "  (concrètement dans le répertoire `.git`)\n",
    "\n",
    "* les commits contiennent naturellement des fichiers\n",
    "* mais on n'a pas forcément correspondance parfaite \n",
    "  entre espace de travail et dernier commit\n",
    "\n",
    "  * ex. fichier en cours de modification\n",
    "  * fichiers présents mais pas ajoutés dans git"
   ]
  },
  {
   "cell_type": "markdown",
   "metadata": {
    "slideshow": {
     "slide_type": "slide"
    }
   },
   "source": [
    "## maintien en cohérence"
   ]
  },
  {
   "cell_type": "markdown",
   "metadata": {},
   "source": [
    "le plus souvent, le workflow consiste pour vous à modifier les fichiers, et une fois que vous êtes satisfait, à ranger ces nouvelles versions des fichiers dans un commit - en passant par l'index.\n",
    "\n",
    "    espace de travail → index → dépôt"
   ]
  },
  {
   "cell_type": "markdown",
   "metadata": {
    "slideshow": {
     "slide_type": "slide"
    }
   },
   "source": [
    "## maintien en cohérence"
   ]
  },
  {
   "cell_type": "markdown",
   "metadata": {},
   "source": [
    " \n",
    "mais il faut bien comprendre, et le plus tôt sera le mieux, que dans certains cas, c'est l'**inverse qui se produit**\n",
    "\n",
    "    dépôt -> espace de travail\n",
    "\n",
    "par exemple:\n",
    "\n",
    "1. un collègue a publié une nouvelle version sur github\n",
    "2. vous allez la chercher et vous l'intégrez à votre travail\n",
    "3. naturellement vous voulez que vos fichiers reflètent ce changement"
   ]
  },
  {
   "cell_type": "markdown",
   "metadata": {
    "slideshow": {
     "slide_type": "slide"
    }
   },
   "source": [
    "## l'éditeur n'est pas le seul acteur à changer les fichiers"
   ]
  },
  {
   "cell_type": "markdown",
   "metadata": {},
   "source": [
    "du coup, on ne **peut plus** partir du principe que c'est seulement l'éditeur qui change vos fichiers\n",
    "\n",
    "c'est pourquoi les éditeurs modernes savent se rendre compte lorsqu'un fichier en édition a changé sur le disque\n",
    "\n",
    "**ATTENTION** si vous utilisez un éditeur qui ne signale pas ce genre de cas"
   ]
  },
  {
   "cell_type": "markdown",
   "metadata": {
    "slideshow": {
     "slide_type": "slide"
    }
   },
   "source": [
    "## fichier éditable, commit immutable"
   ]
  },
  {
   "cell_type": "markdown",
   "metadata": {},
   "source": [
    "* les fichiers qui sont dans votre espace de travail,  \n",
    "  comme `README.md` et `LICENSE`, sont des fichiers usuels,  \n",
    "  vous pouvez donc les modifier, bien entendu\n",
    "\n",
    "* par contre, une fois qu'un commit est créé,  \n",
    "  on ne **peut plus le modifier**:  \n",
    "\n",
    "  * bien sûr, si on s'est loupé on peut toujours revenir en arrière et créer **un autre** commit\n",
    "  * mais on ne peut pas modifier un commit qui a été créé "
   ]
  },
  {
   "cell_type": "markdown",
   "metadata": {
    "slideshow": {
     "slide_type": "slide"
    }
   },
   "source": [
    "## graphe des commits"
   ]
  },
  {
   "cell_type": "markdown",
   "metadata": {},
   "source": [
    "un point important pour comprendre la logique des outils git :\n",
    "\n",
    "* un commit contient notamment des références vers  \n",
    "  le⋅s commit⋅s *parent* sur lesquels il a été construit \n",
    "\n",
    "* comme c'est un immutable, on ne peut pas le modifier  \n",
    "  a posteriori pour lui ajouter la référence inverse\n",
    "\n",
    "* le graphe est donc orienté dans un seul sens\n",
    "* en partant de mon HEAD actuel je peux parcourir les 4 commits\n",
    "  * mais en partant du premier commit je ne **peux pas**  \n",
    "  \"remonter\" vers le HEAD actuel"
   ]
  },
  {
   "cell_type": "markdown",
   "metadata": {
    "slideshow": {
     "slide_type": "slide"
    }
   },
   "source": [
    "## navigation dans les commits"
   ]
  },
  {
   "cell_type": "markdown",
   "metadata": {},
   "source": [
    "**NOTE** \n",
    "\n",
    "* on va introduire ici une notion plutôt avancée\n",
    "* j'en ai surtout besoin dans le cours pour que le scénario soit répétable \n",
    "* il n'est pas forcément utile de retenir les détails\n",
    "* juste savoir que ça existe"
   ]
  },
  {
   "cell_type": "markdown",
   "metadata": {
    "slideshow": {
     "slide_type": "slide"
    }
   },
   "source": [
    "## navigation dans les commits"
   ]
  },
  {
   "cell_type": "markdown",
   "metadata": {
    "cell_style": "split"
   },
   "source": [
    "`git` propose un mécanisme permettant de \"naviguer\" dans le graphe de commits\n",
    "\n",
    "* la forme en `^`\n",
    "  * `HEAD^` est le (premier) parent\n",
    "  * `HEAD^2` est de deuxième parent\n",
    "  \n",
    "* la forme en `~`\n",
    "  * `HEAD~` est le parent\n",
    "  * `HEAD~2` est le parent du parent\n"
   ]
  },
  {
   "cell_type": "markdown",
   "metadata": {
    "cell_style": "split"
   },
   "source": [
    "![](media/navigate-in-commits.png)"
   ]
  },
  {
   "cell_type": "markdown",
   "metadata": {
    "slideshow": {
     "slide_type": "notes"
    }
   },
   "source": [
    "Naturellement le `X` du diagramme peut être lui-même, en pratique : un sha-1, un nom de branche, de manière générale toute forme qui désigne un commit."
   ]
  },
  {
   "cell_type": "code",
   "execution_count": null,
   "metadata": {
    "slideshow": {
     "slide_type": "slide"
    }
   },
   "outputs": [],
   "source": [
    "# par exemple si je parcours les commits en partant de HEAD\n",
    "# j'en vois donc 4\n",
    "git l HEAD"
   ]
  },
  {
   "cell_type": "code",
   "execution_count": null,
   "metadata": {
    "cell_style": "split",
    "slideshow": {
     "slide_type": ""
    }
   },
   "outputs": [],
   "source": [
    "# si je pars de HEAD^, je n'en plus que 3\n",
    "git l HEAD^"
   ]
  },
  {
   "cell_type": "code",
   "execution_count": null,
   "metadata": {
    "cell_style": "split"
   },
   "outputs": [],
   "source": [
    "# et ainsi de suite\n",
    "git log --oneline HEAD^^"
   ]
  },
  {
   "cell_type": "markdown",
   "metadata": {},
   "source": [
    "il y a plein d'autres façons de désigner un commit, notamment bien sûr par son *sha-1*; mais bon ne nous égarons pas"
   ]
  },
  {
   "cell_type": "markdown",
   "metadata": {
    "slideshow": {
     "slide_type": "slide"
    }
   },
   "source": [
    "## résumé"
   ]
  },
  {
   "cell_type": "markdown",
   "metadata": {},
   "source": [
    "les points à retenir:\n",
    "\n",
    "* on crée un dépôt local avec `git init`\n",
    "* on crée un commit en deux temps:\n",
    "  * `git add` pour accumuler des changements dans le *stage* ou l'*index*\n",
    "  * `git commit` pour créer le commit\n",
    "  * le commit est créé le long de la branche courante\n",
    "* un dépôt est essentiellement un ensemble de commits\n",
    "  * liés entre eux par un graphe acyclique\n",
    "* un commit peut être identifié par\n",
    "  * le nom spécial `HEAD`\n",
    "  * ou un nom de branche\n",
    "  * ou un SHA-1\n",
    "  * ou comme l'ancêtre d'un commit avec les notations `HEAD^` ou `master~2`"
   ]
  },
  {
   "cell_type": "markdown",
   "metadata": {
    "slideshow": {
     "slide_type": "slide"
    }
   },
   "source": [
    "## état\n",
    "\n",
    "à toutes fins utiles, en sortie de ce premier scénario, nous sommes dans cet état :"
   ]
  },
  {
   "cell_type": "code",
   "execution_count": null,
   "metadata": {},
   "outputs": [],
   "source": [
    "git l --all"
   ]
  }
 ],
 "metadata": {
  "celltoolbar": "Slideshow",
  "ipub": {
   "sphinx": {
    "toggle_input": true,
    "toggle_input_all": true,
    "toggle_output": true,
    "toggle_output_all": true
   }
  },
  "kernelspec": {
   "display_name": "Calysto Bash",
   "language": "bash",
   "name": "calysto_bash"
  },
  "language_info": {
   "file_extension": ".sh",
   "help_links": [
    {
     "text": "MetaKernel Magics",
     "url": "https://metakernel.readthedocs.io/en/latest/source/README.html"
    }
   ],
   "mimetype": "text/x-sh",
   "name": "bash",
   "version": "0.2.1"
  },
  "notebookname": "mon premier dépôt",
  "rise": {
   "autolaunch": true,
   "slideNumber": "c/t",
   "start_slideshow_at": "selected",
   "theme": "sky",
   "transition": "cube"
  },
  "version": "1.0"
 },
 "nbformat": 4,
 "nbformat_minor": 2
}

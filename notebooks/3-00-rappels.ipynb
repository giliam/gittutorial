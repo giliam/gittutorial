{
 "cells": [
  {
   "cell_type": "markdown",
   "metadata": {},
   "source": [
    "<div class=\"licence\">\n",
    "<span>Licence CC BY-NC-ND</span>\n",
    "<span>Thierry Parmentelat</span>\n",
    "<span><img src=\"../media/inria-25-alpha.png\" /></span>\n",
    "</div>"
   ]
  },
  {
   "cell_type": "markdown",
   "metadata": {
    "slideshow": {
     "slide_type": ""
    }
   },
   "source": [
    "# rappels sur la session 1  \n",
    "  dépôt local"
   ]
  },
  {
   "cell_type": "markdown",
   "metadata": {
    "slideshow": {
     "slide_type": "slide"
    }
   },
   "source": [
    "## répertoire courant\n",
    "\n",
    "dans le terminal :\n",
    "\n",
    "* `pwd` pour afficher le répertoire courant\n",
    "* `cd` pour retourner dans votre *homedir* \n",
    "* `cd sous-répertoire` pour descendre dans un sous-répertoire\n",
    "* `cd ..` pour remonter d'un étage"
   ]
  },
  {
   "cell_type": "markdown",
   "metadata": {
    "slideshow": {
     "slide_type": "slide"
    }
   },
   "source": [
    "## basique\n",
    "\n",
    "* création avec `git init`\n",
    "* les trois arbres : fichiers, index et commit\n",
    "* création d'un commit en deux temps\n",
    "  * `git add`\n",
    "  * `git commit`\n",
    "* pour désigner un commit\n",
    "  * `HEAD` : le commit courant\n",
    "  * `nom-de-branche`\n",
    "  * SHA-1\n",
    "  * opérateurs de navigation `^` et `~`  \n",
    "   e.g. 'HEAD^' ou `la-branche~`\n"
   ]
  },
  {
   "cell_type": "markdown",
   "metadata": {
    "slideshow": {
     "slide_type": "slide"
    }
   },
   "source": [
    "##  branches\n",
    "\n",
    "* branche créée dans un dépôt vierge:  \n",
    "  `master` \n",
    "\n",
    "* création d'une branche  \n",
    "  `git branch la-branche commit-id` \n",
    "\n",
    "* changement de branche  \n",
    "  `git checkout la-branche`\n",
    "\n",
    "* création et changement en 1 commande  \n",
    "  `git checkout -b l-branche le-commit`"
   ]
  },
  {
   "cell_type": "markdown",
   "metadata": {
    "slideshow": {
     "slide_type": "slide"
    }
   },
   "source": [
    "## observation du dépôt\n",
    "\n",
    "* `git log` pour lister les commits  \n",
    "  parcourt le graphe des commits en partant de la branche courante  \n",
    "  `git log --all` pour partir de toutes les branches connues\n",
    "\n",
    "* `git status` pour un résumé de où on en est  \n",
    "  le fichier `.gitignore` pour ne pas encombrer la sortie avec des fichiers annexes\n",
    "\n",
    "* `git diff` pour voir les différences entre commit ou avec l'index ou les fichiers"
   ]
  },
  {
   "cell_type": "markdown",
   "metadata": {
    "slideshow": {
     "slide_type": "slide"
    }
   },
   "source": [
    "## le propos de la session 2\n",
    "\n",
    "* comment synchroniser deux dépôts  \n",
    "  `clone`, `fetch`, `pull` et `push`\n",
    "\n",
    "* comment récrire l'histoire\n",
    "  `commit --amend`, `rebase`\n",
    "\n",
    "* autres fonctions avancées (en option)"
   ]
  }
 ],
 "metadata": {
  "celltoolbar": "Slideshow",
  "ipub": {
   "sphinx": {
    "toggle_input": true,
    "toggle_input_all": true,
    "toggle_output": true,
    "toggle_output_all": true
   }
  },
  "kernelspec": {
   "display_name": "Calysto Bash",
   "language": "bash",
   "name": "calysto_bash"
  },
  "language_info": {
   "file_extension": ".sh",
   "help_links": [
    {
     "text": "MetaKernel Magics",
     "url": "https://metakernel.readthedocs.io/en/latest/source/README.html"
    }
   ],
   "mimetype": "text/x-sh",
   "name": "bash",
   "version": "0.2.1"
  },
  "notebookname": "rappels sur la session 1 - dépôt local",
  "rise": {
   "autolaunch": true,
   "slideNumber": "c/t",
   "start_slideshow_at": "selected",
   "theme": "sky",
   "transition": "cube"
  },
  "version": "1.0"
 },
 "nbformat": 4,
 "nbformat_minor": 2
}

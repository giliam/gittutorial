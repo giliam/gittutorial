{
 "cells": [
  {
   "cell_type": "markdown",
   "metadata": {
    "slideshow": {
     "slide_type": "slide"
    }
   },
   "source": [
    "<div class=\"licence\">\n",
    "<span>Licence CC BY-NC-ND</span>\n",
    "<span>Thierry Parmentelat</span>\n",
    "<span><img src=\"media/inria-25-alpha.png\" /></span>\n",
    "</div>"
   ]
  },
  {
   "cell_type": "markdown",
   "metadata": {
    "slideshow": {
     "slide_type": ""
    }
   },
   "source": [
    "# ordre et atteignabilité"
   ]
  },
  {
   "cell_type": "code",
   "execution_count": null,
   "metadata": {
    "slideshow": {
     "slide_type": "slide"
    }
   },
   "outputs": [],
   "source": [
    "# ce sera toujours notre façon de commencer\n",
    "[ -f scripts/helpers.sh ] && source scripts/helpers.sh"
   ]
  },
  {
   "cell_type": "markdown",
   "metadata": {
    "slideshow": {
     "slide_type": "slide"
    }
   },
   "source": [
    "## reprenons"
   ]
  },
  {
   "cell_type": "code",
   "execution_count": null,
   "metadata": {
    "slideshow": {
     "slide_type": ""
    }
   },
   "outputs": [],
   "source": [
    "# si nécessaire, vous pouvez remettre le repository en l'état\n",
    "# \n",
    "# pour cela mettez \"true\" au lieu de \"\"\n",
    "# et bien sûr évaluer la cellule\n",
    "\n",
    "reset=\"\"\n",
    "\n",
    "if [ -n \"$reset\" ]; then \n",
    "    cd $TOP\n",
    "    bash $SCRIPTS/2-01-my-first-repo.sh\n",
    "    bash $SCRIPTS/2-02-consistency-repo-fs.sh\n",
    "    bash $SCRIPTS/2-03-my-first-merge.sh\n",
    "    bash $SCRIPTS/2-04-kinds-of-merge.sh\n",
    "fi >& /dev/null"
   ]
  },
  {
   "cell_type": "markdown",
   "metadata": {
    "slideshow": {
     "slide_type": "slide"
    }
   },
   "source": [
    "## le point"
   ]
  },
  {
   "cell_type": "code",
   "execution_count": null,
   "metadata": {},
   "outputs": [],
   "source": [
    "# si nécessaire, on se place dans le dépôt git\n",
    "[ -d my-first-repo ] && cd my-first-repo\n",
    "\n",
    "pwd"
   ]
  },
  {
   "cell_type": "code",
   "execution_count": null,
   "metadata": {
    "cell_style": "split",
    "slideshow": {
     "slide_type": ""
    }
   },
   "outputs": [],
   "source": [
    "# ceci compte les commits\n",
    "# vous devez en avoir 9 \n",
    "git log --oneline | wc -l\n"
   ]
  },
  {
   "cell_type": "code",
   "execution_count": null,
   "metadata": {
    "cell_style": "split"
   },
   "outputs": [],
   "source": [
    "# le dernier s'appelle 'conflit résolu'\n",
    "git log -1 --format=\"%s\""
   ]
  },
  {
   "cell_type": "markdown",
   "metadata": {
    "slideshow": {
     "slide_type": "notes"
    }
   },
   "source": [
    "`git log` permet - entre beaucoup d'autres choses - de choisir ce qu'on veut afficher comme information sur les commits; pour plus de détails reportez vous [par exemple à ceci](https://git-scm.com/docs/pretty-formats)."
   ]
  },
  {
   "cell_type": "code",
   "execution_count": null,
   "metadata": {},
   "outputs": [],
   "source": [
    "# et la branche courante est master\n",
    "git branch"
   ]
  },
  {
   "cell_type": "markdown",
   "metadata": {
    "slideshow": {
     "slide_type": "notes"
    }
   },
   "source": []
  },
  {
   "cell_type": "markdown",
   "metadata": {
    "cell_style": "split",
    "slideshow": {
     "slide_type": "slide"
    }
   },
   "source": [
    "## liens entre commits"
   ]
  },
  {
   "cell_type": "markdown",
   "metadata": {
    "cell_style": "split",
    "slideshow": {
     "slide_type": "slide"
    }
   },
   "source": [
    "* on a vu qu'un commit est immutable\n",
    "* ça signifie qu'une fois créé on ne peut pas le changer\n",
    "* donc par construction un commit ne peut \n",
    "  * **que connaitre ses parents**\n",
    "  * c'-à-d les commits **sur lesquels** il est construit\n",
    "* et n'a **pas de lien \"montant\"**\n",
    "  * vers les commits qui l'utilisent par la suite"
   ]
  },
  {
   "cell_type": "markdown",
   "metadata": {
    "cell_style": "split"
   },
   "source": [
    "<img src=\"media/order-4-down.png\" width=\"140px\">"
   ]
  },
  {
   "cell_type": "markdown",
   "metadata": {
    "slideshow": {
     "slide_type": "slide"
    }
   },
   "source": [
    "## atteignabilité"
   ]
  },
  {
   "cell_type": "markdown",
   "metadata": {},
   "source": [
    "* lorsqu'on fait par exemple `git log` \n",
    "  * on part (du commit) de la branche courante\n",
    "  * on suit par transitivité la relation *parent* \n",
    "* il arrive (on a déjà vu des exemples) \n",
    "  * qu'avec ce point de vue\n",
    "  * on ne \"voie pas\" certains commits\n",
    "  * qui pourtant sont bien là "
   ]
  },
  {
   "cell_type": "markdown",
   "metadata": {
    "slideshow": {
     "slide_type": "slide"
    }
   },
   "source": [
    "## exemples"
   ]
  },
  {
   "cell_type": "code",
   "execution_count": null,
   "metadata": {
    "cell_style": "split"
   },
   "outputs": [],
   "source": [
    "# le point de départ \n",
    "# par défaut est HEAD\n",
    "\n",
    "git l"
   ]
  },
  {
   "cell_type": "code",
   "execution_count": null,
   "metadata": {
    "cell_style": "split"
   },
   "outputs": [],
   "source": [
    "# si je donne un point de départ\n",
    "\n",
    "git l devel"
   ]
  },
  {
   "cell_type": "markdown",
   "metadata": {
    "slideshow": {
     "slide_type": "slide"
    }
   },
   "source": [
    "## points de départ usuels"
   ]
  },
  {
   "cell_type": "markdown",
   "metadata": {
    "cell_style": "split"
   },
   "source": [
    "selon les cas (commande CLI, UI, ..) le point de départ est\n",
    "\n",
    "* souvent (le commit de) la branche courante\n",
    "* ou une branche qu'on précise sur la ligne de commande\n",
    "* ou toutes les branches connues (ex. `git log --all`)"
   ]
  },
  {
   "cell_type": "code",
   "execution_count": null,
   "metadata": {
    "cell_style": "split"
   },
   "outputs": [],
   "source": [
    "# en partant d'un commit précis\n",
    "\n",
    "git l HEAD~2"
   ]
  },
  {
   "cell_type": "markdown",
   "metadata": {
    "slideshow": {
     "slide_type": "slide"
    }
   },
   "source": [
    "## application"
   ]
  },
  {
   "cell_type": "markdown",
   "metadata": {},
   "source": [
    "* on peut - par exemple - tirer parti de cette particularité\n",
    "* pour \"revenir en arrière\" ou \"récrire l'histoire\"\n",
    "* voyons par exemple comment je pourrais défaire notre dernier merge"
   ]
  },
  {
   "cell_type": "markdown",
   "metadata": {},
   "source": [
    "pour cela\n",
    "\n",
    "* il me suffit de faire un `git reset --hard HEAD^`\n",
    "* la branche master recule d'un cran\n",
    "* le commit *conflit résolu* **existe toujours** \n",
    "* sauf que \n",
    "  * on n'a plus de façon de le trouver à partir des branches connues\n",
    "  * on peut toujours le retrouver à partir de son SHA-1"
   ]
  },
  {
   "cell_type": "raw",
   "metadata": {},
   "source": []
  },
  {
   "cell_type": "raw",
   "metadata": {
    "slideshow": {
     "slide_type": "notes"
    }
   },
   "source": [
    "Nous étudierons plus en détail le comportement de `git reset` dans une section ultérieure; ici avec l'option `--hard`, son effet est de faire reculer d'un cran - parce que `HEAD^` - la branche courante, et de remettre les fichiers dans l'état de ce commit.\n",
    "\n",
    "Lorsqu'un commit - comme ici *conflit résolu*) n'est plus atteignable à partir des branches connues, on peut avoir l'impression qu'il a été supprimé; ce n'est pas le cas en réalité - en tous cas pas immédiatement - il existe toujours dans le dépôt, mais on ne peut plus y faire référence que au travers de son SHA-1."
   ]
  },
  {
   "cell_type": "markdown",
   "metadata": {
    "slideshow": {
     "slide_type": "slide"
    }
   },
   "source": [
    "## revenir en arrière (1)"
   ]
  },
  {
   "cell_type": "code",
   "execution_count": null,
   "metadata": {
    "cell_style": "split"
   },
   "outputs": [],
   "source": [
    "git l"
   ]
  },
  {
   "cell_type": "code",
   "execution_count": null,
   "metadata": {
    "cell_style": "split"
   },
   "outputs": [],
   "source": [
    "# je fais comme si je notais le sha-1\n",
    "# du sommet sur un bout de papier\n",
    "\n",
    "ghost=$(git log -1 --format='%h')\n",
    "echo $ghost"
   ]
  },
  {
   "cell_type": "code",
   "execution_count": null,
   "metadata": {
    "cell_style": "split"
   },
   "outputs": [],
   "source": [
    "# la branche courante est master\n",
    "# on la fait reculer d'un cran\n",
    "git reset --hard HEAD^"
   ]
  },
  {
   "cell_type": "markdown",
   "metadata": {
    "slideshow": {
     "slide_type": "notes"
    }
   },
   "source": [
    "On ne détaille pas le code *bash* qui permet de ranger le SHA-1 dans la variable `ghost`"
   ]
  },
  {
   "cell_type": "markdown",
   "metadata": {
    "slideshow": {
     "slide_type": "slide"
    }
   },
   "source": [
    "## revenir en arrière (2)"
   ]
  },
  {
   "cell_type": "code",
   "execution_count": null,
   "metadata": {
    "cell_style": "split"
   },
   "outputs": [],
   "source": [
    "# si je regarde master, je ne vois plus devel\n",
    "git l"
   ]
  },
  {
   "cell_type": "code",
   "execution_count": null,
   "metadata": {
    "cell_style": "split"
   },
   "outputs": [],
   "source": [
    "# si je regarde les branches connues\n",
    "# je ne vois plus le merge 'conflit résolu'\n",
    "git l --all"
   ]
  },
  {
   "cell_type": "markdown",
   "metadata": {
    "slideshow": {
     "slide_type": "slide"
    }
   },
   "source": [
    "## revenir en arrière (3)"
   ]
  },
  {
   "cell_type": "markdown",
   "metadata": {},
   "source": [
    "à ce stade la plupart des outils (CLI ou UI) ne montrera plus le merge, mais :"
   ]
  },
  {
   "cell_type": "code",
   "execution_count": null,
   "metadata": {
    "cell_style": "split"
   },
   "outputs": [],
   "source": [
    "# en précisant le hash\n",
    "# je peux toujours accéder au\n",
    "# commit 'conflit résolu'\n",
    "git l $ghost"
   ]
  },
  {
   "cell_type": "markdown",
   "metadata": {
    "cell_style": "split"
   },
   "source": [
    "en pratique:\n",
    "\n",
    "* ce commit qui n'est **plus accessible à partir des branches** finira vraisemblablement par se faire nettoyer par le *garbage collector*\n",
    "\n",
    "* sauf action spécifique, ce sera au bout de plusieurs jours.."
   ]
  },
  {
   "cell_type": "markdown",
   "metadata": {
    "slideshow": {
     "slide_type": "slide"
    }
   },
   "source": [
    "## défaire le retour en arrière"
   ]
  },
  {
   "cell_type": "markdown",
   "metadata": {},
   "source": [
    "exercice : pour le sport, comment revenir à la situation initiale ?  \n",
    "i.e. remettre master sur le commit 'conflit résolu' "
   ]
  },
  {
   "cell_type": "markdown",
   "metadata": {
    "slideshow": {
     "slide_type": "slide"
    }
   },
   "source": [
    "## défaire le retour en arrière : réponse"
   ]
  },
  {
   "cell_type": "markdown",
   "metadata": {},
   "source": [
    "réponse\n",
    "\n",
    "* il suffit de merger notre commit `ghost` dans `master`\n",
    "* c'est bien sûr un fast-forward, inutile de créer un commit "
   ]
  },
  {
   "cell_type": "code",
   "execution_count": null,
   "metadata": {
    "cell_style": "split"
   },
   "outputs": [],
   "source": [
    "# on est toujours dans master\n",
    "git branch"
   ]
  },
  {
   "cell_type": "code",
   "execution_count": null,
   "metadata": {
    "cell_style": "split"
   },
   "outputs": [],
   "source": [
    "git merge $ghost"
   ]
  },
  {
   "cell_type": "code",
   "execution_count": null,
   "metadata": {},
   "outputs": [],
   "source": [
    "git l"
   ]
  },
  {
   "cell_type": "markdown",
   "metadata": {
    "slideshow": {
     "slide_type": "slide"
    }
   },
   "source": [
    "## gestion des branches"
   ]
  },
  {
   "cell_type": "markdown",
   "metadata": {},
   "source": [
    "*rappel* : le moyen usuel pour à la fois\n",
    "\n",
    "* créer une **nouvelle** branche\n",
    "* et la rendre **courante**\n",
    "\n",
    "est de faire `git checkout -b nouvelle-branche`"
   ]
  },
  {
   "cell_type": "markdown",
   "metadata": {},
   "source": [
    "on va voir à présent les commandes pour manipuler les branches de manière plus élémentaire"
   ]
  },
  {
   "cell_type": "markdown",
   "metadata": {
    "slideshow": {
     "slide_type": "notes"
    }
   },
   "source": [
    "La fin de cette partie peut être sautée en première lecture, on n'y introduit pas de nouveau concept."
   ]
  },
  {
   "cell_type": "markdown",
   "metadata": {
    "slideshow": {
     "slide_type": "slide"
    }
   },
   "source": [
    "## `git branch`"
   ]
  },
  {
   "cell_type": "markdown",
   "metadata": {
    "cell_style": "center"
   },
   "source": [
    "la branche courante, c'est celle qui correspond à `HEAD`"
   ]
  },
  {
   "cell_type": "code",
   "execution_count": null,
   "metadata": {
    "cell_style": "split"
   },
   "outputs": [],
   "source": [
    "# git branch, sans option\n",
    "# montre la liste des branches\n",
    "# la branche courante est mise en relief\n",
    "\n",
    "git branch"
   ]
  },
  {
   "cell_type": "code",
   "execution_count": null,
   "metadata": {
    "cell_style": "split"
   },
   "outputs": [],
   "source": [
    "# git log -1 : pour ne voir que un commit\n",
    "git log --oneline -1 HEAD"
   ]
  },
  {
   "cell_type": "code",
   "execution_count": null,
   "metadata": {},
   "outputs": [],
   "source": [
    "git l --all"
   ]
  },
  {
   "cell_type": "markdown",
   "metadata": {
    "slideshow": {
     "slide_type": "slide"
    }
   },
   "source": [
    "## `git branch` : créer"
   ]
  },
  {
   "cell_type": "code",
   "execution_count": null,
   "metadata": {
    "cell_style": "center"
   },
   "outputs": [],
   "source": [
    "# pour juste créer une branche (sans y aller)\n",
    "# donner simplement un nom et un commit\n",
    "\n",
    "git branch foobar HEAD~2\n",
    "\n",
    "git l --all"
   ]
  },
  {
   "cell_type": "markdown",
   "metadata": {
    "slideshow": {
     "slide_type": "slide"
    }
   },
   "source": [
    "## `git branch` : renommer"
   ]
  },
  {
   "cell_type": "code",
   "execution_count": null,
   "metadata": {
    "slideshow": {
     "slide_type": ""
    }
   },
   "outputs": [],
   "source": [
    "# pour renommer une branche \n",
    "# (même la branche courante d'ailleurs)\n",
    "\n",
    "git branch -m foobar trucmuche\n",
    "\n",
    "git l --all"
   ]
  },
  {
   "cell_type": "markdown",
   "metadata": {
    "slideshow": {
     "slide_type": "slide"
    }
   },
   "source": [
    "## `git branch` : détruire"
   ]
  },
  {
   "cell_type": "code",
   "execution_count": null,
   "metadata": {
    "cell_style": "split",
    "slideshow": {
     "slide_type": ""
    }
   },
   "outputs": [],
   "source": [
    "# pour détruire une branche\n",
    "\n",
    "git branch -d trucmuche\n",
    "\n",
    "git l --all\n"
   ]
  },
  {
   "cell_type": "markdown",
   "metadata": {
    "cell_style": "split"
   },
   "source": [
    "on verra plus loin les précautions à prendre"
   ]
  },
  {
   "cell_type": "markdown",
   "metadata": {
    "slideshow": {
     "slide_type": "slide"
    }
   },
   "source": [
    "## branche comme signet"
   ]
  },
  {
   "cell_type": "markdown",
   "metadata": {},
   "source": [
    "* tout à l'heure on avait utilisé un bout de papier\n",
    "  * pour pouvoir référencer le commit plus tard en cas de souci\n",
    "* on peut faire la même chose en utilisant une branche comme marque page\n",
    "* quitte à la détruire ensuite"
   ]
  },
  {
   "cell_type": "markdown",
   "metadata": {
    "slideshow": {
     "slide_type": "slide"
    }
   },
   "source": [
    "## branche comme signet"
   ]
  },
  {
   "cell_type": "code",
   "execution_count": null,
   "metadata": {},
   "outputs": [],
   "source": [
    "# je mets un signet\n",
    "git branch bookmark HEAD\n",
    "\n",
    "# maintenant si je reset master\n",
    "git reset --hard HEAD^"
   ]
  },
  {
   "cell_type": "code",
   "execution_count": null,
   "metadata": {},
   "outputs": [],
   "source": [
    "git l --all"
   ]
  },
  {
   "cell_type": "markdown",
   "metadata": {
    "slideshow": {
     "slide_type": "slide"
    }
   },
   "source": [
    "## `git branch -D` "
   ]
  },
  {
   "cell_type": "markdown",
   "metadata": {},
   "source": [
    "* par contre si j'essaie d'effacer la branche `bookmark`\n",
    "* git se plaint, car cela rend de nouveau\n",
    "  * notre commit `conflit résolu' inatteignable \n",
    "  * (à partir des branches connues)\n",
    "* de façon générale, lorsqu'il y a un risque  \n",
    "  de perdre quelque chose, ça coince"
   ]
  },
  {
   "cell_type": "code",
   "execution_count": null,
   "metadata": {
    "cell_style": "split"
   },
   "outputs": [],
   "source": [
    "git branch -d bookmark"
   ]
  },
  {
   "cell_type": "code",
   "execution_count": null,
   "metadata": {
    "cell_style": "split"
   },
   "outputs": [],
   "source": [
    "# avec -D on force la destruction\n",
    "git branch -D bookmark"
   ]
  },
  {
   "cell_type": "markdown",
   "metadata": {
    "slideshow": {
     "slide_type": "slide"
    }
   },
   "source": [
    "## pour revenir au point de départ"
   ]
  },
  {
   "cell_type": "code",
   "execution_count": null,
   "metadata": {
    "cell_style": "split"
   },
   "outputs": [],
   "source": [
    "# le commit est bien sûr toujours là\n",
    "git merge $ghost"
   ]
  },
  {
   "cell_type": "code",
   "execution_count": null,
   "metadata": {
    "cell_style": "split"
   },
   "outputs": [],
   "source": [
    "git l"
   ]
  },
  {
   "cell_type": "markdown",
   "metadata": {
    "slideshow": {
     "slide_type": "slide"
    }
   },
   "source": [
    "## résumé"
   ]
  },
  {
   "cell_type": "markdown",
   "metadata": {},
   "source": [
    "* chaque commit a connaissance de ses *parents*  \n",
    "  i.e. ses voisins **vers le bas** (antérieurs)\n",
    "\n",
    "* le lien dans l'autre sens n'est **pas matérialisé**  \n",
    "  dans un commit (car immutable)\n",
    "\n",
    "* la partie \"visible\" ou \"atteignable\" du dépôt est ce qu'on peut  \n",
    "  atteindre **depuis le commit courant et des branches connues**\n",
    "\n",
    "* lorsqu'un commit n'est plus atteignable\n",
    "  * il est toujours dans le dépôt (au - quelques jours)\n",
    "  * mais il faut son sha-1 pour y accéder"
   ]
  },
  {
   "cell_type": "markdown",
   "metadata": {
    "slideshow": {
     "slide_type": "slide"
    }
   },
   "source": [
    "## état"
   ]
  },
  {
   "cell_type": "code",
   "execution_count": null,
   "metadata": {},
   "outputs": [],
   "source": [
    "git l --all"
   ]
  }
 ],
 "metadata": {
  "celltoolbar": "Slideshow",
  "ipub": {
   "sphinx": {
    "toggle_input": true,
    "toggle_input_all": true,
    "toggle_output": true,
    "toggle_output_all": true
   }
  },
  "kernelspec": {
   "display_name": "Calysto Bash",
   "language": "bash",
   "name": "calysto_bash"
  },
  "language_info": {
   "file_extension": ".sh",
   "help_links": [
    {
     "text": "MetaKernel Magics",
     "url": "https://metakernel.readthedocs.io/en/latest/source/README.html"
    }
   ],
   "mimetype": "text/x-sh",
   "name": "bash",
   "version": "0.2.1"
  },
  "notebookname": "atteignabilité",
  "rise": {
   "autolaunch": true,
   "slideNumber": "c/t",
   "start_slideshow_at": "selected",
   "theme": "sky",
   "transition": "cube"
  },
  "version": "1.0"
 },
 "nbformat": 4,
 "nbformat_minor": 2
}

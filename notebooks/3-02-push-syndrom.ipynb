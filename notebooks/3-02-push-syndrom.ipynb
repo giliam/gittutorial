{
 "cells": [
  {
   "cell_type": "markdown",
   "metadata": {},
   "source": [
    "<div class=\"licence\">\n",
    "<span>Licence CC BY-NC-ND</span>\n",
    "<span>Thierry Parmentelat</span>\n",
    "<span><img src=\"../media/inria-25-alpha.png\" /></span>\n",
    "</div>"
   ]
  },
  {
   "cell_type": "markdown",
   "metadata": {
    "cell_style": "split",
    "slideshow": {
     "slide_type": ""
    }
   },
   "source": [
    "# un push compliqué\n",
    "\n",
    "scénario #2 :  \n",
    "un push qui ne se passe pas bien\n",
    "\n",
    "* un cas **très fréquent** en pratique\n",
    "* et qui génère pas mal de frustration "
   ]
  },
  {
   "cell_type": "markdown",
   "metadata": {
    "cell_style": "split"
   },
   "source": [
    "* deux personnes se mettent à travailler  \n",
    "* sur des sujets différents\n",
    "* mais en même temps  \n",
    "  (i.e. en partant du même commit)\n",
    "\n",
    "* ils commitent chacun de leur coté"
   ]
  },
  {
   "cell_type": "code",
   "execution_count": null,
   "metadata": {
    "slideshow": {
     "slide_type": "slide"
    }
   },
   "outputs": [],
   "source": [
    "# ce sera toujours notre façon de commencer\n",
    "[ -f scripts/helpers.sh ] && source scripts/helpers.sh"
   ]
  },
  {
   "cell_type": "markdown",
   "metadata": {
    "slideshow": {
     "slide_type": "slide"
    }
   },
   "source": [
    "## une topologie réaliste"
   ]
  },
  {
   "cell_type": "markdown",
   "metadata": {
    "cell_style": "split"
   },
   "source": [
    "dans ce scénario plus réaliste :\n",
    "\n",
    "* bob et alice on chacun leur dépôt\n",
    "* et collaborent au travers d'un proxy sur github\n",
    "\n",
    "on a donc ici :\n",
    "\n",
    "* deux dépots \"complets\" avec fichiers\n",
    "* un dépôt *bare* sur github"
   ]
  },
  {
   "cell_type": "markdown",
   "metadata": {
    "cell_style": "split"
   },
   "source": [
    "![](../media/archi-gh-3.png)"
   ]
  },
  {
   "cell_type": "code",
   "execution_count": null,
   "metadata": {
    "slideshow": {
     "slide_type": "slide"
    }
   },
   "outputs": [],
   "source": [
    "# on repart d'un dépôt tout simple \n",
    "# avec seulement deux commits \n",
    "# pour ne pas encombrer inutilement l'affichage\n",
    "\n",
    "# on nettoie\n",
    "cd $TOP\n",
    "rm -rf repo-alice fake-github.git repo-bob"
   ]
  },
  {
   "cell_type": "code",
   "execution_count": null,
   "metadata": {
    "slideshow": {
     "slide_type": ""
    }
   },
   "outputs": [],
   "source": [
    "# on recrée repo-alice avec deux commits\n",
    "cd $TOP\n",
    "mkdir repo-alice\n",
    "cd repo-alice\n",
    "$SCRIPTS/do populate-repo-alice > /dev/null"
   ]
  },
  {
   "cell_type": "code",
   "execution_count": null,
   "metadata": {
    "slideshow": {
     "slide_type": "slide"
    }
   },
   "outputs": [],
   "source": [
    "# on crée un dépôt bare qui remplace github\n",
    "# pour faire le proxy entre les deux acteurs\n",
    "cd $TOP\n",
    "git clone --bare repo-alice fake-github.git\n",
    "\n",
    "# on clone le faux github dans repo-bob\n",
    "cd $TOP\n",
    "git clone fake-github.git repo-bob"
   ]
  },
  {
   "cell_type": "markdown",
   "metadata": {
    "cell_style": "split",
    "slideshow": {
     "slide_type": "slide"
    }
   },
   "source": [
    "les trois repos sont en phase"
   ]
  },
  {
   "cell_type": "code",
   "execution_count": null,
   "metadata": {
    "cell_style": "split"
   },
   "outputs": [],
   "source": [
    "cd $TOP/repo-alice\n",
    "git l"
   ]
  },
  {
   "cell_type": "code",
   "execution_count": null,
   "metadata": {
    "cell_style": "split"
   },
   "outputs": [],
   "source": [
    "cd $TOP/fake-github.git\n",
    "git l"
   ]
  },
  {
   "cell_type": "code",
   "execution_count": null,
   "metadata": {
    "cell_style": "split"
   },
   "outputs": [],
   "source": [
    "cd $TOP/repo-bob\n",
    "git l"
   ]
  },
  {
   "cell_type": "markdown",
   "metadata": {
    "slideshow": {
     "slide_type": "slide"
    }
   },
   "source": [
    "## le `push` qui tue (1)"
   ]
  },
  {
   "cell_type": "code",
   "execution_count": null,
   "metadata": {
    "cell_style": "split",
    "slideshow": {
     "slide_type": ""
    }
   },
   "outputs": [],
   "source": [
    "# alice avance de son coté\n",
    "\n",
    "cd $TOP/repo-alice\n",
    "$SCRIPTS/do commit-alice\n",
    "\n",
    "git l"
   ]
  },
  {
   "cell_type": "code",
   "execution_count": null,
   "metadata": {
    "cell_style": "split",
    "slideshow": {
     "slide_type": ""
    }
   },
   "outputs": [],
   "source": [
    "# bob aussi\n",
    "\n",
    "cd $TOP/repo-bob\n",
    "$SCRIPTS/do commit-bob\n",
    "\n",
    "git l"
   ]
  },
  {
   "cell_type": "markdown",
   "metadata": {
    "slideshow": {
     "slide_type": "slide"
    }
   },
   "source": [
    "**ici aussi il nous faut un remote pour pousser**"
   ]
  },
  {
   "cell_type": "markdown",
   "metadata": {},
   "source": [
    "à ce stade les deux acteurs vont vouloir pousser leur travail sur github  \n",
    "pour ça il leur faut un remote"
   ]
  },
  {
   "cell_type": "code",
   "execution_count": null,
   "metadata": {},
   "outputs": [],
   "source": [
    "# dans repo-alice on ne connait aucun remote\n",
    "# on en crée un qui s'appelle github\n",
    "\n",
    "cd $TOP/repo-alice\n",
    "git remote add github $TOP/fake-github.git\n",
    "git remote"
   ]
  },
  {
   "cell_type": "code",
   "execution_count": null,
   "metadata": {},
   "outputs": [],
   "source": [
    "# on a déjà un remote 'origin' lié au clone initial\n",
    "# mais on l'ignore et on crée un second remote\n",
    "# pour homogénéité entre les deux repos d'alice et de bob \n",
    "\n",
    "cd $TOP/repo-bob\n",
    "git remote add github $TOP/fake-github.git\n",
    "git remote"
   ]
  },
  {
   "cell_type": "markdown",
   "metadata": {
    "slideshow": {
     "slide_type": "slide"
    }
   },
   "source": [
    "## le `push` qui tue (2)"
   ]
  },
  {
   "cell_type": "markdown",
   "metadata": {},
   "source": [
    "le premier des deux qui veut pousser sur github n'a aucun problème"
   ]
  },
  {
   "cell_type": "code",
   "execution_count": null,
   "metadata": {
    "cell_style": "split"
   },
   "outputs": [],
   "source": [
    "cd $TOP/repo-alice\n",
    "\n",
    "git push github devel:devel "
   ]
  },
  {
   "cell_type": "code",
   "execution_count": null,
   "metadata": {
    "cell_style": "split"
   },
   "outputs": [],
   "source": [
    "git l"
   ]
  },
  {
   "cell_type": "code",
   "execution_count": null,
   "metadata": {
    "cell_style": "split"
   },
   "outputs": [],
   "source": [
    "cd $TOP/fake-github.git\n",
    "git l"
   ]
  },
  {
   "cell_type": "markdown",
   "metadata": {
    "slideshow": {
     "slide_type": "slide"
    }
   },
   "source": [
    "## le `push` qui tue (3)"
   ]
  },
  {
   "cell_type": "markdown",
   "metadata": {},
   "source": [
    "* bob veut pousser lui aussi\n",
    "* c'est à ce stade que ça coince\n",
    "* car ce push implique un merge\n",
    "* qui n'**est pas *fast-forward***\n",
    "* en effet le graphe des commits ressemble à ceci\n",
    "\n",
    "```\n",
    "devel pour alice et github        devel pour bob\n",
    "                     ↳   A      B   ↵\n",
    "                           \\   /\n",
    "                             C2\n",
    "                             |\n",
    "                             C1\n",
    "```\n",
    "\n",
    "* un `push` de la part de bob \n",
    "* revient donc à merger `B` au dessus de `A`\n",
    "* qui comme on le voit **ne sont pas comparables**"
   ]
  },
  {
   "cell_type": "markdown",
   "metadata": {
    "slideshow": {
     "slide_type": "slide"
    }
   },
   "source": [
    "## le `push` qui tue (4)"
   ]
  },
  {
   "cell_type": "code",
   "execution_count": null,
   "metadata": {},
   "outputs": [],
   "source": [
    "# si bob essaie de pousser à ce stade, c'est refusé\n",
    "# car le merge, qui n'est pas fast-forward, impliquerait\n",
    "# la création d'un nouveau commit, ce qui\n",
    "# est risqué à distance \n",
    "#\n",
    "# notez bien qu'ici les deux modifications de alice et bob\n",
    "# sont indépendantes et peuvent être mergées sans conflit !\n",
    "\n",
    "cd $TOP/repo-bob\n",
    "git push github devel"
   ]
  },
  {
   "cell_type": "markdown",
   "metadata": {
    "slideshow": {
     "slide_type": "slide"
    }
   },
   "source": [
    "## tirer avant de pousser"
   ]
  },
  {
   "cell_type": "code",
   "execution_count": null,
   "metadata": {},
   "outputs": [],
   "source": [
    "# pour s'en sortir il suffit que Bob commence par tirer\n",
    "# et c'est en tirant qu'on va créer le commit qui merge les deux travaux\n",
    "# \n",
    "# pour des raisons sordides liées au fait qu'on est dans un notebook\n",
    "# je lui passe l'option --no-edit\n",
    "\n",
    "cd $TOP/repo-bob\n",
    "git pull --no-edit github devel "
   ]
  },
  {
   "cell_type": "code",
   "execution_count": null,
   "metadata": {},
   "outputs": [],
   "source": [
    "git l"
   ]
  },
  {
   "cell_type": "markdown",
   "metadata": {
    "slideshow": {
     "slide_type": "slide"
    }
   },
   "source": [
    "## le `push` ne tue plus"
   ]
  },
  {
   "cell_type": "markdown",
   "metadata": {},
   "source": [
    "```\n",
    "                                M   ←  devel pour bob\n",
    "devel pour alice et github    /   \\    \n",
    "                        ↳   A      B  \n",
    "                              \\   /\n",
    "                                C2\n",
    "                                |\n",
    "                                C1\n",
    "```\n"
   ]
  },
  {
   "cell_type": "markdown",
   "metadata": {},
   "source": [
    "pour Bob à présent, le fait de pousser `devel` sur `github` est redevenu un *fast-forward*, il peut pousser"
   ]
  },
  {
   "cell_type": "markdown",
   "metadata": {
    "slideshow": {
     "slide_type": "notes"
    }
   },
   "source": [
    "Remarquez que dans ce cas de figure, Bob aurait pu profitablement tirer avec l'option `--rebase`, que l'on verra plus tard, mais qui aurait le mérite d'éviter cette structure en diamant qui n'est pas très significative. "
   ]
  },
  {
   "cell_type": "code",
   "execution_count": null,
   "metadata": {
    "cell_style": "split"
   },
   "outputs": [],
   "source": [
    "cd $TOP/repo-bob\n",
    "git push github devel"
   ]
  },
  {
   "cell_type": "code",
   "execution_count": null,
   "metadata": {
    "cell_style": "split"
   },
   "outputs": [],
   "source": [
    "\n",
    "git l"
   ]
  },
  {
   "cell_type": "code",
   "execution_count": null,
   "metadata": {
    "cell_style": "split",
    "slideshow": {
     "slide_type": "slide"
    }
   },
   "outputs": [],
   "source": [
    "# et alice peut tirer\n",
    "cd $TOP/repo-alice\n",
    "git pull github devel"
   ]
  },
  {
   "cell_type": "code",
   "execution_count": null,
   "metadata": {
    "cell_style": "split"
   },
   "outputs": [],
   "source": [
    "git l"
   ]
  },
  {
   "cell_type": "markdown",
   "metadata": {
    "slideshow": {
     "slide_type": "slide"
    }
   },
   "source": [
    "## résumé"
   ]
  },
  {
   "cell_type": "markdown",
   "metadata": {
    "slideshow": {
     "slide_type": ""
    }
   },
   "source": [
    "* si lors d'un `push` vous obtenez un message similaire à \n",
    "\n",
    "> hint: Updates were rejected because the remote contains work that you do\n",
    "> hint: not have locally. This is usually caused by another repository pushing\n",
    "> hint: to the same ref. You may want to first integrate the remote changes\n",
    "> hint: (e.g., 'git pull ...') before pushing again.\n",
    "\n",
    "* c'est vraisemblablement parce que quelqu'un d'autre a poussé \n",
    "  avant vous\n",
    " \n",
    "* un moyen simple de s'en sortir consiste à tirer d'abord  \n",
    "  et pousser ensuite\n",
    "  \n",
    "* signalons aussi l'option `pull --rebase` que l'on verra plus tard"
   ]
  },
  {
   "cell_type": "markdown",
   "metadata": {
    "slideshow": {
     "slide_type": "slide"
    }
   },
   "source": [
    "## état"
   ]
  },
  {
   "cell_type": "code",
   "execution_count": null,
   "metadata": {},
   "outputs": [],
   "source": [
    "git l --all"
   ]
  }
 ],
 "metadata": {
  "celltoolbar": "Slideshow",
  "ipub": {
   "sphinx": {
    "toggle_input": true,
    "toggle_input_all": true,
    "toggle_output": true,
    "toggle_output_all": true
   }
  },
  "kernelspec": {
   "display_name": "Calysto Bash",
   "language": "bash",
   "name": "calysto_bash"
  },
  "language_info": {
   "file_extension": ".sh",
   "help_links": [
    {
     "text": "MetaKernel Magics",
     "url": "https://metakernel.readthedocs.io/en/latest/source/README.html"
    }
   ],
   "mimetype": "text/x-sh",
   "name": "bash",
   "version": "0.2.1"
  },
  "notebookname": "NO HEADING 1 found",
  "rise": {
   "autolaunch": true,
   "slideNumber": "c/t",
   "start_slideshow_at": "selected",
   "theme": "sky",
   "transition": "cube"
  },
  "version": "1.0"
 },
 "nbformat": 4,
 "nbformat_minor": 4
}

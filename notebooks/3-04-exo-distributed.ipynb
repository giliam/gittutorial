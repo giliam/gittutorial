{
 "cells": [
  {
   "cell_type": "markdown",
   "metadata": {},
   "source": [
    "<div class=\"licence\">\n",
    "<span>Licence CC BY-NC-ND</span>\n",
    "<span>Thierry Parmentelat</span>\n",
    "<span><img src=\"../media/inria-25-alpha.png\" /></span>\n",
    "</div>"
   ]
  },
  {
   "cell_type": "markdown",
   "metadata": {
    "slideshow": {
     "slide_type": ""
    }
   },
   "source": [
    "# exercice git distribué"
   ]
  },
  {
   "cell_type": "markdown",
   "metadata": {},
   "source": [
    "**prérequis**\n",
    "\n",
    "* chaque élève a un compte sur github; je suppose dans la suite que mon identifiant est `mon_id`"
   ]
  },
  {
   "cell_type": "markdown",
   "metadata": {},
   "source": [
    "**mise en place**\n",
    "\n",
    "* créer des groupes de 3-4 élèves\n",
    "  * par exemple 17 élèves = 3 * 3 + 2 * 4\n",
    "* chaque groupe se met d'accord sur un nom de dépôt au hasard,  \n",
    "  je suppose que c'est `foo` dans la suite\n",
    "\n",
    "* chaque élève prend dans le groupe un numéro, en commençant à 1  \n",
    "  le numéro 1 est désigné comme leader \n",
    "  je suppose que l'identifiant github du leader de mon groupe est `mon_leader`"
   ]
  },
  {
   "cell_type": "markdown",
   "metadata": {},
   "source": [
    "## survol"
   ]
  },
  {
   "cell_type": "markdown",
   "metadata": {},
   "source": [
    "on va refaire plusieurs fois le même scénario globalement :\n",
    "\n",
    "* le leader crée un dépôt sur github\n",
    "* les autres le clonent\n",
    "* tout le monde modifie le même fichier\n",
    "* et repousse son changement jusqu'à ce qu'on ait toutes les contributions sur le serveur"
   ]
  },
  {
   "cell_type": "markdown",
   "metadata": {},
   "source": [
    "plusieurs variantes sont prévues\n",
    "\n",
    "1. le leader invite les contributeurs; ils obtiennent donc les droits d'accès en écriture, ils peuvent pousser directement dans le dépôt upstream (on n'a pas besoin de fork dans ce scénario)\n",
    "\n",
    "1. le leader **n'invite pas** les contributeurs; dans ce cas ils doivent se créer un fork, pousser dans leur fork, et faire un pull request chez le leader\n"
   ]
  },
  {
   "cell_type": "markdown",
   "metadata": {},
   "source": [
    "*****"
   ]
  },
  {
   "cell_type": "markdown",
   "metadata": {},
   "source": [
    "## contenu initial"
   ]
  },
  {
   "cell_type": "markdown",
   "metadata": {},
   "source": [
    "* le leader crée un dépôt local avec un seul commit\n",
    "* ce commit contient un seul fichier `README.md` \n",
    "  avec comme contenu (copier-coller) la sortie produite par la cellule suivante"
   ]
  },
  {
   "cell_type": "code",
   "execution_count": 2,
   "metadata": {},
   "outputs": [
    {
     "name": "stdout",
     "output_type": "stream",
     "text": [
      "01 Nom:\n",
      "01 Prénom:\n",
      "02 Nom:\n",
      "02 Prénom:\n",
      "03 Nom:\n",
      "03 Prénom:\n",
      "04 Nom:\n",
      "04 Prénom:\n"
     ]
    }
   ],
   "source": [
    "# copier les lignes produites par cette cellule\n",
    "# dans le fichier README.md\n",
    "\n",
    "# mettez ici le nombre de personnes dans votre groupe\n",
    "\n",
    "how_many_people = 4\n",
    "\n",
    "for i in range(1, how_many_people + 1):\n",
    "    print(f\"{i:02d} Nom:\")\n",
    "    print(f\"{i:02d} Prénom:\")"
   ]
  },
  {
   "cell_type": "markdown",
   "metadata": {},
   "source": [
    "* il crée sur github un dépôt vide `mon_id/foo` \n",
    "* il pousse son dépôt local sur github\n",
    "\n",
    "**NOTE**\n",
    "cet exercice peut être fait par tous - y compris les non-leaders  \n",
    "toutefois les non-leaders qui choisiront de le faire devront ensuite effacer leur dépôt sur github."
   ]
  },
  {
   "cell_type": "markdown",
   "metadata": {},
   "source": [
    "Indice:\n",
    "\n",
    "![](../media/github-firstpush-hint.png)"
   ]
  },
  {
   "cell_type": "markdown",
   "metadata": {
    "slideshow": {
     "slide_type": ""
    }
   },
   "source": [
    "## TP1 : tous les membres du groupe ont les droits en écriture\n",
    "\n",
    "* le leader crée son dépôt sur github\n",
    "* il invite les autres membres du groupe (qui doivent lui donner leur id github)\n",
    "  * une fois les formalités accomplies, tout le groupe a les droits en écriture sur le dépôt du leader\n",
    "* les non-leaders clônent le dépôt depuis github sur leur ordi\n",
    "* chacun change le nom et prénom correspondant à son numéro dans le groupe\n",
    "  * avec visual studio par exemple\n",
    "* tout le monde pousse\n",
    "* vous observez que\n",
    "  * seul le premier à pousser peut le faire sans encombre\n",
    "  * les autres doivent d'abord tirer avant de pouvoir pousser (revoir \"le push qui tue\") si vous ne voyez pas pourquoi il faut d'abord tirer."
   ]
  },
  {
   "cell_type": "markdown",
   "metadata": {},
   "source": [
    "*****"
   ]
  },
  {
   "cell_type": "markdown",
   "metadata": {
    "slideshow": {
     "slide_type": ""
    }
   },
   "source": [
    "## TP2 : variante, sans les droits en écriture, avec des Pull Requests\n",
    "\n",
    "* même scénario essentiellement, mais cette fois le leader **n'invite pas** les autres membres du groupe\n",
    "* qui doivent donc passer par l'étape *Fork* et *Pull Request* pour transmettre leur contribution (qui consiste ici encore à renseigner leur nom et prénom)\n",
    "* il y a plusieurs façons de faire, mais on recommande ceci:\n",
    "  * je suis non-leader; je commence par cloner le dépôt du leader\n",
    "  * je modifie le fichier local; je crée mon commit\n",
    "  * à ce stade j'ai un seul *remote* connu, il s'appelle 'origin'\n",
    "  * comme je ne peux pas pousser, je retourne sur github pour créer mon fork\n",
    "  * je déclare un nouveau *remote* que j'appelle `mine` pour me souvenir que c'est mon fork; pour cela j'utilise `git remote add` et pour trouver l'URL je vais la copier sur github\n",
    "  * à ce stade j'ai donc deux *remotes*, `origin` qui est le dépôt du leader et `mine` qui est mon fork\n",
    "  * je peux pousser ce que je veux sur mon fork, et créer un pull request pour demandeau leader d'intégrer ma contribution\n",
    "* observez que là encore\n",
    "  * le leader n'a bien sûr aucun problème à pousser son commit\n",
    "  * le premier pull-request se passe très simplement, le leader "
   ]
  },
  {
   "cell_type": "markdown",
   "metadata": {
    "slideshow": {
     "slide_type": ""
    }
   },
   "source": [
    "## quelques conseils"
   ]
  },
  {
   "cell_type": "markdown",
   "metadata": {},
   "source": [
    "* n'hésitez surtout pas à recommencer depuis le départ si quelque chose tourne mal\n",
    "* on peut très facilement effacer complètement un dépôt sur github\n",
    "  * pour ça à partir de la page du dépôt sur github, voir la rubrique `Settings`, et descendre tout en bas de la page\n",
    "* pour effacer un dépôt local il suffit de mettre tout le répertoire à la poubelle\n",
    "* s'agissant des clônes, je vous conseille de choisir la méthode d'accès **https** si vous n'êtes pas familier avec le système de clés ssh"
   ]
  },
  {
   "cell_type": "markdown",
   "metadata": {},
   "source": [
    "*****"
   ]
  }
 ],
 "metadata": {
  "celltoolbar": "Slideshow",
  "ipub": {
   "sphinx": {
    "toggle_input": true,
    "toggle_input_all": true,
    "toggle_output": true,
    "toggle_output_all": true
   }
  },
  "kernelspec": {
   "display_name": "Python 3",
   "language": "python",
   "name": "python3"
  },
  "language_info": {
   "codemirror_mode": {
    "name": "ipython",
    "version": 3
   },
   "file_extension": ".py",
   "mimetype": "text/x-python",
   "name": "python",
   "nbconvert_exporter": "python",
   "pygments_lexer": "ipython3",
   "version": "3.7.3"
  },
  "notebookname": "exercice : git distribué",
  "rise": {
   "autolaunch": true,
   "slideNumber": "c/t",
   "start_slideshow_at": "selected",
   "theme": "sky",
   "transition": "cube"
  },
  "version": "1.0"
 },
 "nbformat": 4,
 "nbformat_minor": 2
}

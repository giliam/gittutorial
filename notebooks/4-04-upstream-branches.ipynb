{
 "cells": [
  {
   "cell_type": "markdown",
   "metadata": {},
   "source": [
    "<div class=\"licence\">\n",
    "<span>Licence CC BY-NC-ND</span>\n",
    "<span>Thierry Parmentelat</span>\n",
    "<span><img src=\"../media/inria-25-alpha.png\" /></span>\n",
    "</div>"
   ]
  },
  {
   "cell_type": "markdown",
   "metadata": {
    "slideshow": {
     "slide_type": ""
    }
   },
   "source": [
    "# notion de branche \"upstream\""
   ]
  },
  {
   "cell_type": "markdown",
   "metadata": {
    "slideshow": {
     "slide_type": ""
    }
   },
   "source": [
    "on a vu la forme usuelle de faire un *pull* :  \n",
    "`git pull origin devel` \n",
    "\n",
    "en fait bien souvent on va se contenter de faire simplement  \n",
    "`git pull`\n",
    "\n",
    "implicitement, cela va utiliser :"
   ]
  },
  {
   "cell_type": "markdown",
   "metadata": {
    "slideshow": {
     "slide_type": ""
    }
   },
   "source": [
    "**comme *remote*** :"
   ]
  },
  {
   "cell_type": "markdown",
   "metadata": {
    "slideshow": {
     "slide_type": "slide"
    }
   },
   "source": [
    "**on peut être plus précis** :  \n",
    "`git pull origin devel:master` \n",
    "\n",
    "* met à jour `origin/devel` et le merge dans `master`"
   ]
  },
  {
   "cell_type": "markdown",
   "metadata": {
    "slideshow": {
     "slide_type": "slide"
    }
   },
   "source": [
    "## `pull` sur plusieurs branches"
   ]
  },
  {
   "cell_type": "markdown",
   "metadata": {},
   "source": [
    "enfin on peut indiquer plusieurs branches sur le même remote\n",
    "\n",
    "* `git pull origin master:master devel:devel` \n",
    "\n",
    "peut être utile quand on sait qu'on suit toujours plusieurs branches"
   ]
  },
  {
   "cell_type": "markdown",
   "metadata": {
    "slideshow": {
     "slide_type": ""
    }
   },
   "source": [
    "* on peut même encore raccourcir, grâce à la configuration \n",
    "* en partant du nom de la branche courante, ici `devel`\n",
    "* qui a été configurée lorsqu'on a fait `clone` :\n",
    "* ceci relève du confort plus qu'autre chose\n",
    "* mais permet de simplifier sensiblement les choses"
   ]
  },
  {
   "cell_type": "code",
   "execution_count": null,
   "metadata": {},
   "outputs": [],
   "source": [
    "# au moment du clone, git a également marqué la branche \n",
    "# 'devel' comme étant \n",
    "git config branch.devel.remote"
   ]
  },
  {
   "cell_type": "code",
   "execution_count": null,
   "metadata": {
    "cell_style": "split",
    "slideshow": {
     "slide_type": "slide"
    }
   },
   "outputs": [],
   "source": [
    "# git config permet de lire\n",
    "# un attribut dans la config\n",
    "\n",
    "# ceci est le défaut pour le\n",
    "# premier argument à git pull\n",
    "git config branch.devel.remote"
   ]
  },
  {
   "cell_type": "code",
   "execution_count": null,
   "metadata": {
    "cell_style": "split",
    "slideshow": {
     "slide_type": ""
    }
   },
   "outputs": [],
   "source": [
    "# pareil pour le deuxième argument\n",
    "\n",
    "git config branch.devel.merge"
   ]
  },
  {
   "cell_type": "markdown",
   "metadata": {},
   "source": [
    "du coup je peux encore enlever des arguments\n",
    "\n",
    "* `git pull origin`\n",
    "  * revient à `git pull origin devel`\n",
    "  * du fait de `git config branch.devel.merge`\n",
    "* `git pull` \n",
    "  * revient `git pull origin devel`\n",
    "  * du fait de `branch.devel.remote`"
   ]
  },
  {
   "cell_type": "markdown",
   "metadata": {
    "slideshow": {
     "slide_type": "notes"
    }
   },
   "source": [
    "Ce sont ces formes raccourcies qui sont le plus souvent utilisées en pratique, mais on recommande au moins dans un premier temps d'utiliser les formes longues pour bien maitriser ce qui est fait."
   ]
  }
 ],
 "metadata": {
  "ipub": {
   "sphinx": {
    "toggle_input": true,
    "toggle_input_all": true,
    "toggle_output": true,
    "toggle_output_all": true
   }
  },
  "kernelspec": {
   "display_name": "Calysto Bash",
   "language": "bash",
   "name": "calysto_bash"
  },
  "language_info": {
   "file_extension": ".sh",
   "help_links": [
    {
     "text": "MetaKernel Magics",
     "url": "https://metakernel.readthedocs.io/en/latest/source/README.html"
    }
   ],
   "mimetype": "text/x-sh",
   "name": "bash",
   "version": "0.2.1"
  },
  "notebookname": "notion de branche \"upstream\"",
  "rise": {
   "autolaunch": true,
   "slideNumber": "c/t",
   "start_slideshow_at": "selected",
   "theme": "sky",
   "transition": "cube"
  },
  "version": "1.0"
 },
 "nbformat": 4,
 "nbformat_minor": 4
}

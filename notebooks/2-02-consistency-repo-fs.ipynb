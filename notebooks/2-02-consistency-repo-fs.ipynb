{
 "cells": [
  {
   "cell_type": "markdown",
   "metadata": {
    "slideshow": {
     "slide_type": "slide"
    }
   },
   "source": [
    "<div class=\"licence\">\n",
    "<span>Licence CC BY-NC-ND</span>\n",
    "<span>Thierry Parmentelat</span>\n",
    "<span><img src=\"media/inria-25-alpha.png\" /></span>\n",
    "</div>"
   ]
  },
  {
   "cell_type": "markdown",
   "metadata": {
    "slideshow": {
     "slide_type": ""
    }
   },
   "source": [
    "# cohérence dépôt - fichiers"
   ]
  },
  {
   "cell_type": "code",
   "execution_count": null,
   "metadata": {
    "slideshow": {
     "slide_type": "slide"
    }
   },
   "outputs": [],
   "source": [
    "# ce sera toujours notre façon de commencer\n",
    "[ -f scripts/helpers.sh ] && source scripts/helpers.sh  "
   ]
  },
  {
   "cell_type": "markdown",
   "metadata": {
    "slideshow": {
     "slide_type": "slide"
    }
   },
   "source": [
    "## repartons de la partie 1"
   ]
  },
  {
   "cell_type": "markdown",
   "metadata": {},
   "source": [
    "si vous avez bien suivi et exécuté la 1ère partie, vous devez avoir un répertoire `my-first-repo` qui contient 4 commits."
   ]
  },
  {
   "cell_type": "code",
   "execution_count": null,
   "metadata": {},
   "outputs": [],
   "source": [
    "# si nécessaire, vous pouvez remettre le repository \n",
    "# dans l'état où il est après le notebook 10-my-first-repo\n",
    "# \n",
    "# pour cela mettez \"true\" au lieu de \"\"\n",
    "# et bien sûr évaluer la cellule\n",
    "\n",
    "reset=\"\"\n",
    "\n",
    "if [ -n \"$reset\" ]; then \n",
    "    cd $TOP\n",
    "    bash $SCRIPTS/2-01-my-first-repo.sh \n",
    "fi >& /dev/null"
   ]
  },
  {
   "cell_type": "markdown",
   "metadata": {
    "slideshow": {
     "slide_type": "notes"
    }
   },
   "source": [
    "Il n'est pas nécessaire de comprendre dans le détail le comportement de la première cellule sur ce slide. \n",
    "Son propos est, lorsque c'est nécessaire, de pouvoir remettre le dépôt dans l'état attendu, c'est-à-dire celui dans lequel on l'a laissé à l'issue du notebook précédent. \n",
    "\n",
    "Par défaut cette cellule ne fait rien; pour actionner cette possibilité et reinitialiser le dépôt, il suffit de modifier la définition de la variable `reset` pour faire `reset=\"true\"` (sans espaces), et naturellement d'évaluer la cellule."
   ]
  },
  {
   "cell_type": "code",
   "execution_count": null,
   "metadata": {
    "slideshow": {
     "slide_type": "slide"
    }
   },
   "outputs": [],
   "source": [
    "# si nécessaire, on se place dans le dépôt git\n",
    "[ -d my-first-repo ] && cd my-first-repo\n",
    "\n",
    "pwd"
   ]
  },
  {
   "cell_type": "code",
   "execution_count": null,
   "metadata": {
    "slideshow": {
     "slide_type": ""
    }
   },
   "outputs": [],
   "source": [
    "# vous devez avoir 4 commits\n",
    "git l"
   ]
  },
  {
   "cell_type": "markdown",
   "metadata": {
    "slideshow": {
     "slide_type": "slide"
    }
   },
   "source": [
    "## revenir en arrière"
   ]
  },
  {
   "cell_type": "markdown",
   "metadata": {},
   "source": [
    "la première fonctionnalité de git est bien sûr de  \n",
    "permettre de revenir en arrière\n",
    "\n",
    "pour cela il existe plusieurs moyens,  \n",
    "en voici un pour commencer\n",
    "\n",
    "nous allons\n",
    "\n",
    "* créer une **nouvelle branche** `devel`\n",
    "* au niveau de l'avant-dernier commit\n",
    "* et nous allons en faire la **branche courante**"
   ]
  },
  {
   "cell_type": "markdown",
   "metadata": {
    "slideshow": {
     "slide_type": "slide"
    }
   },
   "source": [
    "## créer une branche et y aller"
   ]
  },
  {
   "cell_type": "code",
   "execution_count": null,
   "metadata": {
    "cell_style": "split",
    "slideshow": {
     "slide_type": ""
    }
   },
   "outputs": [],
   "source": [
    "# souvenez-vous que HEAD^^ \n",
    "# désigne le commit\n",
    "# qui est le grand-père de HEAD\n",
    "\n",
    "git checkout -b devel HEAD^^"
   ]
  },
  {
   "cell_type": "code",
   "execution_count": null,
   "metadata": {
    "cell_style": "split",
    "slideshow": {
     "slide_type": ""
    }
   },
   "outputs": [],
   "source": [
    "git l"
   ]
  },
  {
   "cell_type": "markdown",
   "metadata": {
    "slideshow": {
     "slide_type": ""
    }
   },
   "source": [
    "on ne voit plus que 2 commits !  \n",
    "pas de panique, nous n'avons rien perdu de notre travail précédent"
   ]
  },
  {
   "cell_type": "markdown",
   "metadata": {
    "slideshow": {
     "slide_type": "notes"
    }
   },
   "source": [
    "On rappelle que `HEAD^^` désigne le parent du parent de `HEAD`.\n",
    "\n",
    "Nous verrons bientôt que `git checkout -b` est un raccourci qui fait deux choses distinctes, d'une part créer une branche, et d'autre part adopter cette nouvelle branche comme branche courante."
   ]
  },
  {
   "cell_type": "markdown",
   "metadata": {
    "slideshow": {
     "slide_type": "slide"
    }
   },
   "source": [
    "## on n'a rien perdu"
   ]
  },
  {
   "cell_type": "markdown",
   "metadata": {},
   "source": [
    "c'est juste que par défaut `git log` ne montre  \n",
    "que l'historique à partir de la branche courante"
   ]
  },
  {
   "cell_type": "code",
   "execution_count": null,
   "metadata": {
    "cell_style": "center"
   },
   "outputs": [],
   "source": [
    "# avec --all on demande à voir toutes les branches\n",
    "git l --all"
   ]
  },
  {
   "cell_type": "markdown",
   "metadata": {
    "cell_style": "center"
   },
   "source": [
    "![](../media/repo-4c-2b.png)"
   ]
  },
  {
   "cell_type": "markdown",
   "metadata": {
    "slideshow": {
     "slide_type": "notes"
    }
   },
   "source": [
    "Sans option, `git log` parcourt le graphe des commits à partir de la branche courante. Or les relations entre commits sont orientées, un commit a connaissance seulemnt des commits antérieurs - on en reparlera longuement. \n",
    "\n",
    "Si bien qu'en partant de la branche courante `devel` on ne trouve que deux commits, alors qu'en partant de `master` on trouve bien les 4 commits présents dans le dépôt."
   ]
  },
  {
   "cell_type": "markdown",
   "metadata": {
    "slideshow": {
     "slide_type": "slide"
    }
   },
   "source": [
    "## cohérence espace de travail / dépôt"
   ]
  },
  {
   "cell_type": "markdown",
   "metadata": {
    "slideshow": {
     "slide_type": ""
    }
   },
   "source": [
    "**TRÈS IMPORTANT**\n",
    "\n",
    "lorsqu'on a changé de branche, on a changé le **commit courant**  \n",
    "et bien entendu `git` **maintient la cohérence** entre \n",
    "\n",
    "* l'espace de travail (fichiers)\n",
    "* le dépôt (commits)\n",
    "* et accessoirement l'index"
   ]
  },
  {
   "cell_type": "markdown",
   "metadata": {
    "slideshow": {
     "slide_type": "slide"
    }
   },
   "source": [
    "## cohérence (suite)"
   ]
  },
  {
   "cell_type": "markdown",
   "metadata": {
    "slideshow": {
     "slide_type": ""
    }
   },
   "source": [
    "nous **sommes revenus au deuxième commit**  \n",
    "souvenez-vous, on n'avait à ce moment-là que deux fichiers, `README.md` et `LICENSE`"
   ]
  },
  {
   "cell_type": "code",
   "execution_count": null,
   "metadata": {
    "slideshow": {
     "slide_type": ""
    }
   },
   "outputs": [],
   "source": [
    "# quand on change de branche\n",
    "# les fichiers sur le disque changent aussi !\n",
    "ls"
   ]
  },
  {
   "cell_type": "markdown",
   "metadata": {
    "slideshow": {
     "slide_type": "notes"
    }
   },
   "source": [
    "Il est important de prendre conscience du fait que `git` peut être amené à **modifier les fichiers** présents sur le disque dans votre dossier. "
   ]
  },
  {
   "cell_type": "markdown",
   "metadata": {
    "slideshow": {
     "slide_type": "slide"
    }
   },
   "source": [
    "## cohérence (fin)"
   ]
  },
  {
   "cell_type": "markdown",
   "metadata": {},
   "source": [
    "en pratique, ça signifie que\n",
    "\n",
    "* les deux fichiers `factorial.py` et `factorial.md` ont été **supprimés** du répertoire\n",
    "* les deux fichiers `README.md` et `LICENSE` ont été **modifiés**  \n",
    "  et remis dans l'état où ils étaient dans ce commit"
   ]
  },
  {
   "cell_type": "markdown",
   "metadata": {},
   "source": [
    "de façon générale :\n",
    "\n",
    "* s'il semble y avoir le moindre **risque de perdre du contenu**\n",
    "* `git` va **refuser** de faire le mouvement\n",
    "\n",
    "c'est sans doute la source principale de frustration chez les débutants...\n",
    "\n",
    "on en reparlera"
   ]
  },
  {
   "cell_type": "markdown",
   "metadata": {
    "slideshow": {
     "slide_type": "slide"
    }
   },
   "source": [
    "## décomposons un peu"
   ]
  },
  {
   "cell_type": "markdown",
   "metadata": {
    "cell_style": "split"
   },
   "source": [
    "petite parenthèse :  \n",
    "notez que `checkout -b`  \n",
    "est un raccourci\n",
    "\n",
    "lorsqu'on fait\n",
    "\n",
    "* `git checkout -b devel HEAD~2`"
   ]
  },
  {
   "cell_type": "markdown",
   "metadata": {
    "cell_style": "split"
   },
   "source": [
    "on fait en réalité plusieurs choses :\n",
    "\n",
    "* **créer** la branche\n",
    "  * `git branch devel HEAD~2`\n",
    "  \n",
    "* **aller** sur cette branche\n",
    "  * `git checkout devel`"
   ]
  },
  {
   "cell_type": "markdown",
   "metadata": {
    "slideshow": {
     "slide_type": "notes"
    }
   },
   "source": [
    "Bien sûr si la branche `devel` existait déjà, on n'aurait pas pu faire la première étape, \n",
    "on se serait contenté de faire la seconde."
   ]
  },
  {
   "cell_type": "markdown",
   "metadata": {
    "slideshow": {
     "slide_type": "slide"
    }
   },
   "source": [
    "## résumé\n",
    "\n",
    "* **créer** une branche :\n",
    "  * `git branch la-branche le-commit`\n",
    "* **aller** sur une branche  \n",
    "  * `git checkout la-branche`\n",
    "  * **les fichiers sont modifiés**\n",
    "  * refus possible si risque de perte de données\n",
    "* **créer** et **aller** sur une nouvelle branche\n",
    "  * `git checkout -b la-branche le-commit`"
   ]
  },
  {
   "cell_type": "markdown",
   "metadata": {
    "slideshow": {
     "slide_type": "slide"
    }
   },
   "source": [
    "## résumé / rappel\n",
    "\n",
    "* pour identifier `le-commit` vous pouvez utiliser\n",
    "  * un SHA-1 \n",
    "  * un nom de branche\n",
    "  * les notations genre `commit^^` ou `commit~4`"
   ]
  },
  {
   "cell_type": "markdown",
   "metadata": {
    "slideshow": {
     "slide_type": "slide"
    }
   },
   "source": [
    "## état\n",
    "\n",
    "l'état de notre dépôt à la fin de ce scénario"
   ]
  },
  {
   "cell_type": "code",
   "execution_count": null,
   "metadata": {},
   "outputs": [],
   "source": [
    "git l --all"
   ]
  }
 ],
 "metadata": {
  "celltoolbar": "Slideshow",
  "ipub": {
   "sphinx": {
    "toggle_input": true,
    "toggle_input_all": true,
    "toggle_output": true,
    "toggle_output_all": true
   }
  },
  "kernelspec": {
   "display_name": "Calysto Bash",
   "language": "bash",
   "name": "calysto_bash"
  },
  "language_info": {
   "file_extension": ".sh",
   "help_links": [
    {
     "text": "MetaKernel Magics",
     "url": "https://metakernel.readthedocs.io/en/latest/source/README.html"
    }
   ],
   "mimetype": "text/x-sh",
   "name": "bash",
   "version": "0.2.1"
  },
  "notebookname": "cohérence dépôt - fichiers",
  "rise": {
   "autolaunch": true,
   "slideNumber": "c/t",
   "start_slideshow_at": "selected",
   "theme": "sky",
   "transition": "cube"
  },
  "version": "1.0"
 },
 "nbformat": 4,
 "nbformat_minor": 4
}

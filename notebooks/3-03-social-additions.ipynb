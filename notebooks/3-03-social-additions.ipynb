{
 "cells": [
  {
   "cell_type": "markdown",
   "metadata": {
    "slideshow": {
     "slide_type": "slide"
    }
   },
   "source": [
    "<div class=\"licence\">\n",
    "<span>Licence CC BY-NC-ND</span>\n",
    "<span><img src=\"../media/ensmp-25-alpha.png\" /><img src=\"../media/inria-25-alpha.png\" /></span>\n",    "</div>"
   ]
  },
  {
   "cell_type": "markdown",
   "metadata": {
    "slideshow": {
     "slide_type": ""
    }
   },
   "source": [
    "# les plateformes type github"
   ]
  },
  {
   "cell_type": "markdown",
   "metadata": {
    "slideshow": {
     "slide_type": "slide"
    }
   },
   "source": [
    "## principe\n",
    "\n",
    "* un utilisateur authentifié\n",
    "* peut créer autant de dépôts qu'il veut\n",
    "* pour servir de **point d'échange** entre utilisateurs  \n",
    "  comme dans le scénario avec alice et bob"
   ]
  },
  {
   "cell_type": "markdown",
   "metadata": {
    "slideshow": {
     "slide_type": ""
    }
   },
   "source": [
    "* par défaut ils sont **publics**  \n",
    "  accès en lecture pour tous même sans login sur github  \n",
    "  droits en écriture sur invitation\n",
    "\n",
    "* dépôts **privés** disponibles également  \n",
    "  accès en lecture/écriture seulement aux membres"
   ]
  },
  {
   "cell_type": "markdown",
   "metadata": {
    "slideshow": {
     "slide_type": "slide"
    }
   },
   "source": [
    "## points d'entrée"
   ]
  },
  {
   "cell_type": "markdown",
   "metadata": {
    "slideshow": {
     "slide_type": ""
    }
   },
   "source": [
    "chaque dépôt peut être utilisé **comme un *remote***  \n",
    "\n",
    "*  via https: `https://github.com/parmentelat/asynciojobs`   \n",
    "*  via ssh:  `git@github.com:parmentelat/asynciojobs.git`"
   ]
  },
  {
   "cell_type": "markdown",
   "metadata": {
    "slideshow": {
     "slide_type": ""
    }
   },
   "source": [
    "et de plus on peut consulter / gérer le dépôt dans le navigateur \n",
    "\n",
    "* exemple <https://github.com/parmentelat/asynciojobs>\n",
    "* qui offre des fonctions supplémentaires (issues, pr, ...)   \n",
    "  dont on parlera bientôt"
   ]
  },
  {
   "cell_type": "markdown",
   "metadata": {
    "slideshow": {
     "slide_type": "slide"
    }
   },
   "source": [
    "## création d'un dépôt sur github"
   ]
  },
  {
   "cell_type": "markdown",
   "metadata": {
    "cell_style": "split",
    "slideshow": {
     "slide_type": ""
    }
   },
   "source": [
    "2 chemins possibles :\n",
    "\n",
    "* soit on a déjà un dépôt local,  on veut dans ce cas créer un dépôt complètement vide pour pouvoir **pousser** dedans (dans ce cas ne pas mettre de README.md)\n",
    "  \n",
    "* soit on part vraiment de rien; dans ce cas-là bien souvent on crée un `README.md` au moment de la création du dépôt sur github et on **clone** ensuite pour créer un dépôt local"
   ]
  },
  {
   "cell_type": "markdown",
   "metadata": {
    "cell_style": "split"
   },
   "source": [
    "![](../media/github-create.png)"
   ]
  },
  {
   "cell_type": "markdown",
   "metadata": {
    "slideshow": {
     "slide_type": "slide"
    }
   },
   "source": [
    "## droits d'accès (dépôts publics)"
   ]
  },
  {
   "cell_type": "markdown",
   "metadata": {},
   "source": [
    "* par défaut, seul **le propriétaire peut écrire** dans un dépôt\n",
    "* il peut aussi explicitement **inviter** des personnes  \n",
    "  qui, si elles l'acceptent, obtiennent ainsi le droit en écriture"
   ]
  },
  {
   "cell_type": "markdown",
   "metadata": {},
   "source": [
    "* **MAIS** ce mécanisme n'est pas utilisé très souvent (pas *scalable*)\n",
    "* il existe un autre moyen pour faire entrer une contribution dans un projet, le *pull request* dont on reparlera"
   ]
  },
  {
   "cell_type": "markdown",
   "metadata": {
    "slideshow": {
     "slide_type": "slide"
    }
   },
   "source": [
    "## gérer les contributeurs"
   ]
  },
  {
   "cell_type": "markdown",
   "metadata": {},
   "source": [
    "* admettons qu'alice a publié un dépôt <https://github.com/alice/superpower>\n",
    "* et que bob veuille contribuer\n",
    "* si alice connait bien bob, elle peut lui **donner les droits** dans son dépôt\n",
    "* **mais** si ce n'est pas le cas  \n",
    "  ou si elle veut **garder le contrôle** sur ce qui entre dans le repo\n",
    "\n",
    "* on utilise un workflow un peu plus compliqué...\n"
   ]
  },
  {
   "cell_type": "markdown",
   "metadata": {
    "slideshow": {
     "slide_type": "slide"
    }
   },
   "source": [
    "## notion de *fork*"
   ]
  },
  {
   "cell_type": "markdown",
   "metadata": {
    "slideshow": {
     "slide_type": ""
    }
   },
   "source": [
    "* puisque les utilisateurs ont les droits en écriture  \n",
    "  sur les repos qui leur appartiennent\n",
    "\n",
    "* github permet à bob de créer  \n",
    "  **son propre *fork*** de `alice/superpower`  \n",
    "\n",
    "* c'est techniquement un **simple clone** \n",
    "* accessible comme `bob/superpower` \n",
    "* mais cette fois `bob` a les droits en écriture"
   ]
  },
  {
   "cell_type": "markdown",
   "metadata": {
    "slideshow": {
     "slide_type": "slide"
    }
   },
   "source": [
    "![](../media/github-fork.png)"
   ]
  },
  {
   "cell_type": "markdown",
   "metadata": {
    "slideshow": {
     "slide_type": "notes"
    }
   },
   "source": [
    "les numéros indiquent l'ordre de création usuel des différents morceaux; d'abord (1) alice travaille dans un dépôt local, elle décide ensuite (2) de le publier sur github; à ce stade bob est intéressé et (3) clône le repo de github sur son ordi local; cela lui permet de mettre au point une amélioration, et pour qu'alice puisse la voir, il (4) se crée un *fork* sur github.\n"
   ]
  },
  {
   "cell_type": "markdown",
   "metadata": {
    "slideshow": {
     "slide_type": "slide"
    }
   },
   "source": [
    "## pull request"
   ]
  },
  {
   "cell_type": "markdown",
   "metadata": {},
   "source": [
    "une fois que bob est satisfait de sa contribution, il va :\n",
    "\n",
    "* pousser sa contribution **dans son fork**\n",
    "* et ouvrir sur github dans le repo d'alice un ***pull request*** \n",
    "* à partir de son propre code, et de \n",
    "* la branche du repo d'alice dans laquelle il propose de merger\n",
    "  \n",
    "bob propose à alice de merger sa contribution  \n",
    "e.g. le commit `bob/superpower:master`  \n",
    "dans la branche *upstream* `alice/superpower:master`  \n",
    "(le même concept dans gitlab s'appelle *merge request*)"
   ]
  },
  {
   "cell_type": "markdown",
   "metadata": {
    "slideshow": {
     "slide_type": "slide"
    }
   },
   "source": [
    "## comment instruire un pull request "
   ]
  },
  {
   "cell_type": "markdown",
   "metadata": {
    "slideshow": {
     "slide_type": ""
    }
   },
   "source": [
    "à partir de ce *pull request*, alice peut :\n",
    "\n",
    "* discuter informellement avec bob\n",
    "* faire une revue du code de bob en annotant le code\n",
    "* demander à bob des changements\n",
    "* effectivement merger (automatiquement) le travail de bob"
   ]
  },
  {
   "cell_type": "markdown",
   "metadata": {
    "slideshow": {
     "slide_type": "notes"
    }
   },
   "source": [
    "Bien noter que les deux opérations en vert sur la figure (fork et pull request) ne sont pas natives de la suite git :\n",
    "\n",
    "Il n'y a pas de commande `git fork`, même si la création d'un fork s'apparente effectivement à un clone, mais implique aussi de conserver la notion de repo original et de fork\n",
    "\n",
    "Le pull request est ici une notion spécifique à github qui n'existe pas non plus en tant que telle dans la suite git; gitlab et bitbucket offrent bien sûr toutes les deux une fonctionnalité analogue.\n"
   ]
  },
  {
   "cell_type": "markdown",
   "metadata": {
    "slideshow": {
     "slide_type": "slide"
    }
   },
   "source": [
    "## issue"
   ]
  },
  {
   "cell_type": "markdown",
   "metadata": {},
   "source": [
    "par ailleurs, github propose la notion de *issue*, une sorte de fil de discussion amélioré, qui permet les échanges sous un format très libre, avec un système de tags - comme dans un forum de discussion."
   ]
  },
  {
   "cell_type": "markdown",
   "metadata": {},
   "source": [
    "demo sur un vrai projet\n",
    "\n",
    "https://github.com/damianavila/RISE\n",
    "\n",
    "https://github.com/damianavila/RISE/issues\n",
    "\n",
    "https://github.com/damianavila/RISE/pulls"
   ]
  },
  {
   "cell_type": "markdown",
   "metadata": {
    "slideshow": {
     "slide_type": "slide"
    }
   },
   "source": [
    "## astuces pratiques"
   ]
  },
  {
   "cell_type": "markdown",
   "metadata": {},
   "source": [
    "dans les *Issues* et *Pull Requests*, c'est à nouveau **markdown** qui est utilisé  \n",
    "et de plus on peut facilement créer des références entre *issues*, *pull requests*, commits, ...\n",
    "\n",
    "par exemple `#89` pour faire référence à l'*issue* #89\n",
    "\n",
    "voir plus de détails ici : https://help.github.com/en/articles/autolinked-references-and-urls"
   ]
  },
  {
   "cell_type": "markdown",
   "metadata": {
    "slideshow": {
     "slide_type": "slide"
    }
   },
   "source": [
    "## digression : https et ssh\n",
    "\n",
    "* on a vu que github propose deux méthodes d'accès https et ssh  \n",
    "* au début on recommande d'utiliser https \n",
    "* ssh peut être une alternative intéressante en cas d'usage fréquent\n",
    "* voici quelques éléments pour aider à configurer un accès ssh"
   ]
  },
  {
   "cell_type": "markdown",
   "metadata": {
    "slideshow": {
     "slide_type": "slide"
    }
   },
   "source": [
    "## clés publique et privée\n",
    "\n",
    "* dans un groupe, les deux clés $p_u$ et $p_i$ sont inverses l'une de l'autre  \n",
    "  $p_u \\otimes p_i = p_i \\otimes p_u = 1$\n",
    "\n",
    "* on ne peut pas calculer $p_i$ en connaissant seulement $p_u$  \n",
    "  (c-à-d la combinatoire pour cela est rédhibitoire)  \n",
    "\n",
    "* tous les acteurs diffusent à leur guise leur clé publique,  \n",
    "  mais s'assurent que leur clé privée ne sort pas de leur ordi"
   ]
  },
  {
   "cell_type": "markdown",
   "metadata": {},
   "source": [
    "## ssh\n",
    "\n",
    "* `ssh` permet de créer une connexion sécurisée entre deux machines\n",
    "* l'authentification repose sur la notion de clés publique / privée\n",
    "* qui permet de signer et de s'assurer de l'identité d'une personne distante"
   ]
  },
  {
   "cell_type": "markdown",
   "metadata": {
    "slideshow": {
     "slide_type": "slide"
    }
   },
   "source": [
    "## principe de base\n",
    "\n",
    "si on désigne par $a_u$ et $a_i$ les clés publique et privée d'alice,  \n",
    "et $b_u$ et $b_i$ celles de bob\n",
    "\n",
    "* lorsqu'alice veut envoyer un message privé $m$ à bob,  \n",
    "  elle va lui envoyer $m'= m \\otimes a_i \\otimes b_u$\n",
    "\n",
    "* bob décode en calculant $m' \\otimes b_i \\otimes a_u$\n",
    "* il peut le faire car il (est le seul à) connaitre $b_i$,  \n",
    "  et il a demandé à alice de lui indiquer $a_u$\n",
    "\n",
    "* le résultat donne $m$ car  \n",
    "  $m' \\otimes b_i \\otimes a_u$  \n",
    "  $= m \\otimes a_i \\otimes b_u \\otimes b_i \\otimes a_u$  \n",
    "  $= m \\otimes a_i \\otimes 1 \\otimes a_u$  \n",
    "  $= m \\otimes 1$  \n",
    "  $=m$"
   ]
  },
  {
   "cell_type": "markdown",
   "metadata": {
    "slideshow": {
     "slide_type": "slide"
    }
   },
   "source": [
    "## avantages\n",
    "\n",
    "avec cette méthode relativement simple, bob peut se convaincre que \n",
    "\n",
    "* c'est bien alice qui a écrit le message\n",
    "* c'est bien à lui qu'il était destiné\n",
    "* personne d'autre que lui et alice n'ont connaissance du message\n",
    "\n",
    "on peut n'utiliser qu'une moitié "
   ]
  },
  {
   "cell_type": "markdown",
   "metadata": {
    "slideshow": {
     "slide_type": "slide"
    }
   },
   "source": [
    "## ssh en pratique\n",
    "\n",
    "sur MacOS et linux :\n",
    "\n",
    "* la commande `ssh-keygen` permet de créer une paire de clés  \n",
    "  (notez que l'accès à la clé privée peut lui même être protégé par un mot de passe)\n",
    "\n",
    "* qui sont généralement placées dans le directory `~/.ssh/`\n",
    "* sous le nom `id_rsa.pub` (clé publique bien entendu)  \n",
    "  et `.id_rsa` pour la clé privée\n",
    "\n",
    "après cela, pour utiliser l'accès à github via ssh, il suffit d'associer votre **clé publique** à votre profil github (voir screenshots suivants)\n",
    "\n",
    "sur Windows : [voir cette page d'aide sur github](https://help.github.com/en/articles/connecting-to-github-with-ssh)\n",
    "\n"
   ]
  },
  {
   "cell_type": "markdown",
   "metadata": {
    "slideshow": {
     "slide_type": "slide"
    }
   },
   "source": [
    "![](../media/github-settings.png)"
   ]
  },
  {
   "cell_type": "markdown",
   "metadata": {
    "slideshow": {
     "slide_type": "slide"
    }
   },
   "source": [
    "![](../media/github-keys.png)"
   ]
  },
  {
   "cell_type": "markdown",
   "metadata": {
    "slideshow": {
     "slide_type": "slide"
    }
   },
   "source": [
    "![](../media/github-newkey.png)"
   ]
  },
  {
   "cell_type": "markdown",
   "metadata": {
    "slideshow": {
     "slide_type": "slide"
    }
   },
   "source": [
    "Pour voir votre clé publique dans le terminal : (attention à bien mettre le **.pub** sinon vous publiez votre clé privée, elle ne vaut plus rien...)\n",
    "\n",
    "```bash\n",
    "$ cat ~/.ssh/id_rsa.pub\n",
    "ssh-rsa AAAAB3NzaC1yc2EAAAADAQABAAABAQDUh0vt15Wgc7CQvgbh7tcisOeAY1odTzsIF3dXsB8aqn+hRmUy2l0C/ELgiETGHtdnkCyVEi8pi6G+kGUFAfJ6HZWURf3eifsg0CrWH1y2A9CRpn3Z5F0jM17jUiBv5CrqPv63CBa+DQN54/mFUcOIN+EspqkHkQOhsP23s1YGLJ04DdX4pfe0nyo5CjAAEXnKn6dNWtGuqRunIdOskspdeq7dTYs/wChyEyiSQnzaOaHs7zbJ/ivdFjDPfMpFhIfrFAZY+q90Ut4LR/9IQL8ZW6OKEeoVftXpGIO6W9oVkMTojBHEl5c64FOgYsFg3wFfemMQ5LZcO/Pd8SkYYOKz Thierry.Parmentelat\n",
    "```\n",
    "\n",
    "ne reste plus qu'à copier-coller dans le dialogue github\n",
    "\n",
    "![](../media/github-addkey.png)"
   ]
  }
 ],
 "metadata": {
  "celltoolbar": "Slideshow",
  "ipub": {
   "sphinx": {
    "toggle_input": false,
    "toggle_input_all": false,
    "toggle_output": false,
    "toggle_output_all": false
   }
  },
  "kernelspec": {
   "display_name": "Calysto Bash",
   "language": "bash",
   "name": "calysto_bash"
  },
  "language_info": {
   "file_extension": ".sh",
   "help_links": [
    {
     "text": "MetaKernel Magics",
     "url": "https://metakernel.readthedocs.io/en/latest/source/README.html"
    }
   ],
   "mimetype": "text/x-sh",
   "name": "bash",
   "version": "0.2.1"
  },
  "notebookname": "les plateformes type github",
  "rise": {
   "autolaunch": true,
   "slideNumber": "c/t",
   "start_slideshow_at": "selected",
   "theme": "sky",
   "transition": "cube"
  },
  "version": "1.0"
 },
 "nbformat": 4,
 "nbformat_minor": 4
}

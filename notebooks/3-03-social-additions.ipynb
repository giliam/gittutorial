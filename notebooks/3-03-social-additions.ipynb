{
 "cells": [
  {
   "cell_type": "markdown",
   "metadata": {
    "slideshow": {
     "slide_type": "slide"
    }
   },
   "source": [
    "<div class=\"licence\">\n",
    "<span>Licence CC BY-NC-ND</span>\n",
    "<span>Thierry Parmentelat</span>\n",
    "<span><img src=\"../media/inria-25-alpha.png\" /></span>\n",
    "</div>"
   ]
  },
  {
   "cell_type": "markdown",
   "metadata": {
    "slideshow": {
     "slide_type": ""
    }
   },
   "source": [
    "# les plateformes type github"
   ]
  },
  {
   "cell_type": "markdown",
   "metadata": {
    "slideshow": {
     "slide_type": "slide"
    }
   },
   "source": [
    "## principe\n",
    "\n",
    "* un utilisateur authentifié\n",
    "* peut créer autant de dépôts qu'il veut\n",
    "* pour servir de **point d'échange** entre utilisateurs  \n",
    "  comme dans le scénario avec alice et bob"
   ]
  },
  {
   "cell_type": "markdown",
   "metadata": {
    "slideshow": {
     "slide_type": ""
    }
   },
   "source": [
    "* par défaut ils sont **publics**  \n",
    "  accès en lecture pour tous même sans login sur github  \n",
    "  droits en écriture sur invitation\n",
    "\n",
    "* dépôts **privés** disponibles également  \n",
    "  accès en lecture/écriture seulement aux membres"
   ]
  },
  {
   "cell_type": "markdown",
   "metadata": {
    "slideshow": {
     "slide_type": "slide"
    }
   },
   "source": [
    "## points d'entrée"
   ]
  },
  {
   "cell_type": "markdown",
   "metadata": {
    "slideshow": {
     "slide_type": ""
    }
   },
   "source": [
    "chaque dépôt peut être utilisé **comme un *remote***  \n",
    "\n",
    "*  via https: `https://github.com/parmentelat/asynciojobs`   \n",
    "*  via ssh:  `git@github.com:parmentelat/asynciojobs.git`"
   ]
  },
  {
   "cell_type": "markdown",
   "metadata": {
    "slideshow": {
     "slide_type": ""
    }
   },
   "source": [
    "et de plus on peut consulter / gérer le dépôt dans le navigateur \n",
    "\n",
    "* exemple <https://github.com/parmentelat/asynciojobs>\n",
    "* qui offre des fonctions supplémentaires (issues, pr, ...)   \n",
    "  dont on parlera bientôt"
   ]
  },
  {
   "cell_type": "markdown",
   "metadata": {
    "slideshow": {
     "slide_type": "slide"
    }
   },
   "source": [
    "## création d'un dépôt"
   ]
  },
  {
   "cell_type": "markdown",
   "metadata": {
    "cell_style": "split",
    "slideshow": {
     "slide_type": ""
    }
   },
   "source": [
    "2 chemins possibles :\n",
    "\n",
    "* soit on a déjà un dépôt local,  \n",
    "  on veut dans ce cas créer un dépôt complètement vide  \n",
    "  pour pouvoir **pousser** dedans  \n",
    "  (dans ce cas ne pas mettre de README.md)\n",
    "  \n",
    "* soit on part vraiment de rien  \n",
    "  dans ce cas-là bien souvent on crée un `README.md`  \n",
    "  au moment de la création du dépôt sur github  \n",
    "  et on **clone** ensuite pour créer un dépôt local"
   ]
  },
  {
   "cell_type": "markdown",
   "metadata": {
    "cell_style": "split"
   },
   "source": [
    "![](../media/github-create.png)"
   ]
  },
  {
   "cell_type": "markdown",
   "metadata": {
    "slideshow": {
     "slide_type": "slide"
    }
   },
   "source": [
    "## droits d'accès (dépôts publics)"
   ]
  },
  {
   "cell_type": "markdown",
   "metadata": {},
   "source": [
    "* par défaut, seul **le propriétaire peut écrire** dans un dépôt\n",
    "* il peut aussi explicitement **inviter** des personnes  \n",
    "  qui, si elles l'acceptent, obtiennent ainsi le droit en écriture"
   ]
  },
  {
   "cell_type": "markdown",
   "metadata": {},
   "source": [
    "* **MAIS** ce mécanismes n'est pas utilisé très souvent (pas *scalable*)\n",
    "* il existe un autre moyen pour faire entrer une contribution dans un projet"
   ]
  },
  {
   "cell_type": "markdown",
   "metadata": {
    "slideshow": {
     "slide_type": "slide"
    }
   },
   "source": [
    "## gérer les contributeurs"
   ]
  },
  {
   "cell_type": "markdown",
   "metadata": {},
   "source": [
    "* admettons qu'alice a publié un dépôt <https://github.com/alice/superpower>\n",
    "* et que bob veuille contribuer\n",
    "* si alice connait bien bob, elle peut lui donner les droits dans son dépôt\n",
    "* mais si ce n'est pas le cas  \n",
    "  ou si elle veut garder le contrôle sur ce qui entre dans le repo\n",
    "\n",
    "* on utilise un workflow un peu plus compliqué...\n"
   ]
  },
  {
   "cell_type": "markdown",
   "metadata": {
    "slideshow": {
     "slide_type": "slide"
    }
   },
   "source": [
    "## notion de *fork*"
   ]
  },
  {
   "cell_type": "markdown",
   "metadata": {
    "slideshow": {
     "slide_type": ""
    }
   },
   "source": [
    "* puisque les utilisateurs ont les droits en écriture  \n",
    "  sur les repos qui leur appartiennent\n",
    "\n",
    "* github permet à bob de créer **son propre *fork*** de `alice/superpower`  \n",
    "* accessible comme  \n",
    "`bob/superpower` \n",
    "\n",
    "* c'est techniquement un **simple clone** \n",
    "* mais cette fois `bob` a les droits en écriture"
   ]
  },
  {
   "cell_type": "markdown",
   "metadata": {
    "slideshow": {
     "slide_type": "slide"
    }
   },
   "source": [
    "![](../media/github-fork.png)"
   ]
  },
  {
   "cell_type": "markdown",
   "metadata": {
    "slideshow": {
     "slide_type": "notes"
    }
   },
   "source": [
    "les numéros indiquent l'ordre de création usuel des différents morceaux; d'abord (1) alice travaille dans un dépôt local, elle décide ensuite (2) de le publier sur github; à ce stade bob est intéressé et (3) clône le repo de github sur son ordi local; cela lui permet de mettre au point une amélioration, et pour qu'alice puisse la voir, il (4) se crée un *fork* sur github.\n"
   ]
  },
  {
   "cell_type": "markdown",
   "metadata": {
    "slideshow": {
     "slide_type": "slide"
    }
   },
   "source": [
    "## pull request"
   ]
  },
  {
   "cell_type": "markdown",
   "metadata": {},
   "source": [
    "une fois que bob est satisfait de sa contribution, il va :\n",
    "\n",
    "* pousser ses propositions dans son fork\n",
    "* et ouvrir sur github dans le repo d'alice un *pull request* \n",
    "* qui référence \n",
    "  * la branche du repo d'alice dans laquelle il propose de merger\n",
    "  * et sa propre branche\n",
    "  \n",
    "à partir de ce *pull request*, alice peut :\n",
    "\n",
    "* faire une revue des différences\n",
    "* demander à bob des changements\n",
    "* effectivement merger (automatiquement) le travail de bob"
   ]
  },
  {
   "cell_type": "markdown",
   "metadata": {
    "slideshow": {
     "slide_type": "notes"
    }
   },
   "source": [
    "Bien noter que les deux opérations en vert sur la figure (fork et pull request) ne sont pas natives de la suite git :\n",
    "\n",
    "Il n'y a pas de commande `git fork`, même si la création d'un fork s'apparente effectivement à un clone, mais implique aussi de conserver la notion de repo original et de fork\n",
    "\n",
    "Le pull request est ici une notion spécifique à github qui n'existe pas non plus en tant que telle dans la suite git; gitlab et bitbucket offrent bien sûr toutes les deux une fonctionnalité analogue.\n"
   ]
  },
  {
   "cell_type": "markdown",
   "metadata": {
    "slideshow": {
     "slide_type": "slide"
    }
   },
   "source": [
    "## issue"
   ]
  },
  {
   "cell_type": "markdown",
   "metadata": {},
   "source": [
    "par ailleurs, github propose la notion de *issue*, une sorte de fil de discussion amélioré, qui permet les échanges sous un format très libre, avec un système de tags - comme dans un forum de discussion."
   ]
  },
  {
   "cell_type": "markdown",
   "metadata": {},
   "source": [
    "demo sur un vrai projet\n",
    "\n",
    "https://github.com/damianavila/RISE\n",
    "\n",
    "https://github.com/damianavila/RISE/issues\n",
    "\n",
    "https://github.com/damianavila/RISE/pulls"
   ]
  },
  {
   "cell_type": "markdown",
   "metadata": {
    "slideshow": {
     "slide_type": "slide"
    }
   },
   "source": [
    "## astuces pratiques"
   ]
  },
  {
   "cell_type": "markdown",
   "metadata": {},
   "source": [
    "dans les *Issues* et *Pull Requests*, c'est à nouveau markdown qui est utilisé  \n",
    "et de plus on peut facilement créer des références entre *issues*, *pull requests*, commits, ...\n",
    "\n",
    "par exemple #89 pour faire référence à l'*issue* #89\n",
    "\n",
    "voir plus de détails ici : https://help.github.com/en/articles/autolinked-references-and-urls"
   ]
  }
 ],
 "metadata": {
  "celltoolbar": "Slideshow",
  "ipub": {
   "sphinx": {
    "toggle_input": true,
    "toggle_input_all": true,
    "toggle_output": true,
    "toggle_output_all": true
   }
  },
  "kernelspec": {
   "display_name": "Calysto Bash",
   "language": "bash",
   "name": "calysto_bash"
  },
  "language_info": {
   "file_extension": ".sh",
   "help_links": [
    {
     "text": "MetaKernel Magics",
     "url": "https://metakernel.readthedocs.io/en/latest/source/README.html"
    }
   ],
   "mimetype": "text/x-sh",
   "name": "bash",
   "version": "0.2.1"
  },
  "notebookname": "les plateformes type github",
  "rise": {
   "autolaunch": true,
   "slideNumber": "c/t",
   "start_slideshow_at": "selected",
   "theme": "sky",
   "transition": "cube"
  },
  "version": "1.0"
 },
 "nbformat": 4,
 "nbformat_minor": 4
}

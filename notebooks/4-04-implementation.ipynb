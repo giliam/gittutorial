{
 "cells": [
  {
   "cell_type": "markdown",
   "metadata": {
    "slideshow": {
     "slide_type": "slide"
    }
   },
   "source": [
    "<div class=\"licence\">\n",
    "<span>Licence CC BY-NC-ND</span>\n",
    "<span>Thierry Parmentelat</span>\n",
    "<span><img src=\"../media/inria-25-alpha.png\" /></span>\n",
    "</div>"
   ]
  },
  {
   "cell_type": "markdown",
   "metadata": {
    "slideshow": {
     "slide_type": ""
    }
   },
   "source": [
    "# aperçu de l'implémentation"
   ]
  },
  {
   "cell_type": "markdown",
   "metadata": {},
   "source": [
    "*très rapidement montrer à quoi ressemblent les objets du dépôt*\n",
    "\n",
    "* commit\n",
    "* tree\n",
    "* blob\n",
    "\n",
    "dire un mot de `refs` ?"
   ]
  },
  {
   "cell_type": "code",
   "execution_count": null,
   "metadata": {
    "slideshow": {
     "slide_type": "slide"
    }
   },
   "outputs": [],
   "source": [
    "# ce sera toujours notre façon de commencer\n",
    "[ -f scripts/helpers.sh ] && source scripts/helpers.sh"
   ]
  },
  {
   "cell_type": "code",
   "execution_count": null,
   "metadata": {
    "slideshow": {
     "slide_type": "slide"
    }
   },
   "outputs": [],
   "source": [
    "cd $TOP/repo-alice\n",
    "pwd"
   ]
  },
  {
   "cell_type": "code",
   "execution_count": null,
   "metadata": {},
   "outputs": [],
   "source": [
    "git show-ref --hash --head HEAD"
   ]
  },
  {
   "cell_type": "code",
   "execution_count": null,
   "metadata": {},
   "outputs": [],
   "source": [
    "git log -1 --pretty='%h'"
   ]
  },
  {
   "cell_type": "code",
   "execution_count": null,
   "metadata": {},
   "outputs": [],
   "source": [
    "git log -1 --pretty='%H'"
   ]
  },
  {
   "cell_type": "code",
   "execution_count": null,
   "metadata": {},
   "outputs": [],
   "source": [
    "# on calcule le SHA-1 du commit courant\n",
    "commit_hash=$(git log -1 --pretty='%h')\n",
    "\n",
    "# il est dans la variable bash 'commit_hash' \n",
    "# qu'on peut référencer avec '$commit_hash'\n",
    "\n",
    "echo $commit_hash"
   ]
  },
  {
   "cell_type": "code",
   "execution_count": null,
   "metadata": {},
   "outputs": [],
   "source": [
    "# le contenu typique d'un objet de type 'commit'\n",
    "\n",
    "git cat-file -p $commit_hash"
   ]
  },
  {
   "cell_type": "code",
   "execution_count": null,
   "metadata": {},
   "outputs": [],
   "source": [
    "git cat-file -p $commit_hash | git hash-object -t commit --stdin"
   ]
  },
  {
   "cell_type": "code",
   "execution_count": null,
   "metadata": {},
   "outputs": [],
   "source": [
    "# le SHA-1 de l'objet git représentant le contenu du directory est\n",
    "\n",
    "directory_hash=$(git cat-file -p $commit_hash | grep '^tree ' | cut -d' ' -f2)\n",
    "\n",
    "echo $directory_hash"
   ]
  },
  {
   "cell_type": "code",
   "execution_count": null,
   "metadata": {},
   "outputs": [],
   "source": [
    "# le contenu typiquement d'un objet de type 'tree'\n",
    "# correspondant à un répertoire\n",
    "\n",
    "git cat-file -p $directory_hash"
   ]
  },
  {
   "cell_type": "code",
   "execution_count": null,
   "metadata": {},
   "outputs": [],
   "source": [
    "file_hash=$(git cat-file -p $directory_hash | head -1 | awk '{print $3;}')\n",
    "echo $file_hash"
   ]
  },
  {
   "cell_type": "code",
   "execution_count": null,
   "metadata": {},
   "outputs": [],
   "source": [
    "#dir_part=$(cut -c 1-2 <<< $file_hash)\n",
    "#file_part=$(cut -c 3- <<< $file_hash)\n",
    "dir_part=${file_hash:0:2}\n",
    "file_part=${file_hash:2:38}\n",
    "\n",
    "echo dir=$dir_part\n",
    "echo file=$file_part"
   ]
  },
  {
   "cell_type": "code",
   "execution_count": null,
   "metadata": {},
   "outputs": [],
   "source": [
    "echo .git/objects/$dir_part/$file_part"
   ]
  },
  {
   "cell_type": "code",
   "execution_count": null,
   "metadata": {},
   "outputs": [],
   "source": [
    "ls -l .git/objects/$dir_part/$file_part"
   ]
  },
  {
   "cell_type": "code",
   "execution_count": null,
   "metadata": {},
   "outputs": [],
   "source": [
    "# OOPS can't use cat directly\n",
    "cat .git/objects/$dir_part/$file_part"
   ]
  },
  {
   "cell_type": "markdown",
   "metadata": {},
   "source": [
    "need to use `zlib` apparently... "
   ]
  },
  {
   "cell_type": "markdown",
   "metadata": {},
   "source": [
    "voir aussi\n",
    "https://git-scm.com/book/en/v2/Git-Internals-Git-Objects"
   ]
  }
 ],
 "metadata": {
  "celltoolbar": "Slideshow",
  "ipub": {
   "sphinx": {
    "toggle_input": true,
    "toggle_input_all": true,
    "toggle_output": true,
    "toggle_output_all": true
   }
  },
  "kernelspec": {
   "display_name": "Calysto Bash",
   "language": "bash",
   "name": "calysto_bash"
  },
  "language_info": {
   "file_extension": ".sh",
   "help_links": [
    {
     "text": "MetaKernel Magics",
     "url": "https://metakernel.readthedocs.io/en/latest/source/README.html"
    }
   ],
   "mimetype": "text/x-sh",
   "name": "bash",
   "version": "0.2.1"
  },
  "notebookname": "implémentation",
  "rise": {
   "autolaunch": true,
   "slideNumber": "c/t",
   "start_slideshow_at": "selected",
   "theme": "sky",
   "transition": "cube"
  },
  "version": "1.0"
 },
 "nbformat": 4,
 "nbformat_minor": 4
}

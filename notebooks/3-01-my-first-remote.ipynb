{
 "cells": [
  {
   "cell_type": "markdown",
   "metadata": {
    "slideshow": {
     "slide_type": "slide"
    }
   },
   "source": [
    "<div class=\"licence\">\n",
    "<span>Licence CC BY-NC-ND</span>\n",
    "<span>Thierry Parmentelat</span>\n",
    "<span><img src=\"../media/inria-25-alpha.png\" /></span>\n",
    "</div>"
   ]
  },
  {
   "cell_type": "markdown",
   "metadata": {
    "slideshow": {
     "slide_type": ""
    }
   },
   "source": [
    "# synchronisations entre repos"
   ]
  },
  {
   "cell_type": "code",
   "execution_count": null,
   "metadata": {
    "slideshow": {
     "slide_type": "slide"
    }
   },
   "outputs": [],
   "source": [
    "# ce sera toujours notre façon de commencer\n",
    "[ -f scripts/helpers.sh ] && source scripts/helpers.sh"
   ]
  },
  {
   "cell_type": "markdown",
   "metadata": {
    "slideshow": {
     "slide_type": "slide"
    }
   },
   "source": [
    "## plusieurs repos"
   ]
  },
  {
   "cell_type": "markdown",
   "metadata": {},
   "source": [
    "* jusqu'ici on n'a fait que travailler dans un seul repo\n",
    "* pour permettre le travail en groupe, git offre des outils  \n",
    "  pour **synchroniser deux repos** entre eux  \n",
    "  **le sujet de ce notebook**\n",
    "\n",
    "* qu'on peut utiliser pour créer des workflows et architectures  \n",
    "  aussi simples ou sophistiqués que nécessaire\n",
    "\n",
    "* essentiellement 'chacun chez soi'  \n",
    "  chacun a toujours le contrôle de son propre repo"
   ]
  },
  {
   "cell_type": "markdown",
   "metadata": {
    "slideshow": {
     "slide_type": "slide"
    }
   },
   "source": [
    "## architecture décentralisée"
   ]
  },
  {
   "cell_type": "markdown",
   "metadata": {},
   "source": [
    "* on a vu plusieurs architectures permettant de créer des workflows\n",
    "* comme par exemple\n",
    "\n",
    "![](../media/archi-star.png)\n",
    "\n",
    "* dans ce schéma \n",
    "  * les boites sont des repos\n",
    "  * les liens correspondent à des synchronisations entre repos  "
   ]
  },
  {
   "cell_type": "markdown",
   "metadata": {
    "slideshow": {
     "slide_type": "notes"
    }
   },
   "source": [
    "Tout ce qui a été vu jusqu'à présent était **local** à un dépôt.\n",
    "\n",
    "Dans cette partie du cours nous allons étudier les outils qui permettent de synchroniser les repos entre eux, c'est-à-dire de matérialiser les flêches du schéma.\n",
    "\n",
    "On rappelle également que les boites gris clair représentent un dépôt *bare* - c'est-à-dire sans espace de travail associé, simplement le graphe des commits. C'est le cas typiquement pour les plateformes de type github."
   ]
  },
  {
   "cell_type": "markdown",
   "metadata": {
    "slideshow": {
     "slide_type": "slide"
    }
   },
   "source": [
    "## notre exemple"
   ]
  },
  {
   "cell_type": "markdown",
   "metadata": {},
   "source": [
    "pour cette partie :\n",
    "\n",
    "* nous repartons d'un dépôt quasiment vide `repo-alice`\n",
    "* que l'on va *cloner* dans `repo-cloned`\n",
    "* puis les modifier (créer des commits)\n",
    "* et les synchroniser entre eux "
   ]
  },
  {
   "cell_type": "markdown",
   "metadata": {
    "slideshow": {
     "slide_type": "notes"
    }
   },
   "source": [
    "En pratique quand deux personnes travaillent ensemble, elles passent la plupart du temps au travers d'un troisième dépôt sur une infrastructure publique de type github. Mais pour l'instant on s'attache à bien comprendre les mécanismes de synchronisation entre deux repos."
   ]
  },
  {
   "cell_type": "code",
   "execution_count": null,
   "metadata": {
    "slideshow": {
     "slide_type": "slide"
    }
   },
   "outputs": [],
   "source": [
    "cd $TOP\n",
    "\n",
    "# on recommence un autre dépôt plus simple; à nouveau\n",
    "# je nettoie complètement ce qu'on a pu faire précédemment\n",
    "if [ -d repo-alice ]; then\n",
    "    echo \"on repart d'un directory vide\"\n",
    "    rm -rf repo-alice repo-cloned fake-github.git repo-bob\n",
    "fi"
   ]
  },
  {
   "cell_type": "markdown",
   "metadata": {
    "slideshow": {
     "slide_type": "slide"
    }
   },
   "source": [
    "## création"
   ]
  },
  {
   "cell_type": "code",
   "execution_count": null,
   "metadata": {
    "slideshow": {
     "slide_type": ""
    }
   },
   "outputs": [],
   "source": [
    "# on le crée\n",
    "mkdir repo-alice\n",
    "\n",
    "# on se place dans ce répertoire dépôt git\n",
    "cd $TOP/repo-alice"
   ]
  },
  {
   "cell_type": "code",
   "execution_count": null,
   "metadata": {},
   "outputs": [],
   "source": [
    "pwd "
   ]
  },
  {
   "cell_type": "code",
   "execution_count": null,
   "metadata": {},
   "outputs": [],
   "source": [
    "# on remplit un peu avec deux commits\n",
    "$SCRIPTS/do populate-repo-alice"
   ]
  },
  {
   "cell_type": "markdown",
   "metadata": {
    "slideshow": {
     "slide_type": "slide"
    }
   },
   "source": [
    "## le point"
   ]
  },
  {
   "cell_type": "code",
   "execution_count": null,
   "metadata": {
    "cell_style": "split",
    "slideshow": {
     "slide_type": ""
    }
   },
   "outputs": [],
   "source": [
    "# vous devez avoir 2 commits\n",
    "git l\n"
   ]
  },
  {
   "cell_type": "code",
   "execution_count": null,
   "metadata": {
    "cell_style": "split"
   },
   "outputs": [],
   "source": [
    "# avec deux branches `master` et `devel`\n",
    "# on est sur la branch devel\n",
    "git branch"
   ]
  },
  {
   "cell_type": "markdown",
   "metadata": {
    "slideshow": {
     "slide_type": "slide"
    }
   },
   "source": [
    "## pour les besoins du cours"
   ]
  },
  {
   "cell_type": "markdown",
   "metadata": {},
   "source": [
    "* en général, les repos sont créés sur des **machines distinctes**\n",
    "  * typiquement : un dépôt local + un sur github\n",
    "* techniquement, pas obligatoire\n",
    "  * **pour les besoins du cours**,  \n",
    "    nous allons créer nos repos **localement** \n",
    "\n",
    "* les mécanismes de copie/synchronisation sont exactement identiques"
   ]
  },
  {
   "cell_type": "markdown",
   "metadata": {
    "slideshow": {
     "slide_type": "slide"
    }
   },
   "source": [
    "on verra plus tard qu'en pratique, deux personnes qui  \n",
    "travaillent ensemble passent par un troisième dépôt sur github\n",
    "\n",
    "mais pour l'instant on veut se concentrer sur les opérations de base  \n",
    "**entre deux dépôts** : `fetch` et `pull`"
   ]
  },
  {
   "cell_type": "code",
   "execution_count": null,
   "metadata": {
    "cell_style": "center",
    "slideshow": {
     "slide_type": ""
    }
   },
   "outputs": [],
   "source": [
    "# on utilisera ce répertoire $TOP/repo-cloned\n",
    "# pour simuler un deuxième dépôt\n",
    "# pour l'instant on le supprime\n",
    "# \n",
    "if [ -d $TOP/repo-cloned ]; then\n",
    "    rm -rf $TOP/repo-cloned\n",
    "fi"
   ]
  },
  {
   "cell_type": "markdown",
   "metadata": {
    "slideshow": {
     "slide_type": "slide"
    }
   },
   "source": [
    "## `git clone` pour dupliquer un dépôt"
   ]
  },
  {
   "cell_type": "markdown",
   "metadata": {},
   "source": [
    "pour créer localement une copie d'un autre dépôt  \n",
    "(typiquement sur github en pratique)"
   ]
  },
  {
   "cell_type": "code",
   "execution_count": null,
   "metadata": {
    "cell_style": "center",
    "slideshow": {
     "slide_type": ""
    }
   },
   "outputs": [],
   "source": [
    "cd $TOP\n",
    "\n",
    "# idem, en pratique on peut remplacer 'repo-alice'\n",
    "# par une URL sur github\n",
    "\n",
    "git clone repo-alice repo-cloned"
   ]
  },
  {
   "cell_type": "markdown",
   "metadata": {
    "slideshow": {
     "slide_type": "slide"
    }
   },
   "source": [
    "**maintenant j'ai deux repos**"
   ]
  },
  {
   "cell_type": "code",
   "execution_count": null,
   "metadata": {
    "cell_style": "split"
   },
   "outputs": [],
   "source": [
    "cd $TOP/repo-alice\n",
    "git l\n",
    "echo ============\n",
    "ls"
   ]
  },
  {
   "cell_type": "code",
   "execution_count": null,
   "metadata": {
    "cell_style": "split",
    "slideshow": {
     "slide_type": ""
    }
   },
   "outputs": [],
   "source": [
    "cd $TOP/repo-cloned\n",
    "git l\n",
    "echo ============\n",
    "ls"
   ]
  },
  {
   "cell_type": "markdown",
   "metadata": {},
   "source": [
    "remarquez :\n",
    "\n",
    "* les commits des deux côtés ont **exactement les mêmes SHA-1**\n",
    "* la branche courante (devel) est recréée dans le clone au même endroit\n",
    "* d'autres branches comme `origin/master' sont créées \n",
    "  également dans le clone ; on en reparlera…"
   ]
  },
  {
   "cell_type": "markdown",
   "metadata": {
    "slideshow": {
     "slide_type": "notes"
    }
   },
   "source": [
    "Une petite subtilité à noter ici : dans cette configuration les deux repos - source et destination - sont des dépôt *avec fichiers* - et donc pas *bare*. On pourra ainsi montrer la totale symétrie des outils de synchronisation, il n'y a aucune notion de maitre ou d'esclave lorsque deux repos ont une relation de synchronisation.\n",
    "\n",
    "On verra dans un deuxième exemple le cas où un des repos est *bare*, ce qui est plus conforme à ce qui se passe en général en pratique, puisqu'à nouveau les repos de type github sont des repos *bare* sans espace de travail.\n",
    "\n",
    "Dans les affichages, vous remarquerez une différence concernant le terme `origin`; il s agit d'un remote qui est créé dans repo-cloned par l'opération de clonage; pour faire court, `repo-cloned` se souvient de l'adresse qui a été utilisée pour le cloner, et la mémorise sous le nom `origin`; à cette petite différence près, le contenu des deux repos est identique."
   ]
  },
  {
   "cell_type": "markdown",
   "metadata": {
    "cell_style": "center",
    "slideshow": {
     "slide_type": "slide"
    }
   },
   "source": [
    "le clone va contenir :\n",
    "\n",
    "* **les commits**, c'est-à-dire la partie `bare`\n",
    "* la même **branche courante** que la source\n",
    "* les fichiers présents dans le **commit courant**\n",
    "* mais par contre l'index n'est **pas concerné**\n",
    "  * si on avait eu des modifications pendantes dans `repo-alice`\n",
    "  * que ce soit dans l'index ou les fichiers\n",
    "  * ils **n'auraient pas** été copiés"
   ]
  },
  {
   "cell_type": "code",
   "execution_count": null,
   "metadata": {
    "cell_style": "split"
   },
   "outputs": [],
   "source": [
    "# le clone est 'propre', \n",
    "# aucun changement pendant\n",
    "git status"
   ]
  },
  {
   "cell_type": "code",
   "execution_count": null,
   "metadata": {
    "cell_style": "split"
   },
   "outputs": [],
   "source": [
    "# on se trouve sur le même commit\n",
    "# que repo-alice\n",
    "git l"
   ]
  },
  {
   "cell_type": "markdown",
   "metadata": {
    "slideshow": {
     "slide_type": "notes"
    }
   },
   "source": [
    "Remarquez également que `repo-cloned` ne contient pas de branche locale `master`.\n",
    "En fait au moment du `git clone`,  la branche courante de `repo-alice` était `devel`, aussi le clone a créé dans `repo-cloned` une branche `devel`, mais pas de branche `master`.\n",
    "\n",
    "À ce stade si on voulait travailler sur la branche `master` dans `repo-cloned`, on pourrait le faire facilement en faisant simplement  \n",
    "`git checkout master`."
   ]
  },
  {
   "cell_type": "markdown",
   "metadata": {
    "slideshow": {
     "slide_type": "slide"
    }
   },
   "source": [
    "* en réalité dans un `git clone`\n",
    "  * du coté source, seul le ***bare dépôt*** est lu  \n",
    "  * les fichiers et l'index ne sont **pas du tout regardés**\n",
    "\n",
    "* bien souvent d'ailleurs en pratique,  \n",
    "  la source est sur une infra comme github  \n",
    "  et dans ce cas la source n'est **que** un *bare dépôt*\n",
    "  "
   ]
  },
  {
   "cell_type": "markdown",
   "metadata": {
    "slideshow": {
     "slide_type": "slide"
    }
   },
   "source": [
    "c'est le cas de façon générale pour toutes\n",
    "les fonctions de synchro entre repos\n",
    "\n",
    "  * elles ne concernent en réalité  \n",
    "    que la partie 'bare dépôt' des deux cotés\n",
    "\n",
    "  * en général les fichiers et index **ne sont pas concernés**  \n",
    "    par les synchros entre dépôt\n",
    "\n",
    "  * qui ne font principalement que transférer des commits  \n",
    "    (et mettre à jour des branches)\n",
    "    \n",
    "* **sauf** dans le cas de `pull` \n",
    "  * qui en réalité fait `fetch` + `merge`\n",
    "  * et du coup `merge` peut être amené à toucher les fichiers"
   ]
  },
  {
   "cell_type": "markdown",
   "metadata": {
    "slideshow": {
     "slide_type": "notes"
    }
   },
   "source": [
    "En fait les fichiers présents dans le dépôt source ne sont pas du tout lus lors du `clone`.\n",
    "La seule chose qui est copiée lorsqu'on fait un `clone` provient du `.git` du dépôt source, on aurait pu aussi bien cloner un dépôt *bare*.\n",
    "\n",
    "Les fichiers qui sont ensuite créés dans le dépôt destination le sont uniquement sur la base du commit courant."
   ]
  },
  {
   "cell_type": "markdown",
   "metadata": {
    "cell_style": "center",
    "slideshow": {
     "slide_type": "slide"
    }
   },
   "source": [
    "à noter surtout :\n",
    "\n",
    "* **pas de hiérarchie** entre les repos\n",
    "* la source et le clone sont des **pairs** (pas de *master*/*slave*)"
   ]
  },
  {
   "cell_type": "markdown",
   "metadata": {
    "slideshow": {
     "slide_type": "slide"
    }
   },
   "source": [
    "autre remarque :\n",
    "\n",
    "* les SHA1 des commits **sont préservés**\n",
    "* la copie se fait quasiment à l'octet près\n",
    "* ce qui permet un mode de **réplication incrémental**\n",
    "  * si je copie un gros dépôt \n",
    "  * et que je tire à nouveau depuis ce même dépôt le surlendemain\n",
    "  * on va efficacement calculer ce qu'il est réellement utile de transférer"
   ]
  },
  {
   "cell_type": "code",
   "execution_count": null,
   "metadata": {
    "cell_style": "split"
   },
   "outputs": [],
   "source": [
    "cd $TOP/repo-alice\n",
    "git l -1"
   ]
  },
  {
   "cell_type": "code",
   "execution_count": null,
   "metadata": {
    "cell_style": "split"
   },
   "outputs": [],
   "source": [
    "cd $TOP/repo-cloned\n",
    "git l -1"
   ]
  },
  {
   "cell_type": "markdown",
   "metadata": {
    "slideshow": {
     "slide_type": "notes"
    }
   },
   "source": [
    "Notez les SHA-1 sont les mêmes dans les deux repos."
   ]
  },
  {
   "cell_type": "markdown",
   "metadata": {
    "cell_style": "center",
    "slideshow": {
     "slide_type": "slide"
    }
   },
   "source": [
    "## `git clone` en vrai "
   ]
  },
  {
   "cell_type": "markdown",
   "metadata": {},
   "source": [
    "l'usage le plus fréquent consiste à dupliquer un dépôt qui est publié sur `github`\n",
    "\n",
    "par exemple ce cours est sur\n",
    "https://github.com/flotpython/gittutorial/"
   ]
  },
  {
   "cell_type": "markdown",
   "metadata": {
    "cell_style": "split"
   },
   "source": [
    "![](../media/github-clone.png)"
   ]
  },
  {
   "cell_type": "markdown",
   "metadata": {
    "cell_style": "split"
   },
   "source": [
    "tapez \n",
    "\n",
    "    git clone \n",
    "    \n",
    "allez sur github pour copier l'URL\n",
    "    \n",
    "et faites 'coller' avec Control-V\n",
    "\n",
    "    git clone git@github.com:flotpython/gittutorial.git\n",
    "    \n",
    "qui crée le répertoire\n",
    "\n",
    "    cd gittutorial"
   ]
  },
  {
   "cell_type": "markdown",
   "metadata": {
    "slideshow": {
     "slide_type": "slide"
    }
   },
   "source": [
    "## note sur les droits d'accès\n",
    "\n",
    "* les droits d'accès dans un dépôt ne donnent  \n",
    "  pas de prérogatives particulières dans un remote\n",
    "\n",
    "* git n'a **pas de notion explicite** \n",
    "  d'utilisateur ou de droits d'accès  \n",
    "  à part le nom de l'auteur d'un commit\n",
    "  qui est totalement indicatif  \n",
    "\n",
    "* c'est du chacun chez soi, chaque repo a **ses propres droits d'accès**  \n",
    "  identiques aux droits d'accès de l'OS (linux, windows, macOS)  \n",
    "  les dépôts sont indépendants les uns des autres à cet égard"
   ]
  },
  {
   "cell_type": "markdown",
   "metadata": {
    "slideshow": {
     "slide_type": "slide"
    }
   },
   "source": [
    "## les fonctions de synchronisation"
   ]
  },
  {
   "cell_type": "markdown",
   "metadata": {
    "cell_style": "center",
    "slideshow": {
     "slide_type": ""
    }
   },
   "source": [
    "en plus de `clone`, les fonctions de synchronisation entre dépôts sont :\n",
    "\n",
    "* `fetch` : injecte tous les nouveaux commits distants dans le dépôt local; utile pour savoir ce qui s'est passé; **ne modifie pas l'état courant**  \n",
    "* `pull` = `fetch` + `merge` : pour appliquer les nouveautés distantes localement\n",
    "* `push` : injecte des commits locaux dans le dépôt distant\n"
   ]
  },
  {
   "cell_type": "markdown",
   "metadata": {
    "slideshow": {
     "slide_type": "notes"
    }
   },
   "source": [
    "De ce point de vue, la composante active de la fonction `pull` est entièrement liée à `merge`, que nous avons déjà étudié."
   ]
  },
  {
   "cell_type": "markdown",
   "metadata": {
    "slideshow": {
     "slide_type": "slide"
    }
   },
   "source": [
    "## la notion de *remote*"
   ]
  },
  {
   "cell_type": "markdown",
   "metadata": {},
   "source": [
    "avant de voir en détail ces fonctions de synchro,  \n",
    "nous devons voir la notion de *remote*\n",
    "\n",
    "un *remote*, c'est \n",
    "\n",
    "* uniquement **un nom** \n",
    "* qui nous permet de faire facilement référence à un **autre dépôt**\n",
    "* i.e. plutôt que de retaper **son URL** à chaque fois"
   ]
  },
  {
   "cell_type": "markdown",
   "metadata": {
    "slideshow": {
     "slide_type": "notes"
    }
   },
   "source": [
    "En toute rigueur la notion de remote est une simple commodité, qui permet de ne pas avoir à retaper - et donc à se souvenir - du détail de l'URL qui permet d'accéder à un dépôt distant. "
   ]
  },
  {
   "cell_type": "markdown",
   "metadata": {
    "slideshow": {
     "slide_type": "slide"
    }
   },
   "source": [
    "## les *remote*s"
   ]
  },
  {
   "cell_type": "markdown",
   "metadata": {},
   "source": [
    "dans notre clone, notez la présence d'un *remote* appelé `origin`"
   ]
  },
  {
   "cell_type": "code",
   "execution_count": null,
   "metadata": {
    "cell_style": "split"
   },
   "outputs": [],
   "source": [
    "# nous sommes dans le clone\n",
    "pwd"
   ]
  },
  {
   "cell_type": "code",
   "execution_count": null,
   "metadata": {
    "cell_style": "split"
   },
   "outputs": [],
   "source": [
    "# pour lister les remotes connus\n",
    "git remote"
   ]
  },
  {
   "cell_type": "markdown",
   "metadata": {
    "slideshow": {
     "slide_type": "slide"
    }
   },
   "source": [
    "au moment du `clone` :\n",
    "\n",
    "* git a créé pour nous le *remote*  \n",
    "* avec le nom prédéfini `origin`\n",
    "* qui désigne le dépôt **d'où on a cloné**"
   ]
  },
  {
   "cell_type": "code",
   "execution_count": null,
   "metadata": {},
   "outputs": [],
   "source": [
    "# pour savoir à quoi - à quelle URL - correspond le remote\n",
    "\n",
    "git config remote.origin.url"
   ]
  },
  {
   "cell_type": "markdown",
   "metadata": {
    "slideshow": {
     "slide_type": "notes"
    }
   },
   "source": [
    "Pour info : comme pour les branches, on peut facilement ajouter, renommer, etc. les *remote*s ; faire `git remote --help` pour plus de détails\n",
    "\n",
    "Notamment, si le nom de `origin` ne vous semble pas parlant, vous pouvez par exemple choisir un nom comme `github` ou `myfork`\n",
    "\n",
    "Remarquez à cet égard un cruel manque de cohérence entre `git branch` et `git remote` lorsqu'il s'agit de renommer ou détruire des objets: `git branch -d labranche` *vs*  `git remote remove leremote`; ce manque de cohérence est clairement un aspect très améliorable pour un apprentissage plus aisé de la suite `git`…\n"
   ]
  },
  {
   "cell_type": "markdown",
   "metadata": {
    "slideshow": {
     "slide_type": "slide"
    }
   },
   "source": [
    "## branches et remotes"
   ]
  },
  {
   "cell_type": "markdown",
   "metadata": {},
   "source": [
    "un dépôt git est *self-contained*\n",
    "\n",
    "* toutes les références (branche et remote) sont des **objets locaux**\n",
    "* on peut **toujours** travailler sans connexion réseau\n",
    "\n",
    "pour résumer, deux notions très différentes\n",
    "\n",
    "* la branche désigne un point dans les commits (forcément locaux)\n",
    "* le remote est simplement une **référence** vers un autre dépôt\n",
    "  * c'est juste un nom, un alias, vers un autre dépôt\n",
    "* ainsi par exemple\n",
    "  * on peut sans souci créer un remote vers un dépôt inexistant\n",
    "  * c'est seulement quand on s'en sert - via fetch/push/pull -  \n",
    "    qu'on se rendra compte du problème"
   ]
  },
  {
   "cell_type": "markdown",
   "metadata": {
    "slideshow": {
     "slide_type": "slide"
    }
   },
   "source": [
    "## branches distantes"
   ]
  },
  {
   "cell_type": "markdown",
   "metadata": {},
   "source": [
    "comme un dépôt est *self-contained*\n",
    "\n",
    "* il conserve **localement** la trace des branches distantes\n",
    "* dans notre cas la branche `origin/devel`\n",
    "* correspond à **l'idée que se fait** notre dépôt\n",
    "* de la position de la branche `devel` dans le dépôt `origin`"
   ]
  },
  {
   "cell_type": "code",
   "execution_count": null,
   "metadata": {
    "slideshow": {
     "slide_type": "slide"
    }
   },
   "outputs": [],
   "source": [
    "# depuis le clone, \n",
    "pwd"
   ]
  },
  {
   "cell_type": "code",
   "execution_count": null,
   "metadata": {
    "slideshow": {
     "slide_type": "slide"
    }
   },
   "outputs": [],
   "source": [
    "# on voit un nouveau type de référence\n",
    "# comme par exemple origin/master\n",
    "git l --all"
   ]
  },
  {
   "cell_type": "markdown",
   "metadata": {
    "cell_style": "center"
   },
   "source": [
    "qu'on pourrait paraphraser comme ceci :\n",
    "\n",
    "* du point de vue du dépôt `repo-cloned`\n",
    "* il y a dans le dépôt distant `origin` (donc, `repo-alice`)\n",
    "* une branche `master` qui pointe vers ce commit\n",
    "* sachant que les commits sont dupliqués  \n",
    "  (et donc exactement identiques) dans les deux dépôts"
   ]
  },
  {
   "cell_type": "markdown",
   "metadata": {
    "slideshow": {
     "slide_type": "slide"
    }
   },
   "source": [
    "## actualité des branches distantes"
   ]
  },
  {
   "cell_type": "markdown",
   "metadata": {},
   "source": [
    "du coup cette information **n'est pas** garantie d'être 100% à jour !\n",
    "\n",
    "on va le voir tout de suite : \n",
    "\n",
    "* si je crée dans `repo-alice` un commit\n",
    "  * c'est une opération **strictement locale**\n",
    "* le clone `repo-cloned` n'en n'est pas informé immédiatement\n",
    "  * à nouveau, c'est du pair à pair / chacun chez soi\n",
    "* il le sera essentiellement s'il fait un `fetch`"
   ]
  },
  {
   "cell_type": "markdown",
   "metadata": {},
   "source": [
    "remarque :\n",
    "\n",
    "* on peut configurer énormément de choses; par exemple\n",
    "  * décider de pousser après chaque commit\n",
    "* mais c'est de l'ordre du confort, retenez que\n",
    "  * `commit` et `push` sont des **opérations élémentaires distinctes**"
   ]
  },
  {
   "cell_type": "markdown",
   "metadata": {
    "slideshow": {
     "slide_type": "notes"
    }
   },
   "source": [
    "Il faut avoir présent à l'esprit le fait qu'un dépot doit toujours pouvoir fonctionner, même sans accès réseau, c'est la raison pour laquelle il n'y a aucune obligation de maintenir à jour les branches distantes comme `origin/master`.\n",
    "\n",
    "Notez également toutefois que la plupart des interfaces graphiques, comme SourceTree ou GitKraken, font automatiquement un `fetch` à intervalles réguliers, typiquement toutes les 5 minutes, auprès des remotes connus de votre dépôt, ce qui est très commode pour être averti des autres contributions."
   ]
  },
  {
   "cell_type": "markdown",
   "metadata": {
    "slideshow": {
     "slide_type": "slide"
    }
   },
   "source": [
    "## synchro - fetch"
   ]
  },
  {
   "cell_type": "markdown",
   "metadata": {},
   "source": [
    "notre scénario\n",
    "\n",
    "* créer un nouveau commit dans le dépôt originel `repo-alice`\n",
    "* observer les deux repos à ce stade\n",
    "* déclencher un `fetch` depuis `repo-cloned`\n",
    "* observer les deux repos à ce stade"
   ]
  },
  {
   "cell_type": "markdown",
   "metadata": {
    "slideshow": {
     "slide_type": "slide"
    }
   },
   "source": [
    "## fetch (1) - créer un commit à l'origine"
   ]
  },
  {
   "cell_type": "code",
   "execution_count": null,
   "metadata": {},
   "outputs": [],
   "source": [
    "cd $TOP/repo-alice\n",
    "$SCRIPTS/do first-commit-in-alice"
   ]
  },
  {
   "cell_type": "code",
   "execution_count": null,
   "metadata": {},
   "outputs": [],
   "source": [
    "# on a maintenant un commit de plus du coté d'alice\n",
    "git l"
   ]
  },
  {
   "cell_type": "markdown",
   "metadata": {
    "slideshow": {
     "slide_type": "notes"
    }
   },
   "source": [
    "On crée un commit du coté du dépôt d'alice; peu importe son contenu à ce stade."
   ]
  },
  {
   "cell_type": "markdown",
   "metadata": {
    "slideshow": {
     "slide_type": "slide"
    }
   },
   "source": [
    "## avant le `fetch`"
   ]
  },
  {
   "cell_type": "code",
   "execution_count": null,
   "metadata": {
    "cell_style": "split"
   },
   "outputs": [],
   "source": [
    "# résumons l'état des deux cotés \n",
    "# à ce stade\n",
    "# avant de faire le fetch\n",
    "\n",
    "# 3 commits chez alice\n",
    "cd $TOP/repo-alice\n",
    "git l"
   ]
  },
  {
   "cell_type": "code",
   "execution_count": null,
   "metadata": {
    "cell_style": "split"
   },
   "outputs": [],
   "source": [
    "# repo-cloned n'a aucune\n",
    "# idée à ce stade qu'il y a \n",
    "# du nouveau chez alice\n",
    "\n",
    "# 2 commits dans le clone\n",
    "cd $TOP/repo-cloned\n",
    "git l"
   ]
  },
  {
   "cell_type": "markdown",
   "metadata": {
    "slideshow": {
     "slide_type": "slide"
    }
   },
   "source": [
    "## fetch (2) - utiliser `fetch` depuis le clone"
   ]
  },
  {
   "cell_type": "code",
   "execution_count": null,
   "metadata": {},
   "outputs": [],
   "source": [
    "# toujours sur le clone\n",
    "cd $TOP/repo-cloned\n",
    "\n",
    "# on va chercher avec fetch les commits nouveaux\n",
    "# si on voulait on pourrait faire \n",
    "# git fetch origin\n",
    "\n",
    "# mais en faisant --all on va sur tous les remote connus\n",
    "# c'est l'utilisation habituelle \n",
    "# de toutes façons ici on n'en a qu'un\n",
    "# c'est origin = repo-alice\n",
    "# donc les deux formes reviennent au même\n",
    "\n",
    "git fetch --all"
   ]
  },
  {
   "cell_type": "markdown",
   "metadata": {},
   "source": [
    "ignorons les détails qui sont affichés par la commande "
   ]
  },
  {
   "cell_type": "markdown",
   "metadata": {
    "slideshow": {
     "slide_type": "notes"
    }
   },
   "source": [
    "On aurait pu faire aussi bien `git fetch origin` "
   ]
  },
  {
   "cell_type": "markdown",
   "metadata": {
    "slideshow": {
     "slide_type": "slide"
    }
   },
   "source": [
    "## après le `fetch`"
   ]
  },
  {
   "cell_type": "code",
   "execution_count": null,
   "metadata": {
    "cell_style": "split"
   },
   "outputs": [],
   "source": [
    "# le dépôt initial\n",
    "\n",
    "# on a toujours 3 commits bien sûr\n",
    "cd $TOP/repo-alice\n",
    "git l"
   ]
  },
  {
   "cell_type": "code",
   "execution_count": null,
   "metadata": {
    "cell_style": "split"
   },
   "outputs": [],
   "source": [
    "# le clone après fetch\n",
    "cd $TOP/repo-cloned\n",
    "\n",
    "# je précise bien --all\n",
    "# car sinon je ne verrais que les commits\n",
    "# atteignables depuis la branche courante 'devel'\n",
    "\n",
    "# on voit maintenant 3 commits\n",
    "git l --all"
   ]
  },
  {
   "cell_type": "markdown",
   "metadata": {
    "cell_style": "split"
   },
   "source": [
    "remarquez :\n",
    "\n",
    "* nous voyons un nouveau commit !\n",
    "* `origin/devel` est mis à jour  \n",
    "  (ainsi d'ailleurs que `origin/HEAD`)\n"
   ]
  },
  {
   "cell_type": "markdown",
   "metadata": {
    "cell_style": "split"
   },
   "source": [
    "mais aussi que :\n",
    "\n",
    "* `devel` n'a pas bougé\n",
    "* car `fetch` est strictement   \n",
    "  **non intrusif**"
   ]
  },
  {
   "cell_type": "markdown",
   "metadata": {
    "slideshow": {
     "slide_type": "slide"
    }
   },
   "source": [
    "## mettre à jour les références locales"
   ]
  },
  {
   "cell_type": "markdown",
   "metadata": {
    "cell_style": "split"
   },
   "source": [
    "à ce stade, pour mettre à jour `repo-cloned` par rapport au dépôt distant `repo-alice`, je peux\n",
    "\n",
    "* merger `origin/devel` dans `devel`\n",
    "* ce qui fait avancer `devel` d'un cran \n",
    "* noter que c'est un merge `fast-forward`\n",
    "* et donc, **pas de création** de commit"
   ]
  },
  {
   "cell_type": "code",
   "execution_count": null,
   "metadata": {
    "cell_style": "split"
   },
   "outputs": [],
   "source": [
    "# la branche courante est devel\n",
    "\n",
    "git merge origin/devel"
   ]
  },
  {
   "cell_type": "code",
   "execution_count": null,
   "metadata": {},
   "outputs": [],
   "source": [
    "# maintenant repo-cloned est parfaitement à jour \n",
    "# avec repo-alice\n",
    "git l"
   ]
  },
  {
   "cell_type": "markdown",
   "metadata": {
    "slideshow": {
     "slide_type": "slide"
    }
   },
   "source": [
    "## `pull = fetch + merge`"
   ]
  },
  {
   "cell_type": "markdown",
   "metadata": {},
   "source": [
    "c'est exactement le propos de `pull` :  \n",
    "automatiser cette genre de situations en une seule passe  \n",
    "\n",
    "* aller chercher les commits distants\n",
    "* les fusionner localement"
   ]
  },
  {
   "cell_type": "markdown",
   "metadata": {
    "slideshow": {
     "slide_type": "slide"
    }
   },
   "source": [
    "**la forme usuelle** :  \n",
    "`git pull origin devel` \n",
    "\n",
    "* met à jour localement `origin/devel`  \n",
    "  (via `fetch` auprès de `origin`)\n",
    "\n",
    "* et le merge dans `devel`"
   ]
  },
  {
   "cell_type": "markdown",
   "metadata": {
    "slideshow": {
     "slide_type": "slide"
    }
   },
   "source": [
    "## résumé sur *fetch* et *pull*"
   ]
  },
  {
   "cell_type": "markdown",
   "metadata": {},
   "source": [
    "pour résumer jusqu'ici :\n",
    "\n",
    "* `git fetch`\n",
    "  * aller chercher les commits présents dans d'autres repos\n",
    "  * non intrusive\n",
    "  * les UIs font cela périodiquement par défaut\n",
    "\n",
    "* `git merge` \n",
    "  * on peut ensuite merger ces commits\n",
    "  * exactement comme si on les avait créés localement\n",
    "  * notamment vis-à-vis des *fast-forward* \n",
    "  \n",
    "* `git pull` \n",
    "  * permet de faire les deux phases `fetch` et `merge` \n",
    "    en une seule commande"
   ]
  },
  {
   "cell_type": "markdown",
   "metadata": {
    "slideshow": {
     "slide_type": "notes"
    }
   },
   "source": [
    "Tout ce qui a été dit précédemment concernant le `merge`, notamment en termes de *fast-forward* conditionnant la création ou non d'un nouveau commit, et la possibilité de conflits, s'applique donc à l'identique à la fonction `pull`."
   ]
  },
  {
   "cell_type": "markdown",
   "metadata": {
    "slideshow": {
     "slide_type": "slide"
    }
   },
   "source": [
    "## dans l'autre sens: `push`"
   ]
  },
  {
   "cell_type": "markdown",
   "metadata": {
    "cell_style": "split"
   },
   "source": [
    "\n",
    "* le modèle étant symétrique (pair à pair)\n",
    "* à première vue, on se dit que le *push* \n",
    "* pour propager des commits locaux vers un dépôt distant\n",
    "* **devrait** être l'**exact symétrique** du *pull*\n"
   ]
  },
  {
   "cell_type": "markdown",
   "metadata": {
    "cell_style": "split",
    "slideshow": {
     "slide_type": "fragment"
    }
   },
   "source": [
    "* en pratique ce n'est **pas tout à fait le cas**\n",
    "* car on travaille dans un **autre dépôt**\n",
    "* d'ailleurs le plus souvent un *dépôt bare*"
   ]
  },
  {
   "cell_type": "markdown",
   "metadata": {
    "slideshow": {
     "slide_type": "slide"
    }
   },
   "source": [
    "## dissymétrie"
   ]
  },
  {
   "cell_type": "markdown",
   "metadata": {},
   "source": [
    "la dissymétrie est liée à la résolution de conflits :\n",
    "\n",
    "* lors d'un `pull`, il y a un humain qui peut résoudre les conflits, revenir en arrière, etc..\n",
    "* lors d'un `push`, ce **n'est pas forcément le cas** (pensez `github`)\n",
    "\n",
    "c'est pourquoi :\n",
    "\n",
    "* l'opération de `push` est effectivement l'inverse de `pull` :\n",
    "* on recopie à distance les commits qui n'y sont pas encore\n",
    "* et on merge dans la branche distante\n",
    "* mais c'est **limité à des *fast-foward***\n",
    "* de cette façon on élimine la possibilité de conflits\n",
    "* même si ça peut paraître trop conservatoire"
   ]
  },
  {
   "cell_type": "markdown",
   "metadata": {
    "slideshow": {
     "slide_type": "slide"
    }
   },
   "source": [
    "## push et droits d'accès"
   ]
  },
  {
   "cell_type": "markdown",
   "metadata": {},
   "source": [
    "notez aussi que, bien entendu, lors d'un push :\n",
    "\n",
    "* il faut les **droits d'écriture** dans le dépôt distant\n",
    "\n",
    "dans le cas d'un dépôt distant sur github, gitlab, …\n",
    "\n",
    "* il faut faire une démarche particulière pour obtenir ce droit\n",
    "* **ou bien** se créer un *fork* (c'est leur principale raison d'être)\n",
    "* on reparlera de tout ça"
   ]
  },
  {
   "cell_type": "markdown",
   "metadata": {
    "slideshow": {
     "slide_type": "notes"
    }
   },
   "source": [
    "Notez qu'il n'y a aucun système d'authentification inclus dans `git`, les droits d'accès sont totalement gérés par le système d'exploitation hôte. Aucune commande dans `git` ne permet donc de définir des utilisateurs ou des droits d'accès."
   ]
  },
  {
   "cell_type": "markdown",
   "metadata": {
    "slideshow": {
     "slide_type": "slide"
    }
   },
   "source": [
    "## cas d'usage\n",
    "\n",
    "en pratique le `push` est utilisé pour\n",
    "\n",
    "* exposer un travail sur un dépôt public - toujours *bare*\n",
    "* de façon à ce que les collaborateurs  \n",
    "  puissent alors l'importer dans leur dépôt avec un `pull`\n",
    "  \n",
    "d'ailleurs \n",
    "\n",
    "* `git push` **se plaint** si on essaie de pousser  \n",
    "  vers un **dépôt qui n'est pas *bare***\n"
   ]
  },
  {
   "cell_type": "markdown",
   "metadata": {
    "slideshow": {
     "slide_type": "notes"
    }
   },
   "source": [
    "La logique à l'oeuvre ici est qu'un dépôt qui est *bare* ne peut pas servir à concevoir de nouveaux commits - puisqu'il n'y a ni index ni espace de travail - mais c'est raisonnable de pouvoir y copier des commits conçus ailleurs en poussant sur un tel dépôt, et en fait c'est un peu le seul intérêt d'un dépôt *bare*.\n",
    "\n",
    "Par contre un dépôt usuel, non *bare*, est utilisé par un humain pour travailler; du coup c'est plutôt à cette personne de tirer - et de gérer les éventuels conflits - qu'à un tiers de pousser."
   ]
  },
  {
   "cell_type": "markdown",
   "metadata": {
    "slideshow": {
     "slide_type": "slide"
    }
   },
   "source": [
    "## pour expérimenter"
   ]
  },
  {
   "cell_type": "markdown",
   "metadata": {},
   "source": [
    "* nous allons revoir du coup notre setup\n",
    "  * qui ne va pas pour pousser car notre clone n'est pas un dépôt nu\n",
    "* on conserve `repo-alice`\n",
    "* on détruit `repo-cloned`\n",
    "  * on crée à la place un dépôt *bare* qui s'appelle `fake-github.git`\n",
    "  * on va voir tout de suite pourquoi ce nom en `.git`"
   ]
  },
  {
   "cell_type": "code",
   "execution_count": null,
   "metadata": {
    "slideshow": {
     "slide_type": ""
    }
   },
   "outputs": [],
   "source": [
    "cd $TOP\n",
    "rm -rf repo-cloned fake-github.git\n",
    "\n",
    "# avec l'option --bare on crée un dépôt bare\n",
    "# comme il le serait sur github\n",
    "git clone --bare repo-alice fake-github.git"
   ]
  },
  {
   "cell_type": "markdown",
   "metadata": {
    "cell_style": "center",
    "slideshow": {
     "slide_type": "slide"
    }
   },
   "source": [
    "## un *bare* dépôt"
   ]
  },
  {
   "cell_type": "markdown",
   "metadata": {},
   "source": [
    "ce qui nous donne l'occasion de voir à quoi ça ressemble"
   ]
  },
  {
   "cell_type": "code",
   "execution_count": null,
   "metadata": {
    "cell_style": "split"
   },
   "outputs": [],
   "source": [
    "cd $TOP\n",
    "\n",
    "# le contenu d'un dépôt bare\n",
    "ls fake-github.git"
   ]
  },
  {
   "cell_type": "code",
   "execution_count": null,
   "metadata": {
    "cell_style": "split"
   },
   "outputs": [],
   "source": [
    "# est proche du contenu d'un .git\n",
    "# dans un dépôt 'normal'\n",
    "\n",
    "ls repo-alice/.git"
   ]
  },
  {
   "cell_type": "markdown",
   "metadata": {},
   "source": [
    "surtout en ce qui concerne : \n",
    "\n",
    "* `config`\n",
    "* `objects`: c'est là que sont rangés les commits et leurs contenus\n",
    "* `refs`: c'est là que sont rangées les branches\n",
    "\n",
    "on a l'habitude d'appeler les *bare* dépôt  \n",
    "avec un nom en `.git` pour indiquer leur type (juste une convention)"
   ]
  },
  {
   "cell_type": "markdown",
   "metadata": {
    "slideshow": {
     "slide_type": "slide"
    }
   },
   "source": [
    "## un push simple"
   ]
  },
  {
   "cell_type": "markdown",
   "metadata": {
    "slideshow": {
     "slide_type": ""
    }
   },
   "source": [
    "scénario #1 : un push qui se passe bien\n",
    "\n",
    "* je crée un commit dans le dépôt original\n",
    "* je le pousse sur le faux github"
   ]
  },
  {
   "cell_type": "markdown",
   "metadata": {
    "slideshow": {
     "slide_type": "slide"
    }
   },
   "source": [
    "**quelque chose à pousser**"
   ]
  },
  {
   "cell_type": "code",
   "execution_count": null,
   "metadata": {
    "cell_style": "split"
   },
   "outputs": [],
   "source": [
    "# créons un commit chez alice\n",
    "\n",
    "cd $TOP/repo-alice\n",
    "\n",
    "$SCRIPTS/do commit-in-initial-for-simple-push\n",
    "\n",
    "git l"
   ]
  },
  {
   "cell_type": "code",
   "execution_count": null,
   "metadata": {
    "cell_style": "split"
   },
   "outputs": [],
   "source": [
    "# sur le clone bien sûr \n",
    "# le nouveau commit est absent\n",
    "\n",
    "cd $TOP/fake-github.git\n",
    "\n",
    "git l"
   ]
  },
  {
   "cell_type": "markdown",
   "metadata": {
    "slideshow": {
     "slide_type": "slide"
    }
   },
   "source": [
    "## il nous faut un `remote`"
   ]
  },
  {
   "cell_type": "markdown",
   "metadata": {
    "slideshow": {
     "slide_type": "fragment"
    }
   },
   "source": [
    "quelques précautions sont à prendre toutefois pour pouvoir pousser\n",
    "\n",
    "\n",
    "* la syntaxe de `push` est similaire à celle de pull\n",
    "* il va donc nous falloir un `remote` "
   ]
  },
  {
   "cell_type": "markdown",
   "metadata": {
    "slideshow": {
     "slide_type": "slide"
    }
   },
   "source": [
    "**créons un remote**"
   ]
  },
  {
   "cell_type": "code",
   "execution_count": null,
   "metadata": {},
   "outputs": [],
   "source": [
    "cd $TOP/repo-alice\n",
    "\n",
    "# on avait bien un remote dans le scénario précédent\n",
    "# mais c'était dans repo-cloned \n",
    "# le remote avait alors été créé par 'git clone' \n",
    "# \n",
    "# ici dans repo-alice on ne connait aucun remote\n",
    " \n",
    "git remote"
   ]
  },
  {
   "cell_type": "code",
   "execution_count": null,
   "metadata": {
    "slideshow": {
     "slide_type": "slide"
    }
   },
   "outputs": [],
   "source": [
    "# il va donc nous falloir définir un remote à la main\n",
    "# et cette fois plutôt que de l'appeler `origin` on va l'appeler `github` \n",
    "# ce sera beaucoup plus parlant pour nous\n",
    "\n",
    "git remote add github $TOP/fake-github.git"
   ]
  },
  {
   "cell_type": "code",
   "execution_count": null,
   "metadata": {},
   "outputs": [],
   "source": [
    "# maintenant on connait un remote\n",
    "git remote"
   ]
  },
  {
   "cell_type": "code",
   "execution_count": null,
   "metadata": {},
   "outputs": [],
   "source": [
    "# qui est un raccourci pour désigner le dépôt qui se situe ici\n",
    "git config remote.github.url"
   ]
  },
  {
   "cell_type": "markdown",
   "metadata": {
    "slideshow": {
     "slide_type": "slide"
    }
   },
   "source": [
    "## avant le push"
   ]
  },
  {
   "cell_type": "code",
   "execution_count": null,
   "metadata": {
    "cell_style": "split",
    "slideshow": {
     "slide_type": ""
    }
   },
   "outputs": [],
   "source": [
    "# la situation dans initial\n",
    "# on a 4 commits\n",
    "\n",
    "cd $TOP/repo-alice\n",
    "\n",
    "git l --all"
   ]
  },
  {
   "cell_type": "code",
   "execution_count": null,
   "metadata": {
    "cell_style": "split"
   },
   "outputs": [],
   "source": [
    "# et dans le clone\n",
    "# seulement 3 commits\n",
    "\n",
    "cd $TOP/fake-github.git\n",
    "\n",
    "git l --all"
   ]
  },
  {
   "cell_type": "markdown",
   "metadata": {
    "slideshow": {
     "slide_type": "slide"
    }
   },
   "source": [
    "## mon premier push"
   ]
  },
  {
   "cell_type": "code",
   "execution_count": null,
   "metadata": {},
   "outputs": [],
   "source": [
    "# on se met dans le dépôt initial\n",
    "\n",
    "cd $TOP/repo-alice\n",
    "\n",
    "# la syntaxe de push est voisine de celle de pull\n",
    "# on pourrait faire simplement\n",
    "#\n",
    "# git push github devel\n",
    "\n",
    "\n",
    "# cela dit je recommande par sécurité \n",
    "# et pour éviter toute ambigüité \n",
    "# de faire explicitement\n",
    "#\n",
    "git push github devel:devel"
   ]
  },
  {
   "cell_type": "markdown",
   "metadata": {
    "slideshow": {
     "slide_type": "slide"
    }
   },
   "source": [
    "## après le push"
   ]
  },
  {
   "cell_type": "code",
   "execution_count": null,
   "metadata": {
    "cell_style": "split",
    "slideshow": {
     "slide_type": ""
    }
   },
   "outputs": [],
   "source": [
    "# ainsi après le push \n",
    "# les deux repos sont \n",
    "# en phase\n",
    "\n",
    "\n",
    "\n",
    "cd $TOP/repo-alice\n",
    "git l "
   ]
  },
  {
   "cell_type": "code",
   "execution_count": null,
   "metadata": {
    "cell_style": "split"
   },
   "outputs": [],
   "source": [
    "# remarque un peu digressive\n",
    "# voyez que github\n",
    "# ne connait aucun remote\n",
    "# c'est bien le cas dans la vraie vie\n",
    "# car ce n'est jamais github \n",
    "# qui pousse ou qui tire\n",
    "\n",
    "cd $TOP/fake-github.git\n",
    "git l "
   ]
  },
  {
   "cell_type": "markdown",
   "metadata": {
    "slideshow": {
     "slide_type": "slide"
    }
   },
   "source": [
    "## résumé"
   ]
  },
  {
   "cell_type": "markdown",
   "metadata": {},
   "source": [
    "* on copie un dépôt avec `clone`\n",
    "\n",
    "* on va chercher les mises à jour de manière non intrusive avec `fetch`\n",
    "\n",
    "* souvent on veut ensuite les appliquer localement\n",
    "  * c'est à dire `fetch` puis `merge` -> c'est le propos de `pull`\n",
    "\n",
    "* `push` est en gros l'inverse de `pull` \n",
    "  * sauf qu'il faut les droits d'accès\n",
    "  * et qu'on ne contrôle pas les `remote` distants\n",
    "  * c'est pourquoi il n'y a pas le symétrique de `fetch` "
   ]
  },
  {
   "cell_type": "markdown",
   "metadata": {
    "slideshow": {
     "slide_type": "slide"
    }
   },
   "source": [
    "## workflow basique\n",
    "\n",
    "nous avons à présent tous les éléments pour construire  \n",
    "le plus simple travail collaboratif :\n",
    "\n",
    "* alice crée un dépôt local sur son laptop\n",
    "* elle travaille un moment seule, crée des commits\n",
    "* elle publie son dépôt sur gihub\n",
    "  * création d'un dépôt via l'interface web\n",
    "  * ajout d'un remote dans son dépôt local\n",
    "  * push\n",
    "* bob peut alors créer un clone sur son laptop\n",
    "  * et si alice lui donne les droits d'écriture  \n",
    "    (toujours via l'interface web de github)\n",
    "\n",
    "  * alors bob peut pousser lui aussi son travail"
   ]
  },
  {
   "cell_type": "markdown",
   "metadata": {
    "cell_style": "center",
    "slideshow": {
     "slide_type": "notes"
    }
   },
   "source": [
    "Ce scénario est très voisin de celui de la vidéo d'introduction de la première séance"
   ]
  }
 ],
 "metadata": {
  "celltoolbar": "Slideshow",
  "ipub": {
   "sphinx": {
    "toggle_input": true,
    "toggle_input_all": true,
    "toggle_output": true,
    "toggle_output_all": true
   }
  },
  "kernelspec": {
   "display_name": "Calysto Bash",
   "language": "bash",
   "name": "calysto_bash"
  },
  "language_info": {
   "file_extension": ".sh",
   "help_links": [
    {
     "text": "MetaKernel Magics",
     "url": "https://metakernel.readthedocs.io/en/latest/source/README.html"
    }
   ],
   "mimetype": "text/x-sh",
   "name": "bash",
   "version": "0.2.1"
  },
  "notebookname": "mon premier remote",
  "rise": {
   "autolaunch": true,
   "slideNumber": "c/t",
   "start_slideshow_at": "selected",
   "theme": "sky",
   "transition": "cube"
  },
  "version": "1.0"
 },
 "nbformat": 4,
 "nbformat_minor": 4
}

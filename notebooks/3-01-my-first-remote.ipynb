{
 "cells": [
  {
   "cell_type": "markdown",
   "metadata": {
    "slideshow": {
     "slide_type": "slide"
    }
   },
   "source": [
    "<div class=\"licence\">\n",
    "<span>Licence CC BY-NC-ND</span>\n",
    "<span>Thierry Parmentelat</span>\n",
    "<span><img src=\"media/inria-25-alpha.png\" /></span>\n",
    "</div>"
   ]
  },
  {
   "cell_type": "markdown",
   "metadata": {
    "slideshow": {
     "slide_type": ""
    }
   },
   "source": [
    "# synchronisations entre repos"
   ]
  },
  {
   "cell_type": "code",
   "execution_count": null,
   "metadata": {
    "slideshow": {
     "slide_type": "slide"
    }
   },
   "outputs": [],
   "source": [
    "# ce sera toujours notre façon de commencer\n",
    "[ -f scripts/helpers.sh ] && source scripts/helpers.sh"
   ]
  },
  {
   "cell_type": "markdown",
   "metadata": {
    "slideshow": {
     "slide_type": "slide"
    }
   },
   "source": [
    "## plusieurs repos"
   ]
  },
  {
   "cell_type": "markdown",
   "metadata": {},
   "source": [
    "* jusqu'ici on n'a fait que travailler dans un seul repo\n",
    "* pour permettre le travail en groupe, git offre des outils  \n",
    "  pour **synchroniser deux repos** entre eux  \n",
    "  **le sujet de ce notebook**\n",
    "\n",
    "* qu'on peut utiliser pour créer des workflows et architectures  \n",
    "  aussi simples ou sophistiqués que nécessaire\n",
    "\n",
    "* essentiellement 'chacun chez soi'  \n",
    "  chacun a toujours le contrôle de son propre repo"
   ]
  },
  {
   "cell_type": "markdown",
   "metadata": {
    "slideshow": {
     "slide_type": "slide"
    }
   },
   "source": [
    "## architecture décentralisée"
   ]
  },
  {
   "cell_type": "markdown",
   "metadata": {},
   "source": [
    "* on a vu plusieurs architectures permettant de créer des workflows\n",
    "* comme par exemple\n",
    "\n",
    "![](../media/archi-star.png)\n",
    "\n",
    "* dans ce schéma \n",
    "  * les boites sont des repos\n",
    "  * les liens correspondent à des synchronisations entre repos  "
   ]
  },
  {
   "cell_type": "markdown",
   "metadata": {
    "slideshow": {
     "slide_type": "notes"
    }
   },
   "source": [
    "Tout ce qui a été vu jusqu'à présent était **local** à un dépôt.\n",
    "\n",
    "Dans cette partie du cours nous allons étudier les outils qui permettent de synchroniser les repos entre eux, c'est-à-dire de matérialiser les flêches du schéma.\n",
    "\n",
    "On rappelle également que les boites gris clair représentent un dépôt *bare* - c'est-à-dire sans espace de travail associé, simplement le graphe des commits. C'est le cas typiquement pour les plateformes de type github."
   ]
  },
  {
   "cell_type": "markdown",
   "metadata": {
    "slideshow": {
     "slide_type": "slide"
    }
   },
   "source": [
    "## notre exemple"
   ]
  },
  {
   "cell_type": "markdown",
   "metadata": {},
   "source": [
    "pour cette partie :\n",
    "\n",
    "* nous repartons d'un dépôt quasiment vide `repo-alice`\n",
    "* que l'on va *cloner* dans `repo-cloned`\n",
    "* puis les modifier (créer des commits)\n",
    "* et les synchroniser entre eux "
   ]
  },
  {
   "cell_type": "markdown",
   "metadata": {
    "slideshow": {
     "slide_type": "notes"
    }
   },
   "source": [
    "En pratique quand deux personnes travaillent ensemble, elles passent la plupart du temps au travers d'un troisième dépôt sur une infrastructure publique de type github. Mais pour l'instant on s'attache à bien comprendre les mécanismes de synchronisation entre deux repos."
   ]
  },
  {
   "cell_type": "code",
   "execution_count": null,
   "metadata": {
    "slideshow": {
     "slide_type": "slide"
    }
   },
   "outputs": [],
   "source": [
    "cd $TOP\n",
    "\n",
    "# on recommence un autre dépôt plus simple; à nouveau\n",
    "# je nettoie complètement ce qu'on a pu faire précédemment\n",
    "if [ -d repo-alice ]; then\n",
    "    echo \"on repart d'un directory vide\"\n",
    "    rm -rf repo-alice repo-cloned fake-github.git repo-bob\n",
    "fi\n",
    "\n",
    "# on le crée\n",
    "mkdir repo-alice\n",
    "\n",
    "# on va dedans\n",
    "cd repo-alice"
   ]
  },
  {
   "cell_type": "markdown",
   "metadata": {
    "slideshow": {
     "slide_type": "slide"
    }
   },
   "source": [
    "## création"
   ]
  },
  {
   "cell_type": "code",
   "execution_count": null,
   "metadata": {},
   "outputs": [],
   "source": [
    "# si nécessaire, on se place dans le dépôt git\n",
    "[ -d repo-alice ] && cd repo-alice\n",
    "\n",
    "pwd"
   ]
  },
  {
   "cell_type": "code",
   "execution_count": null,
   "metadata": {},
   "outputs": [],
   "source": [
    "# on remplit un peu avec deux commits\n",
    "$SCRIPTS/do populate-repo-alice"
   ]
  },
  {
   "cell_type": "markdown",
   "metadata": {
    "slideshow": {
     "slide_type": "slide"
    }
   },
   "source": [
    "## le point"
   ]
  },
  {
   "cell_type": "code",
   "execution_count": null,
   "metadata": {
    "cell_style": "split",
    "slideshow": {
     "slide_type": ""
    }
   },
   "outputs": [],
   "source": [
    "# vous devez avoir 2 commits\n",
    "git l\n"
   ]
  },
  {
   "cell_type": "code",
   "execution_count": null,
   "metadata": {
    "cell_style": "split"
   },
   "outputs": [],
   "source": [
    "# avec deux branches `master` et `devel`\n",
    "# on est sur la branch devel\n",
    "git branch"
   ]
  },
  {
   "cell_type": "markdown",
   "metadata": {
    "slideshow": {
     "slide_type": "slide"
    }
   },
   "source": [
    "## pour les besoins du cours"
   ]
  },
  {
   "cell_type": "markdown",
   "metadata": {},
   "source": [
    "* en général, les repos sont créés sur des **machines distinctes**\n",
    "  * typiquement : un dépôt local + un sur github\n",
    "* techniquement, pas obligatoire\n",
    "  * **pour les besoins du cours**,  \n",
    "    nous allons créer nos repos **localement** \n",
    "\n",
    "* les mécanismes de copie/synchronisation sont exactement identiques"
   ]
  },
  {
   "cell_type": "code",
   "execution_count": null,
   "metadata": {
    "cell_style": "center",
    "slideshow": {
     "slide_type": ""
    }
   },
   "outputs": [],
   "source": [
    "# on utilisera ce répertoire $TOP/repo-cloned\n",
    "# pour simuler un deuxième dépôt\n",
    "# \n",
    "# on verra plus tard qu'en pratique deux personnes\n",
    "# qui travaillent ensemble passent par un troisième \n",
    "# dépôt sur github, mais pour l'instant on veut \n",
    "# seulement bien illustrer les fonctions `fetch` et `pull` \n",
    "\n",
    "if [ -d $TOP/repo-cloned ]; then\n",
    "    rm -rf $TOP/repo-cloned\n",
    "fi"
   ]
  },
  {
   "cell_type": "markdown",
   "metadata": {
    "slideshow": {
     "slide_type": "slide"
    }
   },
   "source": [
    "## `git clone` pour dupliquer un dépôt"
   ]
  },
  {
   "cell_type": "markdown",
   "metadata": {},
   "source": [
    "pour créer localement une copie d'un autre dépôt  \n",
    "(typiquement sur github en pratique)"
   ]
  },
  {
   "cell_type": "code",
   "execution_count": null,
   "metadata": {
    "cell_style": "center",
    "slideshow": {
     "slide_type": ""
    }
   },
   "outputs": [],
   "source": [
    "cd $TOP\n",
    "\n",
    "# idem, en pratique on peut remplacer 'repo-alice'\n",
    "# par une URL sur github\n",
    "\n",
    "git clone repo-alice repo-cloned"
   ]
  },
  {
   "cell_type": "markdown",
   "metadata": {
    "slideshow": {
     "slide_type": "slide"
    }
   },
   "source": [
    "**maintenant j'ai deux repos**"
   ]
  },
  {
   "cell_type": "code",
   "execution_count": null,
   "metadata": {
    "cell_style": "split"
   },
   "outputs": [],
   "source": [
    "cd $TOP/repo-alice\n",
    "git l\n",
    "echo ===\n",
    "ls"
   ]
  },
  {
   "cell_type": "code",
   "execution_count": null,
   "metadata": {
    "cell_style": "split",
    "slideshow": {
     "slide_type": ""
    }
   },
   "outputs": [],
   "source": [
    "cd $TOP/repo-cloned\n",
    "git l\n",
    "echo ===\n",
    "ls"
   ]
  },
  {
   "cell_type": "markdown",
   "metadata": {
    "slideshow": {
     "slide_type": "notes"
    }
   },
   "source": [
    "Une petite subtilité à noter ici : dans cette configuration les deux repos - source et destination - sont des dépôt *avec fichiers* - et donc pas *bare*. On pourra ainsi montrer la totale symétrie des outils de synchronisation, il n'y a aucune notion de maitre ou d'esclave lorsque deux repos ont une relation de synchronisation.\n",
    "\n",
    "On verra dans un deuxième exemple le cas où un des repos est *bare*, ce qui est plus conforme à ce qui se passe en général en pratique, puisqu'à nouveau les repos de type github sont des repos *bare* sans espace de travail.\n",
    "\n",
    "Dans les affichages, vous remarquerez une différence concernant le terme `origin`; il s agit d'un remote qui est créé dans repo-cloned par l'opération de clonage; pour faire court, `repo-cloned` se souvient de l'adresse qui a été utilisée pour le cloner, et la mémorise sous le nom `origin`; à cette petite différence près, le contenu des deux repos est identique."
   ]
  },
  {
   "cell_type": "markdown",
   "metadata": {
    "cell_style": "center",
    "slideshow": {
     "slide_type": "slide"
    }
   },
   "source": [
    "le clone va contenir :\n",
    "\n",
    "* **les commits**, c'est-à-dire la partie `bare`\n",
    "* les fichiers présents dans le **commit courant**\n",
    "* mais par contre l'index n'est **pas concerné**\n",
    "  * si on avait eu des modifications pendantes dans `repo-alice`\n",
    "  * que ce soit dans l'index ou les fichiers\n",
    "  * ils **n'auraient pas** été copiés"
   ]
  },
  {
   "cell_type": "code",
   "execution_count": null,
   "metadata": {
    "cell_style": "split"
   },
   "outputs": [],
   "source": [
    "git status"
   ]
  },
  {
   "cell_type": "code",
   "execution_count": null,
   "metadata": {
    "cell_style": "split"
   },
   "outputs": [],
   "source": [
    "git l"
   ]
  },
  {
   "cell_type": "markdown",
   "metadata": {
    "slideshow": {
     "slide_type": "notes"
    }
   },
   "source": [
    "Remarquez également que `repo-cloned` ne contient pas de branche locale `master`.\n",
    "En fait au moment du `git clone`,  la branche courante de `repo-alice` était `devel`, aussi le clone a créé dans `repo-cloned` une branche `devel`, mais pas de branche `master`.\n",
    "\n",
    "À ce stade si on voulait travailler sur la branche `master` dans `repo-cloned`, on pourrait le faire facilement en faisant simplement `git checkout master`."
   ]
  },
  {
   "cell_type": "markdown",
   "metadata": {
    "slideshow": {
     "slide_type": "slide"
    }
   },
   "source": [
    "* en réalité dans un `git clone`\n",
    "  * du coté source, seul le ***bare dépôt*** est lu\n",
    "  * les fichiers et l'index ne sont **pas du tout regardés**\n",
    "  * bien souvent d'ailleurs la source est sur une infra comme github\n",
    "  * et dans ce cas la source n'est **que** un *bare dépôt*\n",
    "  \n",
    "* les fonctions de synchro entre repos\n",
    "  * ne concernent en réalité  \n",
    "    que la partie 'bare dépôt' des deux cotés\n",
    "\n",
    "  * en général les fichiers et index **ne sont pas concernés**  \n",
    "    par les synchros entre dépôt\n",
    "\n",
    "  * qui ne font principalement que transférer des commits  \n",
    "    (et mettre à jour des branches)\n",
    "    \n",
    "* sauf dans le cas de `pull` \n",
    "  * qui en réalité fait `fetch` + `merge`\n",
    "  * et du coup `merge` peut être amené à toucher les fichiers"
   ]
  },
  {
   "cell_type": "markdown",
   "metadata": {
    "slideshow": {
     "slide_type": "notes"
    }
   },
   "source": [
    "En fait les fichiers présents dans le dépôt source ne sont pas du tout lus lors du `clone`.\n",
    "La seule chose qui est copiée lorsqu'on fait un `clone` provient du `.git` du dépôt source, on aurait pu aussi bien cloner un dépôt *bare*.\n",
    "\n",
    "Les fichiers qui sont ensuite créés dans le dépôt destination le sont uniquement sur la base du commit courant."
   ]
  },
  {
   "cell_type": "markdown",
   "metadata": {
    "cell_style": "center",
    "slideshow": {
     "slide_type": "slide"
    }
   },
   "source": [
    "à noter surtout :\n",
    "\n",
    "* **pas de hiérarchie** entre les repos\n",
    "  * la source et le clone sont des **pairs** - pas de *master*/*slave* \n",
    "* la seule différence bien sûr ce sont les droits d'accès\n",
    "  * en gros c'est **chacun chez soi**\n",
    "  * si vous avez les droits d'accès (linux, windows, macOS)  \n",
    "    sur un dépôt vous pouvez écrire dedans"
   ]
  },
  {
   "cell_type": "markdown",
   "metadata": {
    "slideshow": {
     "slide_type": "slide"
    }
   },
   "source": [
    "autre remarque :\n",
    "\n",
    "* les SHA1 des commits **sont préservés**\n",
    "* la copie se fait quasiment à l'octet près\n",
    "* ce qui permet un mode de réplication incrémental\n",
    "  * si je copie un gros dépôt un lundi\n",
    "  * et que je tire depuis ce dépôt mardi\n",
    "  * on va efficacement calculer ce qu'il est réellement utile de transférer"
   ]
  },
  {
   "cell_type": "code",
   "execution_count": null,
   "metadata": {
    "cell_style": "split"
   },
   "outputs": [],
   "source": [
    "cd $TOP/repo-alice\n",
    "git l -1"
   ]
  },
  {
   "cell_type": "code",
   "execution_count": null,
   "metadata": {
    "cell_style": "split"
   },
   "outputs": [],
   "source": [
    "cd $TOP/repo-cloned\n",
    "git l -1"
   ]
  },
  {
   "cell_type": "markdown",
   "metadata": {
    "slideshow": {
     "slide_type": "notes"
    }
   },
   "source": [
    "Notez les SHA-1 sont les mêmes dans les deux repos."
   ]
  },
  {
   "cell_type": "markdown",
   "metadata": {
    "cell_style": "center",
    "slideshow": {
     "slide_type": "slide"
    }
   },
   "source": [
    "## `git clone` en vrai "
   ]
  },
  {
   "cell_type": "markdown",
   "metadata": {},
   "source": [
    "l'usage le plus fréquent consiste à dupliquer un dépôt qui est publié sur `github`\n",
    "\n",
    "par exemple ce cours est sur\n",
    "https://github.com/flotpython/gittutorial/"
   ]
  },
  {
   "cell_type": "markdown",
   "metadata": {
    "cell_style": "split"
   },
   "source": [
    "![](../media/github-clone.png)"
   ]
  },
  {
   "cell_type": "markdown",
   "metadata": {
    "cell_style": "split"
   },
   "source": [
    "tapez \n",
    "\n",
    "    git clone \n",
    "    \n",
    "allez sur github pour copier l'URL\n",
    "    \n",
    "et faites 'coller' avec Control-V\n",
    "\n",
    "    git clone git@github.com:flotpython/gittutorial.git\n",
    "    \n",
    "qui crée le répertoire\n",
    "\n",
    "    cd gittutorial"
   ]
  },
  {
   "cell_type": "markdown",
   "metadata": {
    "slideshow": {
     "slide_type": "slide"
    }
   },
   "source": [
    "## les fonctions de synchronisation"
   ]
  },
  {
   "cell_type": "markdown",
   "metadata": {
    "cell_style": "split"
   },
   "source": [
    "en plus de `clone`, les fonctions de synchronisation sont :\n",
    "\n",
    "* `fetch`\n",
    "* `pull`\n",
    "* `push`"
   ]
  },
  {
   "cell_type": "markdown",
   "metadata": {
    "cell_style": "split",
    "slideshow": {
     "slide_type": "fragment"
    }
   },
   "source": [
    "**passif**\n",
    "\n",
    "* `fetch`  \n",
    "  injecte des commits distants  \n",
    "  dans le dépôt local  \n",
    "  **sans impact local**\n",
    "\n",
    "**actif**\n",
    "\n",
    "* `pull` = `fetch` + `merge`\n",
    "* `push`: injecte des commits locaux dans le dépôt distant\n"
   ]
  },
  {
   "cell_type": "markdown",
   "metadata": {
    "slideshow": {
     "slide_type": "notes"
    }
   },
   "source": [
    "De ce point de vue, la composante active de la fonction `pull` est entièrement liée à `merge`, que nous avons déjà étudié."
   ]
  },
  {
   "cell_type": "markdown",
   "metadata": {
    "slideshow": {
     "slide_type": "slide"
    }
   },
   "source": [
    "## la notion de *remote*"
   ]
  },
  {
   "cell_type": "markdown",
   "metadata": {},
   "source": [
    "avant de voir en détail les fonctions de synchro,  \n",
    "nous devons voir la notion de *remote*\n",
    "\n",
    "un *remote*, c'est \n",
    "\n",
    "* essentiellement **un nom** symbolique\n",
    "* qui nous permet de faire facilement référence à un **autre dépôt**\n",
    "* i.e. plutôt que de retaper **son URL** à chaque fois"
   ]
  },
  {
   "cell_type": "markdown",
   "metadata": {
    "slideshow": {
     "slide_type": "notes"
    }
   },
   "source": [
    "En toute rigueur la notion de remote est une simple commodité, qui permet de ne pas avoir à retaper - et donc à se souvenir - du détail de l'URL qui permet d'accéder à un dépôt distant. "
   ]
  },
  {
   "cell_type": "markdown",
   "metadata": {
    "slideshow": {
     "slide_type": "slide"
    }
   },
   "source": [
    "## les *remote*s"
   ]
  },
  {
   "cell_type": "markdown",
   "metadata": {},
   "source": [
    "dans notre clone, notez la présence d'un *remote* appelé `origin`"
   ]
  },
  {
   "cell_type": "code",
   "execution_count": null,
   "metadata": {
    "cell_style": "split"
   },
   "outputs": [],
   "source": [
    "# nous sommes dans le clone\n",
    "pwd"
   ]
  },
  {
   "cell_type": "code",
   "execution_count": null,
   "metadata": {
    "cell_style": "split"
   },
   "outputs": [],
   "source": [
    "# pour lister les remotes connus\n",
    "git remote"
   ]
  },
  {
   "cell_type": "markdown",
   "metadata": {
    "slideshow": {
     "slide_type": "slide"
    }
   },
   "source": [
    "au moment du `clone`, git a créé pour nous ce *remote*  \n",
    "avec le nom prédéfini `origin`,  \n",
    "qui désigne le dépôt d'où on a cloné"
   ]
  },
  {
   "cell_type": "code",
   "execution_count": null,
   "metadata": {},
   "outputs": [],
   "source": [
    "# en version bavarde on voit à quoi correspond le remote \n",
    "git remote -v"
   ]
  },
  {
   "cell_type": "markdown",
   "metadata": {
    "slideshow": {
     "slide_type": "notes"
    }
   },
   "source": [
    "Pour info : comme pour les branches, on peut facilement ajouter, renommer, etc. les *remote*s ; faire `git remote --help` pour plus de détails\n",
    "\n",
    "Notamment, si le nom de `origin` ne vous semble pas parlant, vous pouvez par exemple choisir un nom comme `github` ou `myfork`\n",
    "\n",
    "Remarquez à cet égard un cruel manque de cohérence entre `git branch` et `git remote` lorsqu'il s'agit de renommer ou détruire des objets: `git branch -d labranche` *vs*  `git remote remove leremote`; ce manque de cohérence est clairement un aspect très améliorable pour un apprentissage plus aisé de la suite `git`…\n"
   ]
  },
  {
   "cell_type": "markdown",
   "metadata": {
    "slideshow": {
     "slide_type": "slide"
    }
   },
   "source": [
    "## branches et remotes"
   ]
  },
  {
   "cell_type": "markdown",
   "metadata": {},
   "source": [
    "un dépôt git est *self-contained*\n",
    "\n",
    "* toutes les références (branche et remote) sont des **objets locaux**\n",
    "* on peut **toujours** travailler sans connexion réseau\n",
    "\n",
    "pour résumer, deux notions très différentes\n",
    "\n",
    "* la branche désigne un point dans les commits (forcément locaux)\n",
    "* le remote est simplement une **référence** vers un autre dépôt\n",
    "  * c'est juste un nom, un alias, vers un autre dépôt\n",
    "* ainsi par exemple\n",
    "  * on peut sans souci créer un remote vers un dépôt inexistant\n",
    "  * c'est seulement quand on s'en sert - via fetch/push/pull - qu'on se rendra compte du problème"
   ]
  },
  {
   "cell_type": "markdown",
   "metadata": {
    "slideshow": {
     "slide_type": "slide"
    }
   },
   "source": [
    "## branches distantes"
   ]
  },
  {
   "cell_type": "markdown",
   "metadata": {},
   "source": [
    "comme un dépôt est *self-contained*\n",
    "\n",
    "* il conserve **localement** la trace des branches distantes\n",
    "* voyez par exemple les branches `origin/master` et `origin/devel`\n"
   ]
  },
  {
   "cell_type": "code",
   "execution_count": null,
   "metadata": {},
   "outputs": [],
   "source": [
    "# depuis le clone, on voit un nouveau type \n",
    "# de référence, comme par exemple origin/master\n",
    "\n",
    "pwd\n",
    "git l --all"
   ]
  },
  {
   "cell_type": "markdown",
   "metadata": {
    "cell_style": "center"
   },
   "source": [
    "qu'on pourrait paraphraser comme ceci :\n",
    "\n",
    "* du point de vue du dépôt `repo-cloned`\n",
    "* il y a dans le dépôt distant `origin` (donc, `repo-alice`)\n",
    "* une branche `master` \n",
    "* qui pointe vers ce commit"
   ]
  },
  {
   "cell_type": "markdown",
   "metadata": {
    "slideshow": {
     "slide_type": "slide"
    }
   },
   "source": [
    "## actualité des branches distantes"
   ]
  },
  {
   "cell_type": "markdown",
   "metadata": {},
   "source": [
    "cette information **n'est pas** garantie d'être 100% à jour !\n",
    "\n",
    "on va le voir tout de suite : \n",
    "\n",
    "* si je crée dans `repo-alice` un commit\n",
    "  * c'est une opération **strictement locale**\n",
    "* le clone `repo-cloned` n'en n'est pas informé immédiatement\n",
    "  * à nouveau, c'est du pair à pair / chacun chez soi\n",
    "* il le sera essentiellement s'il fait un `fetch`"
   ]
  },
  {
   "cell_type": "markdown",
   "metadata": {},
   "source": [
    "remarque :\n",
    "\n",
    "* on peut configurer énormément de choses; par exemple\n",
    "  * décider de synchoniser deux repos après chaque commit\n",
    "* mais c'est de l'ordre du confort\n",
    "  * ce sont des **opérations élémentaires distinctes**"
   ]
  },
  {
   "cell_type": "markdown",
   "metadata": {
    "slideshow": {
     "slide_type": "notes"
    }
   },
   "source": [
    "Notez également que la plupart des interfaces graphiques, comme SourceTree ou GitKraken, font automatiquement un `fetch` à intervalles réguliers, typiquement toutes les 5 minutes, auprès des remotes connus de votre dépôt, ce qui est très commode pour être averti des autres contributions."
   ]
  },
  {
   "cell_type": "markdown",
   "metadata": {
    "slideshow": {
     "slide_type": "slide"
    }
   },
   "source": [
    "## synchro - fetch"
   ]
  },
  {
   "cell_type": "markdown",
   "metadata": {},
   "source": [
    "notre scénario\n",
    "\n",
    "* créer un nouveau commit dans le dépôt originel `repo-alice`\n",
    "* observer les deux repos à ce stade\n",
    "* déclencher un `fetch` depuis `repo-cloned`\n",
    "* observer les deux repos à ce stade"
   ]
  },
  {
   "cell_type": "markdown",
   "metadata": {
    "slideshow": {
     "slide_type": "slide"
    }
   },
   "source": [
    "## fetch (1) - créer un commit à l'origine"
   ]
  },
  {
   "cell_type": "code",
   "execution_count": null,
   "metadata": {},
   "outputs": [],
   "source": [
    "cd $TOP/repo-alice\n",
    "$SCRIPTS/do first-commit-in-alice"
   ]
  },
  {
   "cell_type": "code",
   "execution_count": null,
   "metadata": {},
   "outputs": [],
   "source": [
    "git l"
   ]
  },
  {
   "cell_type": "markdown",
   "metadata": {
    "slideshow": {
     "slide_type": "notes"
    }
   },
   "source": [
    "On crée un commit du coté du dépôt d'alice; peu importe son contenu à ce stade."
   ]
  },
  {
   "cell_type": "markdown",
   "metadata": {
    "slideshow": {
     "slide_type": "slide"
    }
   },
   "source": [
    "## avant le `fetch`"
   ]
  },
  {
   "cell_type": "code",
   "execution_count": null,
   "metadata": {
    "cell_style": "split"
   },
   "outputs": [],
   "source": [
    "cd $TOP/repo-alice\n",
    "git l"
   ]
  },
  {
   "cell_type": "code",
   "execution_count": null,
   "metadata": {
    "cell_style": "split"
   },
   "outputs": [],
   "source": [
    "# repo-cloned n'a aucune\n",
    "# idée à ce stade qu'il y a \n",
    "# du nouveau chez alice\n",
    "cd $TOP/repo-cloned\n",
    "git l"
   ]
  },
  {
   "cell_type": "markdown",
   "metadata": {
    "slideshow": {
     "slide_type": "slide"
    }
   },
   "source": [
    "## fetch (2) - utiliser `fetch` depuis le clone"
   ]
  },
  {
   "cell_type": "code",
   "execution_count": null,
   "metadata": {},
   "outputs": [],
   "source": [
    "# toujours sur le clone\n",
    "cd $TOP/repo-cloned\n",
    "\n",
    "# on va chercher avec fetch les commits nouveaux\n",
    "# en faisant --all on va sur tous les remote connus\n",
    "# ici on n'en a qu'un, c'est origin = repo-alice\n",
    "git fetch --all"
   ]
  },
  {
   "cell_type": "markdown",
   "metadata": {
    "slideshow": {
     "slide_type": "notes"
    }
   },
   "source": [
    "On aurait pu faire aussi bien `git fetch origin` "
   ]
  },
  {
   "cell_type": "markdown",
   "metadata": {
    "slideshow": {
     "slide_type": "slide"
    }
   },
   "source": [
    "## après le `fetch`"
   ]
  },
  {
   "cell_type": "code",
   "execution_count": null,
   "metadata": {
    "cell_style": "split"
   },
   "outputs": [],
   "source": [
    "# le dépôt initial\n",
    "\n",
    "cd $TOP/repo-alice\n",
    "git l"
   ]
  },
  {
   "cell_type": "code",
   "execution_count": null,
   "metadata": {
    "cell_style": "split"
   },
   "outputs": [],
   "source": [
    "# le dépôt après fetch\n",
    "cd $TOP/repo-cloned\n",
    "\n",
    "# je précise bien --all\n",
    "git l --all"
   ]
  },
  {
   "cell_type": "markdown",
   "metadata": {
    "cell_style": "split"
   },
   "source": [
    "remarquez :\n",
    "\n",
    "* nous voyons un nouveau commit !\n",
    "* `origin/devel` est mis à jour  \n",
    "  (ainsi d'ailleurs que `origin/HEAD`)\n"
   ]
  },
  {
   "cell_type": "markdown",
   "metadata": {
    "cell_style": "split"
   },
   "source": [
    "mais aussi que :\n",
    "\n",
    "* `devel` n'a pas bougé\n",
    "* car `fetch` est strictement   \n",
    "  **non intrusif**"
   ]
  },
  {
   "cell_type": "markdown",
   "metadata": {
    "slideshow": {
     "slide_type": "slide"
    }
   },
   "source": [
    "## mettre à jour les références locales"
   ]
  },
  {
   "cell_type": "markdown",
   "metadata": {
    "cell_style": "split"
   },
   "source": [
    "à ce stade, pour mettre à jour `repo-cloned` par rapport au dépôt distant `repo-alice`, je peux\n",
    "\n",
    "* merger `origin/devel` dans `devel`\n",
    "* ce qui ferait avancer `devel` d'un cran \n",
    "* noter que c'est un merge `fast-forward`\n",
    "* et donc, **pas de création** de commit"
   ]
  },
  {
   "cell_type": "code",
   "execution_count": null,
   "metadata": {
    "cell_style": "split"
   },
   "outputs": [],
   "source": [
    "# la branche courante est devel\n",
    "\n",
    "git merge origin/devel"
   ]
  },
  {
   "cell_type": "code",
   "execution_count": null,
   "metadata": {},
   "outputs": [],
   "source": [
    "# maintenant repo-cloned est parfaitement à jour \n",
    "# avec repo-alice\n",
    "git l"
   ]
  },
  {
   "cell_type": "markdown",
   "metadata": {
    "slideshow": {
     "slide_type": "slide"
    }
   },
   "source": [
    "## `pull = fetch + merge`"
   ]
  },
  {
   "cell_type": "markdown",
   "metadata": {},
   "source": [
    "c'est exactement le propos de `pull` :  \n",
    "automatiser ce genre d'opérations en une seule passe  \n",
    "plusieurs formes :\n",
    "\n",
    "* `git pull origin devel` \n",
    "  * met à jour `origin/devel` (via `fetch` auprès de `origin`)\n",
    "  * et le merge dans `devel`\n",
    "* `git pull origin devel:master` \n",
    "  * met à jour `origin/devel` et le merge dans `master`"
   ]
  },
  {
   "cell_type": "markdown",
   "metadata": {
    "slideshow": {
     "slide_type": "slide"
    }
   },
   "source": [
    "## `pull` et raccourcis"
   ]
  },
  {
   "cell_type": "markdown",
   "metadata": {
    "slideshow": {
     "slide_type": ""
    }
   },
   "source": [
    "* on peut même encore raccourcir, grâce à la configuration\n",
    "* en partant du nom de la branche courante, ici `devel`\n",
    "* qui a été configurée lorsqu'on a fait `clone`\n",
    "* ceci relève du confort plus qu'autre chose\n",
    "* mais permet de simplifier sensiblement les choses"
   ]
  },
  {
   "cell_type": "code",
   "execution_count": null,
   "metadata": {
    "cell_style": "split",
    "slideshow": {
     "slide_type": "slide"
    }
   },
   "outputs": [],
   "source": [
    "# git config permet de lire\n",
    "# un attribut dans la config\n",
    "\n",
    "# ceci est le défaut pour le\n",
    "# premier argument à git pull\n",
    "git config branch.devel.remote"
   ]
  },
  {
   "cell_type": "code",
   "execution_count": null,
   "metadata": {
    "cell_style": "split",
    "slideshow": {
     "slide_type": ""
    }
   },
   "outputs": [],
   "source": [
    "# pareil pour le deuxième argument\n",
    "\n",
    "git config branch.devel.merge"
   ]
  },
  {
   "cell_type": "markdown",
   "metadata": {},
   "source": [
    "du coup je peux encore enlever des arguments\n",
    "\n",
    "* `git pull origin`\n",
    "  * revient à `git pull origin devel`\n",
    "  * du fait de `git config branch.devel.merge`\n",
    "* `git pull` \n",
    "  * revient `git pull origin devel`\n",
    "  * du fait de `branch.devel.remote`"
   ]
  },
  {
   "cell_type": "markdown",
   "metadata": {
    "slideshow": {
     "slide_type": "notes"
    }
   },
   "source": [
    "Ce sont ces formes raccourcies qui sont le plus souvent utilisées en pratique, mais on recommande au moins dans un premier temps d'utiliser les formes longues pour bien maitriser ce qui est fait."
   ]
  },
  {
   "cell_type": "markdown",
   "metadata": {
    "slideshow": {
     "slide_type": "slide"
    }
   },
   "source": [
    "## `pull` sur plusieurs branches"
   ]
  },
  {
   "cell_type": "markdown",
   "metadata": {},
   "source": [
    "enfin on peut indiquer plusieurs branches sur le même remote\n",
    "\n",
    "* `git pull origin master:master devel:devel` \n",
    "\n",
    "peut être utile quand on sait qu'on suit toujours plusieurs branches"
   ]
  },
  {
   "cell_type": "markdown",
   "metadata": {
    "slideshow": {
     "slide_type": "slide"
    }
   },
   "source": [
    "## résumé sur *fetch* et *pull*"
   ]
  },
  {
   "cell_type": "markdown",
   "metadata": {},
   "source": [
    "pour résumer jusqu'ici :\n",
    "\n",
    "* `git fetch`\n",
    "  * aller chercher les commits présents dans d'autres repos\n",
    "  * non intrusive\n",
    "  * les UIs font cela périodiquement par défaut\n",
    "\n",
    "* `git merge` \n",
    "  * on peut ensuite merger ces commits\n",
    "  * exactement comme si on les avait créés localement\n",
    "  * notamment vis-à-vis des *fast-forward* \n",
    "  \n",
    "* `git pull` \n",
    "  * permet de faire les deux phases `fetch` et `merge` \n",
    "    en une seule commande"
   ]
  },
  {
   "cell_type": "markdown",
   "metadata": {
    "slideshow": {
     "slide_type": "notes"
    }
   },
   "source": [
    "Tout ce qui a été dit précédemment concernant le `merge`, notamment en termes de *fast-forward* conditionnant la création ou non d'un nouveau commit, et la possibilité de conflits, s'applique donc à l'identique à la fonction `pull`."
   ]
  },
  {
   "cell_type": "markdown",
   "metadata": {
    "slideshow": {
     "slide_type": "slide"
    }
   },
   "source": [
    "## dans l'autre sens: `push`"
   ]
  },
  {
   "cell_type": "markdown",
   "metadata": {
    "cell_style": "split"
   },
   "source": [
    "\n",
    "* le modèle étant symétrique (pair à pair)\n",
    "* à première vue, on se dit que le *push* \n",
    "* c-à-d propager des commits locaux vers un dépôt distant\n",
    "* **devrait** être l'**exact symétrique** du *pull*\n"
   ]
  },
  {
   "cell_type": "markdown",
   "metadata": {
    "cell_style": "split",
    "slideshow": {
     "slide_type": "fragment"
    }
   },
   "source": [
    "* en pratique ce n'est **pas le cas**\n",
    "* on travaille dans un **autre dépôt**\n",
    "* d'ailleurs le plus souvent un *bare dépôt*"
   ]
  },
  {
   "cell_type": "markdown",
   "metadata": {
    "slideshow": {
     "slide_type": "slide"
    }
   },
   "source": [
    "## dissymétrie"
   ]
  },
  {
   "cell_type": "markdown",
   "metadata": {},
   "source": [
    "la dissymétrie est liée à la résolution de conflits :\n",
    "\n",
    "* lors d'un `pull`, il y a un humain qui peut résoudre les conflits, revenir en arrière, etc..\n",
    "* lors d'un `push`, ce **n'est pas forcément le cas** (pensez `github`)\n",
    "\n",
    "c'est pourquoi :\n",
    "\n",
    "* l'opération de `push` est effectivement l'inverse de `pull`\n",
    "* on recopie à distance les commits qui n'y sont pas encore\n",
    "* et on merge dans la branche distante\n",
    "* mais c'est **limité à des *fast-foward***\n",
    "* de cette façon on élimine la possibilité de conflits\n",
    "* même si ça peut paraître trop conservatoire"
   ]
  },
  {
   "cell_type": "markdown",
   "metadata": {
    "slideshow": {
     "slide_type": "slide"
    }
   },
   "source": [
    "## push et droits d'accès"
   ]
  },
  {
   "cell_type": "markdown",
   "metadata": {},
   "source": [
    "notez aussi que, bien entendu, lors d'un push :\n",
    "\n",
    "* il faut les **droits d'écriture** dans le dépôt distant\n",
    "\n",
    "dans le cas d'un dépôt distant sur github (gitlab, ...)\n",
    "\n",
    "* il faut faire une démarche particulière pour obtenir ce droit\n",
    "* **ou bien** se créer un *fork* (c'est leur principale raison d'être)\n",
    "* on reparlera de tout ça"
   ]
  },
  {
   "cell_type": "markdown",
   "metadata": {
    "slideshow": {
     "slide_type": "notes"
    }
   },
   "source": [
    "Notez qu'il n'y a aucun système d'authentification inclus dans `git`, les droits d'accès sont totalement gérés par le système d'exploitation hôte. Aucune commande dans `git` ne permet donc de définir des utilisateurs ou des droits d'accès."
   ]
  },
  {
   "cell_type": "markdown",
   "metadata": {
    "slideshow": {
     "slide_type": "slide"
    }
   },
   "source": [
    "## cas d'usage\n",
    "\n",
    "en pratique le `push` est utilisé pour\n",
    "\n",
    "* exposer un travail sur un dépôt public - toujours *bare*\n",
    "* de façon à ce que les collaborateurs  \n",
    "  puissent alors l'importer dans leur dépôt avec un `pull`\n",
    "  \n",
    "d'ailleurs \n",
    "\n",
    "* `git push` **se plaint** si on essaie de pousser  \n",
    "  vers un **dépôt qui n'est pas *bare***\n"
   ]
  },
  {
   "cell_type": "markdown",
   "metadata": {
    "slideshow": {
     "slide_type": "notes"
    }
   },
   "source": [
    "La logique à l'oeuvre ici est qu'un dépôt qui est *bare* ne peut pas servir à créer de nouveaux commits - puisqu'il n'y a ni index ni espace de travail; c'est raisonnable de pouvoir pousser sur un tel dépôt, et en fait c'est un peu le seul intérêt d'un dépôt *bare*.\n",
    "\n",
    "Par contre un dépôt usuel, non *bare*, est utilisé par un humain pour travailler; du coup c'est plutôt à cette personne de tirer - et de gérer les éventuels conflits - qu'à un tiers de pousser."
   ]
  },
  {
   "cell_type": "markdown",
   "metadata": {
    "slideshow": {
     "slide_type": "slide"
    }
   },
   "source": [
    "## pour expérimenter"
   ]
  },
  {
   "cell_type": "markdown",
   "metadata": {},
   "source": [
    "* nous allons revoir du coup notre setup\n",
    "* on conserve `repo-alice`\n",
    "* on détruit `repo-cloned`\n",
    "* on crée à la place un dépôt *bare* qui s'appelle `fake-github.git`\n",
    "* on va voir tout de suite pourquoi ce nom en `.git`"
   ]
  },
  {
   "cell_type": "code",
   "execution_count": null,
   "metadata": {
    "slideshow": {
     "slide_type": ""
    }
   },
   "outputs": [],
   "source": [
    "cd $TOP\n",
    "rm -rf repo-cloned fake-github.git\n",
    "\n",
    "# avec l'option --bare on crée un dépôt bare\n",
    "# comme il le serait sur github\n",
    "git clone --bare repo-alice fake-github.git"
   ]
  },
  {
   "cell_type": "markdown",
   "metadata": {
    "cell_style": "center",
    "slideshow": {
     "slide_type": "slide"
    }
   },
   "source": [
    "## un *bare* dépôt"
   ]
  },
  {
   "cell_type": "markdown",
   "metadata": {},
   "source": [
    "ce qui nous donne l'occasion de voir à quoi ça ressemble"
   ]
  },
  {
   "cell_type": "code",
   "execution_count": null,
   "metadata": {
    "cell_style": "split"
   },
   "outputs": [],
   "source": [
    "cd $TOP\n",
    "\n",
    "# le contenu d'un dépôt bare\n",
    "ls fake-github.git"
   ]
  },
  {
   "cell_type": "code",
   "execution_count": null,
   "metadata": {
    "cell_style": "split"
   },
   "outputs": [],
   "source": [
    "# est proche du contenu d'un .git\n",
    "# dans un dépôt 'normal'\n",
    "\n",
    "ls repo-alice/.git"
   ]
  },
  {
   "cell_type": "markdown",
   "metadata": {},
   "source": [
    "enfin disons, surtout en ce qui concerne \n",
    "\n",
    "* `config`\n",
    "* `objects`: c'est là que sont rangés les commits et leurs contenus\n",
    "* `refs`: c'est là que sont rangées les branches\n",
    "\n",
    "on a l'habitude d'appeler les *bare* dépôt  \n",
    "avec un nom en `.git` pour indiquer leur type (juste une convention)"
   ]
  },
  {
   "cell_type": "markdown",
   "metadata": {
    "slideshow": {
     "slide_type": "slide"
    }
   },
   "source": [
    "## un push simple"
   ]
  },
  {
   "cell_type": "markdown",
   "metadata": {
    "slideshow": {
     "slide_type": ""
    }
   },
   "source": [
    "scénario #1 : un push qui se passe bien\n",
    "\n",
    "* je crée un commit dans le dépôt original\n",
    "* je le pousse sur le faux github"
   ]
  },
  {
   "cell_type": "markdown",
   "metadata": {
    "slideshow": {
     "slide_type": "slide"
    }
   },
   "source": [
    "**quelque chose à pousser**"
   ]
  },
  {
   "cell_type": "code",
   "execution_count": null,
   "metadata": {
    "cell_style": "split"
   },
   "outputs": [],
   "source": [
    "# créons un commit chez alice\n",
    "\n",
    "cd $TOP/repo-alice\n",
    "\n",
    "$SCRIPTS/do commit-in-initial-for-simple-push\n",
    "\n",
    "git l"
   ]
  },
  {
   "cell_type": "code",
   "execution_count": null,
   "metadata": {
    "cell_style": "split"
   },
   "outputs": [],
   "source": [
    "# sur le clone bien sûr \n",
    "# le nouveau commit est absent\n",
    "\n",
    "cd $TOP/fake-github.git\n",
    "\n",
    "git l"
   ]
  },
  {
   "cell_type": "markdown",
   "metadata": {
    "slideshow": {
     "slide_type": "slide"
    }
   },
   "source": [
    "## il nous faut un `remote`"
   ]
  },
  {
   "cell_type": "markdown",
   "metadata": {
    "slideshow": {
     "slide_type": "fragment"
    }
   },
   "source": [
    "quelques précautions sont à prendre toutefois pour pouvoir pousser\n",
    "\n",
    "\n",
    "* la syntaxe de `push` est similaire à celle de pull\n",
    "* il va donc nous falloir un `remote` "
   ]
  },
  {
   "cell_type": "markdown",
   "metadata": {
    "slideshow": {
     "slide_type": "slide"
    }
   },
   "source": [
    "**créons un remote**"
   ]
  },
  {
   "cell_type": "code",
   "execution_count": null,
   "metadata": {},
   "outputs": [],
   "source": [
    "cd $TOP/repo-alice\n",
    "\n",
    "# on avait bien un remote dans le scénario précédent\n",
    "# mais c'était dans repo-cloned \n",
    "# le remote avait alors été créé par 'git clone' \n",
    "# \n",
    "# ici dans repo-alice on ne connait aucun remote\n",
    " \n",
    "git remote"
   ]
  },
  {
   "cell_type": "code",
   "execution_count": null,
   "metadata": {},
   "outputs": [],
   "source": [
    "# il va donc nous falloir définir un remote à la main\n",
    "# et cette fois plutôt que de l'appeler `origin` on va l'appeler `github` \n",
    "# ce sera beaucoup plus parlant pour nous\n",
    "\n",
    "git remote add github $TOP/fake-github.git"
   ]
  },
  {
   "cell_type": "code",
   "execution_count": null,
   "metadata": {},
   "outputs": [],
   "source": [
    "git remote -v"
   ]
  },
  {
   "cell_type": "markdown",
   "metadata": {
    "slideshow": {
     "slide_type": "slide"
    }
   },
   "source": [
    "## avant le push"
   ]
  },
  {
   "cell_type": "code",
   "execution_count": null,
   "metadata": {
    "cell_style": "split",
    "slideshow": {
     "slide_type": ""
    }
   },
   "outputs": [],
   "source": [
    "# la situation dans initial\n",
    "# on a 4 commits\n",
    "\n",
    "cd $TOP/repo-alice\n",
    "\n",
    "git l --all"
   ]
  },
  {
   "cell_type": "code",
   "execution_count": null,
   "metadata": {
    "cell_style": "split"
   },
   "outputs": [],
   "source": [
    "# et dans le clone\n",
    "# seulement 3 commits\n",
    "\n",
    "cd $TOP/fake-github.git\n",
    "\n",
    "git l --all"
   ]
  },
  {
   "cell_type": "markdown",
   "metadata": {
    "slideshow": {
     "slide_type": "slide"
    }
   },
   "source": [
    "## mon premier push"
   ]
  },
  {
   "cell_type": "code",
   "execution_count": null,
   "metadata": {},
   "outputs": [],
   "source": [
    "# on se met dans le dépôt initial\n",
    "\n",
    "cd $TOP/repo-alice\n",
    "\n",
    "# la syntaxe de push est voisine de celle de pull\n",
    "# on pourrait faire simplement\n",
    "#\n",
    "# git push github devel\n",
    "\n",
    "\n",
    "# cela dit je recommande par sécurité \n",
    "# d'éviter toute ambiüité \n",
    "# et de faire explicitement\n",
    "#\n",
    "git push github devel:devel"
   ]
  },
  {
   "cell_type": "markdown",
   "metadata": {
    "slideshow": {
     "slide_type": "slide"
    }
   },
   "source": [
    "## après le push"
   ]
  },
  {
   "cell_type": "code",
   "execution_count": null,
   "metadata": {
    "cell_style": "split",
    "slideshow": {
     "slide_type": ""
    }
   },
   "outputs": [],
   "source": [
    "# ainsi après le push \n",
    "# les deux repos sont \n",
    "# en phase\n",
    "\n",
    "\n",
    "\n",
    "cd $TOP/repo-alice\n",
    "git l "
   ]
  },
  {
   "cell_type": "code",
   "execution_count": null,
   "metadata": {
    "cell_style": "split"
   },
   "outputs": [],
   "source": [
    "# remarque un peu digressive\n",
    "# voyez que github\n",
    "# ne connait aucun remote\n",
    "# c'est bien le cas dans la vraie vie\n",
    "# car ce n'est jamais github \n",
    "# qui pousse ou qui tire\n",
    "\n",
    "cd $TOP/fake-github.git\n",
    "git l "
   ]
  },
  {
   "cell_type": "markdown",
   "metadata": {
    "slideshow": {
     "slide_type": "slide"
    }
   },
   "source": [
    "## résumé\n",
    "\n",
    "nous avons à présent tous les éléments pour construire  \n",
    "le plus simple travail collaboratif :\n",
    "\n",
    "* alice crée un dépôt local sur son laptop\n",
    "* elle travaille un moment seule, crée des commits\n",
    "* elle publie son dépôt sur gihub\n",
    "  * création d'un dépôt via l'interface web\n",
    "  * ajout d'un remote dans son dépôt local\n",
    "  * push\n",
    "* bob peut alors créer un clone sur son laptop\n",
    "  * et si alice lui donne les droits d'écriture  \n",
    "    (toujours via l'interface web de github)\n",
    "\n",
    "  * alors bob peut pousser lui aussi son travail"
   ]
  }
 ],
 "metadata": {
  "celltoolbar": "Slideshow",
  "ipub": {
   "sphinx": {
    "toggle_input": true,
    "toggle_input_all": true,
    "toggle_output": true,
    "toggle_output_all": true
   }
  },
  "kernelspec": {
   "display_name": "Calysto Bash",
   "language": "bash",
   "name": "calysto_bash"
  },
  "language_info": {
   "file_extension": ".sh",
   "help_links": [
    {
     "text": "MetaKernel Magics",
     "url": "https://metakernel.readthedocs.io/en/latest/source/README.html"
    }
   ],
   "mimetype": "text/x-sh",
   "name": "bash",
   "version": "0.2.1"
  },
  "notebookname": "mon premier remote",
  "rise": {
   "autolaunch": true,
   "slideNumber": "c/t",
   "start_slideshow_at": "selected",
   "theme": "sky",
   "transition": "cube"
  },
  "version": "1.0"
 },
 "nbformat": 4,
 "nbformat_minor": 4
}

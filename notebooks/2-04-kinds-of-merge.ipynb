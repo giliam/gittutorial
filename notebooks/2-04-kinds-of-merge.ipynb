{
 "cells": [
  {
   "cell_type": "markdown",
   "metadata": {
    "slideshow": {
     "slide_type": "slide"
    }
   },
   "source": [
    "<div class=\"licence\">\n",
    "<span>Licence CC BY-NC-ND</span>\n",
    "<span>Thierry Parmentelat</span>\n",
    "<span><img src=\"media/inria-25-alpha.png\" /></span>\n",
    "</div>"
   ]
  },
  {
   "cell_type": "markdown",
   "metadata": {
    "slideshow": {
     "slide_type": ""
    }
   },
   "source": [
    "# plusieurs sortes de merge"
   ]
  },
  {
   "cell_type": "code",
   "execution_count": null,
   "metadata": {
    "slideshow": {
     "slide_type": "slide"
    }
   },
   "outputs": [],
   "source": [
    "# ce sera toujours notre façon de commencer\n",
    "[ -f scripts/helpers.sh ] && source scripts/helpers.sh"
   ]
  },
  {
   "cell_type": "markdown",
   "metadata": {
    "slideshow": {
     "slide_type": "slide"
    }
   },
   "source": [
    "## reprenons .."
   ]
  },
  {
   "cell_type": "markdown",
   "metadata": {},
   "source": [
    "si vous avez bien suivi et exécuté ce qui précède, vous devez avoir un répertoire `my-first-repo`:\n",
    "\n",
    "* qui contient 6 commits\n",
    "* et deux branches `master` et `devel`\n",
    "* la branche `master` pointe sur notre premier merge\n",
    "* la branche `devel` est un peu en retrait"
   ]
  },
  {
   "cell_type": "code",
   "execution_count": null,
   "metadata": {},
   "outputs": [],
   "source": [
    "# si nécessaire, vous pouvez remettre le repository en l'état\n",
    "# \n",
    "# pour cela mettez \"true\" au lieu de \"\"\n",
    "# et bien sûr évaluer la cellule\n",
    "\n",
    "reset=\"\"\n",
    "\n",
    "if [ -n \"$reset\" ]; then \n",
    "    cd $TOP\n",
    "    bash $SCRIPTS/2-01-my-first-repo.sh\n",
    "    bash $SCRIPTS/2-02-consistency-repo-fs.sh\n",
    "    bash $SCRIPTS/2-03-my-first-merge.sh\n",
    "fi >& /dev/null"
   ]
  },
  {
   "cell_type": "markdown",
   "metadata": {
    "slideshow": {
     "slide_type": "slide"
    }
   },
   "source": [
    "## le point.."
   ]
  },
  {
   "cell_type": "code",
   "execution_count": null,
   "metadata": {},
   "outputs": [],
   "source": [
    "# si nécessaire, on se place dans le dépôt git\n",
    "[ -d my-first-repo ] && cd my-first-repo\n",
    "\n",
    "pwd"
   ]
  },
  {
   "cell_type": "code",
   "execution_count": null,
   "metadata": {},
   "outputs": [],
   "source": [
    "# vous devez avoir deux branches, 6 commits dont un merge\n",
    "# et être sur la branche master \n",
    "git l --all"
   ]
  },
  {
   "cell_type": "markdown",
   "metadata": {
    "slideshow": {
     "slide_type": "slide"
    }
   },
   "source": [
    "## le(s) parent(s) d'un commit"
   ]
  },
  {
   "cell_type": "markdown",
   "metadata": {
    "cell_style": "split"
   },
   "source": [
    "![](../media/commit-parents.png)"
   ]
  },
  {
   "cell_type": "markdown",
   "metadata": {
    "cell_style": "split"
   },
   "source": [
    "* chaque commit a un ou des *parents*\n",
    "* qui correspondent aux commits  \n",
    "  sur lequel il est construit"
   ]
  },
  {
   "cell_type": "markdown",
   "metadata": {
    "cell_style": "split"
   },
   "source": [
    "sur cet exemple:\n",
    "\n",
    "* le parent de B est A\n",
    "* le parent de E est A\n",
    "* H a deux parents, D et G\n",
    "* ..."
   ]
  },
  {
   "cell_type": "markdown",
   "metadata": {
    "slideshow": {
     "slide_type": "slide"
    }
   },
   "source": [
    "## commits comparables ou pas"
   ]
  },
  {
   "cell_type": "markdown",
   "metadata": {
    "slideshow": {
     "slide_type": ""
    }
   },
   "source": [
    "* cette relation définit un **ordre partiel** sur les commits\n",
    "* selon que deux commits **sont comparables ou non**\n",
    "  * la création d'un merge va avoir des effets très différents"
   ]
  },
  {
   "cell_type": "markdown",
   "metadata": {
    "cell_style": "split",
    "slideshow": {
     "slide_type": "slide"
    }
   },
   "source": [
    "`master` et `devel` non comparables  \n",
    "`master` $\\nless$ `devel`  \n",
    "`master` $\\ngtr$ `devel`  \n",
    "\n",
    "\n",
    "\n",
    "![](../media/order-2-not-compare.png) "
   ]
  },
  {
   "cell_type": "markdown",
   "metadata": {
    "cell_style": "split"
   },
   "source": [
    "ils sont comparables  \n",
    "`master` > `devel`\n",
    "\n",
    "![](../media/order-3-compare.png) "
   ]
  },
  {
   "cell_type": "markdown",
   "metadata": {
    "cell_style": "center",
    "slideshow": {
     "slide_type": "slide"
    }
   },
   "source": [
    "## deux sortes de merge"
   ]
  },
  {
   "cell_type": "markdown",
   "metadata": {},
   "source": [
    "* si les deux points du merge **sont comparables** :\n",
    "  * **pas besoin** de créer un commit !\n",
    "* dans le cas contraire\n",
    "  * un nouveau commit **est nécessaire**\n",
    "  \n",
    "* voyons ces deux cas plus en détail  "
   ]
  },
  {
   "cell_type": "markdown",
   "metadata": {
    "slideshow": {
     "slide_type": "slide"
    }
   },
   "source": [
    "## (1) merge avec deux commits comparables"
   ]
  },
  {
   "cell_type": "markdown",
   "metadata": {},
   "source": [
    "si les deux commits sont comparables\n",
    "\n",
    "* le plus grand des deux **contient déjà** les changements communs aux deux commits\n",
    "* d'ailleurs: le plus proche ancêtre commun est le plus petit des deux\n"
   ]
  },
  {
   "cell_type": "markdown",
   "metadata": {
    "slideshow": {
     "slide_type": "slide"
    }
   },
   "source": [
    "## (1) merge avec deux commits comparables"
   ]
  },
  {
   "cell_type": "markdown",
   "metadata": {},
   "source": [
    "en vert: la branche `current` avant de merger `to_merge`  \n",
    "en bleu: la position de `current` après le merge"
   ]
  },
  {
   "cell_type": "markdown",
   "metadata": {
    "cell_style": "split"
   },
   "source": [
    "un merge dit *fast-forward*  \n",
    "\n",
    "![](../media/merge-1-fast-forward.png)"
   ]
  },
  {
   "cell_type": "markdown",
   "metadata": {
    "cell_style": "split"
   },
   "source": [
    "un merge sans aucun effet\n",
    "\n",
    "![](../media/merge-2-noop.png)"
   ]
  },
  {
   "cell_type": "markdown",
   "metadata": {
    "slideshow": {
     "slide_type": "notes"
    }
   },
   "source": [
    "Dans le premier cas :\n",
    "\n",
    "la branche courante est sur `A`, on fusionne dessus la branche `to_merge`  \n",
    "mais `to_merge` contient déjà tout le code de `courante`  \n",
    "ce n'est pas la peine de créer un commit  \n",
    "on se contente de faire monter `courante` au niveau de `to_merge`\n",
    "  \n",
    "Dans le second cas :\n",
    "\n",
    "cette fois la branche qu'on merge dans `courante` est un ancêtre de `courante`  \n",
    "donc `courante` contient déjà tout le code de `to_merge`, le merge n'a absolument aucun effet\n"
   ]
  },
  {
   "cell_type": "markdown",
   "metadata": {
    "slideshow": {
     "slide_type": "slide"
    }
   },
   "source": [
    "## (2) merge avec commits incomparables"
   ]
  },
  {
   "cell_type": "markdown",
   "metadata": {},
   "source": [
    "* dans le cas de deux commits non comparables,  \n",
    "  il faut **créer un commit** qui incorpore les changements\n",
    "\n",
    "* c'est fait **automatiquement** par `git merge` \n",
    "* toutefois :\n",
    "  * l'algorithme fonctionne à base de `diff`\n",
    "  * qui est **orienté lignes**\n",
    "  * d'où la bien meilleure adéquation sur **le texte**\n",
    "\n",
    "digression:\n",
    "\n",
    "* c'est une des raisons qui ont favorisé le format *markdown* \n",
    "* on en reparlera"
   ]
  },
  {
   "cell_type": "markdown",
   "metadata": {
    "slideshow": {
     "slide_type": "slide"
    }
   },
   "source": [
    "## notion de conflit"
   ]
  },
  {
   "cell_type": "markdown",
   "metadata": {},
   "source": [
    "* imaginez que vous avez une section de code, disons une ligne\n",
    "* qui est changée dans la branche A\n",
    "* et **aussi** changée dans la branche B\n",
    "* mais de manière différente.."
   ]
  },
  {
   "cell_type": "markdown",
   "metadata": {
    "slideshow": {
     "slide_type": "slide"
    }
   },
   "source": [
    "## *auto merge failed*"
   ]
  },
  {
   "cell_type": "markdown",
   "metadata": {},
   "source": [
    "![](../media/auto-merge-failed.png)"
   ]
  },
  {
   "cell_type": "markdown",
   "metadata": {
    "slideshow": {
     "slide_type": "slide"
    }
   },
   "source": [
    "## en cas de conflit"
   ]
  },
  {
   "cell_type": "markdown",
   "metadata": {
    "cell_style": "split"
   },
   "source": [
    "* la fusion automatique  \n",
    "  **ne peut pas réussir**\n",
    "\n",
    "* et le commit  **n'est pas créé**"
   ]
  },
  {
   "cell_type": "markdown",
   "metadata": {
    "cell_style": "split"
   },
   "source": [
    "`git merge` va\n",
    "\n",
    "* fusionner le maximum\n",
    "  * les cas non conflictuels\n",
    "  * sont gérés normalement\n",
    "  * et **mis dans l'index**"
   ]
  },
  {
   "cell_type": "markdown",
   "metadata": {
    "cell_style": "split"
   },
   "source": [
    "* pour le reste\n",
    "  * il insère des **balises**  \n",
    "    avec les deux versions\n",
    "\n",
    "  * **pas dans l'index**\n",
    "  * vous laisse le soin de choisir"
   ]
  },
  {
   "cell_type": "markdown",
   "metadata": {
    "cell_style": "split"
   },
   "source": [
    "* il vous reste à \n",
    "  * résoudre à la main\n",
    "  * mettre dans l'index  \n",
    "    les conflits résolus\n",
    "\n",
    "  * créer le commit vous même"
   ]
  },
  {
   "cell_type": "markdown",
   "metadata": {
    "slideshow": {
     "slide_type": "slide"
    }
   },
   "source": [
    "## ex. 1: fast-forward"
   ]
  },
  {
   "cell_type": "code",
   "execution_count": null,
   "metadata": {
    "cell_style": "split"
   },
   "outputs": [],
   "source": [
    "git l"
   ]
  },
  {
   "cell_type": "markdown",
   "metadata": {
    "cell_style": "split"
   },
   "source": [
    "* rappel: on avait fusionné `devel` dans `master`\n",
    "* vérifiez que `master` et `devel` sont comparables\n",
    "* que se passe-t-il si on merge `master` dans `devel` ?"
   ]
  },
  {
   "cell_type": "markdown",
   "metadata": {
    "slideshow": {
     "slide_type": "notes"
    }
   },
   "source": [
    "Pour expliciter le terme employé ici, quand on dit *on a fusionné `devel` dans `master`*, on veut dire plus précisément que, alors que `master` était la branche courante, on a fait `git merge devel`."
   ]
  },
  {
   "cell_type": "code",
   "execution_count": null,
   "metadata": {
    "cell_style": "center",
    "slideshow": {
     "slide_type": "slide"
    }
   },
   "outputs": [],
   "source": [
    "git checkout devel\n",
    "git merge master"
   ]
  },
  {
   "cell_type": "code",
   "execution_count": null,
   "metadata": {
    "cell_style": "center"
   },
   "outputs": [],
   "source": [
    "git l"
   ]
  },
  {
   "cell_type": "markdown",
   "metadata": {},
   "source": [
    "Réponse: \n",
    "\n",
    "* pas de commit créé\n",
    "* `devel` \"rattrape\" simplement `master`"
   ]
  },
  {
   "cell_type": "markdown",
   "metadata": {
    "slideshow": {
     "slide_type": "notes"
    }
   },
   "source": [
    "Comme on est dans le cas où les deux branches du merge sont comparables, on est dans le cas du *fast-forward* et il n'est pas besoin de créer un commit de fusion; vérifiez la présence du terme *Fast-forward* dans la sortie du `git merge`"
   ]
  },
  {
   "cell_type": "markdown",
   "metadata": {
    "slideshow": {
     "slide_type": "slide"
    }
   },
   "source": [
    "## ex. 2 : merge avec conflit - 1ère branche"
   ]
  },
  {
   "cell_type": "code",
   "execution_count": null,
   "metadata": {
    "cell_style": "split"
   },
   "outputs": [],
   "source": [
    "# un changement qui\n",
    "# ne sera pas conflictuel\n",
    "\n",
    "$SCRIPTS/do no-worries-1"
   ]
  },
  {
   "cell_type": "code",
   "execution_count": null,
   "metadata": {
    "cell_style": "split"
   },
   "outputs": [],
   "source": [
    "# celui-ci par contre le sera\n",
    "\n",
    "$SCRIPTS/do conflict-1"
   ]
  },
  {
   "cell_type": "code",
   "execution_count": null,
   "metadata": {
    "cell_style": "center"
   },
   "outputs": [],
   "source": [
    "git diff"
   ]
  },
  {
   "cell_type": "markdown",
   "metadata": {
    "slideshow": {
     "slide_type": "notes"
    }
   },
   "source": [
    "On prépare un merge avec conflit, et dans un premier temps on fabrique un commit qui contient deux changements,\n",
    "l'un ne posera pas de problème alors que l'autre entrera en conflit avec la deuxième branche du merge."
   ]
  },
  {
   "cell_type": "markdown",
   "metadata": {
    "slideshow": {
     "slide_type": "slide"
    }
   },
   "source": [
    "## ex. 2 : merge avec conflit - 1ère branche"
   ]
  },
  {
   "cell_type": "code",
   "execution_count": null,
   "metadata": {
    "cell_style": "center"
   },
   "outputs": [],
   "source": [
    "git add factorial.md\n",
    "git commit -m 'pour conflit dans devel'"
   ]
  },
  {
   "cell_type": "code",
   "execution_count": null,
   "metadata": {},
   "outputs": [],
   "source": [
    "git l --all"
   ]
  },
  {
   "cell_type": "markdown",
   "metadata": {
    "slideshow": {
     "slide_type": "slide"
    }
   },
   "source": [
    "## ex. 2 : merge avec conflit - 2ème branche"
   ]
  },
  {
   "cell_type": "code",
   "execution_count": null,
   "metadata": {
    "cell_style": "split"
   },
   "outputs": [],
   "source": [
    "# remettons-nous au commit précédent\n",
    "git checkout master"
   ]
  },
  {
   "cell_type": "code",
   "execution_count": null,
   "metadata": {
    "cell_style": "split"
   },
   "outputs": [],
   "source": [
    "# même logique, on fait deux changements\n",
    "\n",
    "$SCRIPTS/do no-worries-2\n",
    "$SCRIPTS/do conflict-2"
   ]
  },
  {
   "cell_type": "code",
   "execution_count": null,
   "metadata": {
    "cell_style": "split",
    "scrolled": true
   },
   "outputs": [],
   "source": [
    "git diff"
   ]
  },
  {
   "cell_type": "code",
   "execution_count": null,
   "metadata": {
    "cell_style": "split"
   },
   "outputs": [],
   "source": [
    "git add factorial.py factorial.md\n",
    "\n",
    "git commit -m'pour conflit, dans master'"
   ]
  },
  {
   "cell_type": "markdown",
   "metadata": {
    "slideshow": {
     "slide_type": "notes"
    }
   },
   "source": [
    "Même chose dans la deuxième branche, on crée un commit qui a deux changments, l'un des deux ne pose pas de problème alors que le second est en conflit avec notre première branche."
   ]
  },
  {
   "cell_type": "markdown",
   "metadata": {
    "slideshow": {
     "slide_type": "slide"
    }
   },
   "source": [
    "## ex. 2 : on a deux branches"
   ]
  },
  {
   "cell_type": "code",
   "execution_count": null,
   "metadata": {},
   "outputs": [],
   "source": [
    "# la situation juste avant le merge\n",
    "git l --all\n"
   ]
  },
  {
   "cell_type": "markdown",
   "metadata": {
    "slideshow": {
     "slide_type": "slide"
    }
   },
   "source": [
    "## ex. 2 : le merge échoue"
   ]
  },
  {
   "cell_type": "markdown",
   "metadata": {},
   "source": [
    "on a tout fait pour cela, le merge échoue  "
   ]
  },
  {
   "cell_type": "code",
   "execution_count": null,
   "metadata": {},
   "outputs": [],
   "source": [
    "# on est sur master\n",
    "git merge devel"
   ]
  },
  {
   "cell_type": "markdown",
   "metadata": {
    "slideshow": {
     "slide_type": "notes"
    }
   },
   "source": [
    "Le message d'échec peut paraître relativement sybillin ; en fait les détails de ce qui a réussi ou pas sont donnés à l'utilisateur au travers de l'état dans lequel le dépôt est laissé après le merge.\n",
    "\n",
    "**à noter** : dans ce cas de figure on pourrait revenir à la situation avant le merge en faisant `git merge --abort`"
   ]
  },
  {
   "cell_type": "markdown",
   "metadata": {
    "slideshow": {
     "slide_type": "slide"
    }
   },
   "source": [
    "## ex. 2 : situation après le merge"
   ]
  },
  {
   "cell_type": "markdown",
   "metadata": {},
   "source": [
    "en cas de conflit :\n",
    "\n",
    "* les conflits sont annotés dans le fichier concerné  \n",
    "  les deux versions sont présentes  \n",
    "  avec des marqueurs qui indiquent la provenance  \n",
    "  (exemple slide suivant)\n",
    "\n",
    "* les changements mergés avec succès  \n",
    "  sont ajoutés à l'index"
   ]
  },
  {
   "cell_type": "code",
   "execution_count": null,
   "metadata": {
    "cell_style": "split",
    "slideshow": {
     "slide_type": "slide"
    }
   },
   "outputs": [],
   "source": [
    "# les changements non\n",
    "# conflictuels sont dans\n",
    "# l'index\n",
    "# les conflits se voient\n",
    "# dans les fichiers \n",
    "# concernés\n",
    "\n",
    "git status"
   ]
  },
  {
   "cell_type": "code",
   "execution_count": null,
   "metadata": {
    "cell_style": "split"
   },
   "outputs": [],
   "source": [
    "# voici comment est\n",
    "# annotée la zone \n",
    "# avec conflit\n",
    "\n",
    "cat factorial.md"
   ]
  },
  {
   "cell_type": "markdown",
   "metadata": {
    "slideshow": {
     "slide_type": "notes"
    }
   },
   "source": [
    "Après le merge, les actions du merge qui ont **bien fonctionné** ont été mis **dans l'index**, alors que ce qui est problématique reste dans les changements non indexés."
   ]
  },
  {
   "cell_type": "markdown",
   "metadata": {
    "slideshow": {
     "slide_type": "slide"
    }
   },
   "source": [
    "## ex. 2 : résoudre le conflit"
   ]
  },
  {
   "cell_type": "markdown",
   "metadata": {
    "cell_style": "center"
   },
   "source": [
    "* modifier à la main le⋅s fichier⋅s concerné⋅s\n",
    "* ajouter ce changement à l'index\n",
    "* on peut alors committer"
   ]
  },
  {
   "cell_type": "markdown",
   "metadata": {
    "slideshow": {
     "slide_type": "slide"
    }
   },
   "source": [
    "## ex. 2 : résoudre le conflit (2)"
   ]
  },
  {
   "cell_type": "code",
   "execution_count": null,
   "metadata": {
    "cell_style": "split"
   },
   "outputs": [],
   "source": [
    "# je simule une modification sous éditeur\n",
    "$SCRIPTS/do resolve-conflict\n",
    "\n",
    "cat factorial.md"
   ]
  },
  {
   "cell_type": "code",
   "execution_count": null,
   "metadata": {
    "cell_style": "split"
   },
   "outputs": [],
   "source": [
    "# maintenant on peut mettre \n",
    "# la résolution du conflit dans l'index\n",
    "git add factorial.md"
   ]
  },
  {
   "cell_type": "code",
   "execution_count": null,
   "metadata": {},
   "outputs": [],
   "source": [
    "# et à présent on peut committer\n",
    "git commit -m 'conflit résolu'"
   ]
  },
  {
   "cell_type": "code",
   "execution_count": null,
   "metadata": {},
   "outputs": [],
   "source": [
    "git l --all -3"
   ]
  },
  {
   "cell_type": "markdown",
   "metadata": {
    "slideshow": {
     "slide_type": "notes"
    }
   },
   "source": [
    "*Rappel :* on utilise ici `git commit -m` pour préciser sur la ligne de commande le message associé à ce commit de merge. On y est contraint car le cours tourne dans un notebook. Sans cette option, `git commit` lance un éditeur de texte dans le terminal pour la saisie du message."
   ]
  },
  {
   "cell_type": "markdown",
   "metadata": {
    "cell_style": "center",
    "slideshow": {
     "slide_type": "slide"
    }
   },
   "source": [
    "## exercice 1"
   ]
  },
  {
   "cell_type": "markdown",
   "metadata": {},
   "source": [
    "je vous invite à vous amuser à faire les diffs dans tous les sens :\n",
    "\n",
    "* calculer le sha-1 du dernier point de fourche (\"*mon premier merge*\")\n",
    "* diff avec HEAD (a.k.a. master)\n",
    "* diff avec devel\n",
    "* diff entre master et devel"
   ]
  },
  {
   "cell_type": "code",
   "execution_count": null,
   "metadata": {
    "slideshow": {
     "slide_type": "slide"
    }
   },
   "outputs": [],
   "source": [
    "git diff devel master\n"
   ]
  },
  {
   "cell_type": "markdown",
   "metadata": {
    "slideshow": {
     "slide_type": "slide"
    }
   },
   "source": [
    "## exercice 2"
   ]
  },
  {
   "cell_type": "markdown",
   "metadata": {},
   "source": [
    "s'entraîner à faire des merge \n",
    "\n",
    "1. avec des configurations *claires*, \n",
    "   c'est-à-dire où clairement les deux changements sont indépendants les uns des autres\n",
    "   \n",
    "1. on a vu un conflit quand les deux branches **modifient** la même ligne  \n",
    "   que se passe-t-il si les deux branches **insèrent** du code au même endroit dans un fichier"
   ]
  },
  {
   "cell_type": "markdown",
   "metadata": {
    "slideshow": {
     "slide_type": "slide"
    }
   },
   "source": [
    "## résumé\n",
    "\n",
    "* lorsque deux commits sont comparables\n",
    "  * c'est-à-dire qu'il existe un chemin uniquement descendant de l'un à l'autre\n",
    "  * alors un merge **ne produit pas de commit**\n",
    "  * mais peut provoquer un \"rattrapage\" d'une branche par une autre\n",
    "\n",
    "* dans le cas contraire\n",
    "  * un merge **crée un commit** de fusion\n",
    "  * sauf lorsqu'il y a conflit\n",
    "  * dans ce cas c'est à vous de résoudre ces conflits à la main\n",
    "  * et de terminer le travail en créant le commit  "
   ]
  },
  {
   "cell_type": "markdown",
   "metadata": {
    "slideshow": {
     "slide_type": "slide"
    }
   },
   "source": [
    "## état\n",
    "\n",
    "comme d'habitude nous observons notre répo à ce stade"
   ]
  },
  {
   "cell_type": "code",
   "execution_count": null,
   "metadata": {},
   "outputs": [],
   "source": [
    "git l --all"
   ]
  }
 ],
 "metadata": {
  "celltoolbar": "Slideshow",
  "ipub": {
   "sphinx": {
    "toggle_input": true,
    "toggle_input_all": true,
    "toggle_output": true,
    "toggle_output_all": true
   }
  },
  "kernelspec": {
   "display_name": "Calysto Bash",
   "language": "bash",
   "name": "calysto_bash"
  },
  "language_info": {
   "file_extension": ".sh",
   "help_links": [
    {
     "text": "MetaKernel Magics",
     "url": "https://metakernel.readthedocs.io/en/latest/source/README.html"
    }
   ],
   "mimetype": "text/x-sh",
   "name": "bash",
   "version": "0.2.1"
  },
  "notebookname": "ordre partiel, fast-forward",
  "rise": {
   "autolaunch": true,
   "slideNumber": "c/t",
   "start_slideshow_at": "selected",
   "theme": "sky",
   "transition": "cube"
  },
  "version": "1.0"
 },
 "nbformat": 4,
 "nbformat_minor": 2
}

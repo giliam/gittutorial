{
 "cells": [
  {
   "cell_type": "markdown",
   "metadata": {
    "slideshow": {
     "slide_type": "slide"
    }
   },
   "source": [
    "<div class=\"licence\">\n",
    "<span>Licence CC BY-NC-ND</span>\n",
    "<span>Thierry Parmentelat</span>\n",
    "<span><img src=\"media/inria-25-alpha.png\" /></span>\n",
    "</div>"
   ]
  },
  {
   "cell_type": "markdown",
   "metadata": {
    "slideshow": {
     "slide_type": ""
    }
   },
   "source": [
    "# des notebooks pour `bash`"
   ]
  },
  {
   "cell_type": "markdown",
   "metadata": {
    "slideshow": {
     "slide_type": "slide"
    }
   },
   "source": [
    "le cours est à base de notebooks Jupyter :\n",
    "\n",
    "* mais attention le langage utilisé est 'bash' \n",
    "* et non pas Python comme ce sera le cas le plus souvent pour les autres cours"
   ]
  },
  {
   "cell_type": "markdown",
   "metadata": {
    "slideshow": {
     "slide_type": "notes"
    }
   },
   "source": [
    "On utilisera le plus souvent dans les cours des notebooks en Python. Toutefois dans le contexte du cours sur `git` ce n'est pas le meilleur choix, car les commandes `git` sont destinées au terminal, d'où le choix d'un notebook en `bash`.\n",
    "\n",
    "Pour des raisons techniques malheureusement, ce cours ne fonctionne pas sur un ordinateur Windows, car l'outil `bash` n'y est pas supporté. Le cours est [disponible après authentification sur nbhosting](https://nbhosting.inria.fr/auditor/notebook/), prêt à l'emploi et sans installation locale sur votre ordinateur.\n",
    "\n",
    "Pour ceux qui voudraient faire tourner ces notebooks sur leur ordi, il vous faut installer quelques dépendances, et notamment le kernel bash pour Jupyter. Le plus simple consiste à exécuter, à la racine du cours, la commande\n",
    "\n",
    "`pip install -r requirements.txt` "
   ]
  },
  {
   "cell_type": "code",
   "execution_count": null,
   "metadata": {
    "raises-exception": true,
    "tags": [
     "raises-exception"
    ]
   },
   "outputs": [],
   "source": [
    "# ceci ne va pas marcher\n",
    "print(\"je ne parle pas le Python\") "
   ]
  },
  {
   "cell_type": "code",
   "execution_count": null,
   "metadata": {},
   "outputs": [],
   "source": [
    "# à la place il faut faire\n",
    "echo \"je ne parle pas le Python, je parle le bash\""
   ]
  },
  {
   "cell_type": "markdown",
   "metadata": {
    "slideshow": {
     "slide_type": "slide"
    }
   },
   "source": [
    "## le point de départ"
   ]
  },
  {
   "cell_type": "markdown",
   "metadata": {},
   "source": [
    "en bash, il y a la notion de 'répertoire courant' (en fait tous les processus ont un répertoire courant)."
   ]
  },
  {
   "cell_type": "code",
   "execution_count": null,
   "metadata": {},
   "outputs": [],
   "source": [
    "pwd"
   ]
  },
  {
   "cell_type": "markdown",
   "metadata": {},
   "source": [
    "dans tous les notebooks qui suivent, on va avoir envie de faire des choses **répétables**; c'est-à-dire de pouvoir faire et refaire *cell* -> *run all* (ça rejoint la notion mathématique d'idempotence).\n",
    "\n",
    "pour ça, il faut qu'on puisse se mettre dans un état connu au début de chaque notebook; et entre autres choses, le répertoire de travail est important."
   ]
  },
  {
   "cell_type": "markdown",
   "metadata": {
    "slideshow": {
     "slide_type": "slide"
    }
   },
   "source": [
    "## prélude standard"
   ]
  },
  {
   "cell_type": "markdown",
   "metadata": {},
   "source": [
    "pour être sûr, dans chaque notebook, de bien partir à chaque fois du même endroit, nous aurons recours à l'astuce suivante :"
   ]
  },
  {
   "cell_type": "code",
   "execution_count": null,
   "metadata": {},
   "outputs": [],
   "source": [
    "# ce sera toujours notre façon de commencer\n",
    "[ -f scripts/helpers.sh ] && source scripts/helpers.sh"
   ]
  },
  {
   "cell_type": "markdown",
   "metadata": {
    "slideshow": {
     "slide_type": "slide"
    }
   },
   "source": [
    "## configuration"
   ]
  },
  {
   "cell_type": "markdown",
   "metadata": {},
   "source": [
    "après l'avoir installé, il faut  configurer `git` a minima  \n",
    "(sachant que chaque commit contient l'auteur):"
   ]
  },
  {
   "cell_type": "code",
   "execution_count": null,
   "metadata": {},
   "outputs": [],
   "source": [
    "# ces deux réglages pour git sont nécessaires\n",
    "# \n",
    "# ça se lit comme ceci: si user.name est indéfini, \n",
    "# alors on lui donne la chaine \"Jeanne Durand\"\n",
    "\n",
    "git config user.name  || git config --global user.name \"Jeanne Durand\"\n",
    "git config user.email || git config --global user.email \"jeanne.durand@foo.org\""
   ]
  },
  {
   "cell_type": "code",
   "execution_count": null,
   "metadata": {},
   "outputs": [],
   "source": [
    "# vérifions le réglage en vigueur\n",
    "git config user.name\n",
    "git config user.email"
   ]
  },
  {
   "cell_type": "markdown",
   "metadata": {
    "slideshow": {
     "slide_type": "notes"
    }
   },
   "source": [
    "Au moment où on crée un commit, on a besoin d'enregistrer l'identité de la personne qui crée le commit. Si cette configuration n'est pas faite, git va refuser de créer des commits. "
   ]
  }
 ],
 "metadata": {
  "celltoolbar": "Slideshow",
  "ipub": {
   "sphinx": {
    "toggle_input": true,
    "toggle_input_all": true,
    "toggle_output": true,
    "toggle_output_all": true
   }
  },
  "kernelspec": {
   "display_name": "Calysto Bash",
   "language": "bash",
   "name": "calysto_bash"
  },
  "language_info": {
   "file_extension": ".sh",
   "help_links": [
    {
     "text": "MetaKernel Magics",
     "url": "https://metakernel.readthedocs.io/en/latest/source/README.html"
    }
   ],
   "mimetype": "text/x-sh",
   "name": "bash",
   "version": "0.2.1"
  },
  "notebookname": "notebooks bash",
  "rise": {
   "autolaunch": true,
   "slideNumber": "c/t",
   "start_slideshow_at": "selected",
   "theme": "sky",
   "transition": "cube"
  },
  "version": "1.0"
 },
 "nbformat": 4,
 "nbformat_minor": 2
}

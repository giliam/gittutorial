{
 "cells": [
  {
   "cell_type": "markdown",
   "metadata": {
    "slideshow": {
     "slide_type": "slide"
    }
   },
   "source": [
    "<div class=\"licence\">\n",
    "<span>Licence CC BY-NC-ND</span>\n",
    "<span>Thierry Parmentelat</span>\n",
    "<span><img src=\"media/inria-25-alpha.png\" /></span>\n",
    "</div>"
   ]
  },
  {
   "cell_type": "markdown",
   "metadata": {
    "slideshow": {
     "slide_type": ""
    }
   },
   "source": [
    "# architecture de git"
   ]
  },
  {
   "cell_type": "markdown",
   "metadata": {
    "slideshow": {
     "slide_type": "slide"
    }
   },
   "source": [
    "## quand utiliser git ?"
   ]
  },
  {
   "cell_type": "markdown",
   "metadata": {},
   "source": [
    "* on peut utiliser git **en local**, même si on **travaille seul**\n",
    "* on peut ensuite **passer à l'échelle** si/comme nécessaire\n",
    "* bref, ça devient un réflexe"
   ]
  },
  {
   "cell_type": "markdown",
   "metadata": {
    "slideshow": {
     "slide_type": "notes"
    }
   },
   "source": [
    "Il n'est pas nécessaire d'utiliser `github` ou une autre infrastructure pour commencer avec `git`. Au contraire il semble préférable de commencer à utiliser *git* localement pour bien se familiariser avec les concepts centraux que sont **le commit**, **l'index**, **la branche**, **le remote**, et bien maitriser les différences pendantes. Il est très facile, à partir d'un dépôt local, de s'étendre à `github` ou autre.\n",
    "\n",
    "De la même façon il n'est pas nécessaire d'attendre de réaliser un projet en équipe pour bénéficier des avantages que procure un système comme *git*."
   ]
  },
  {
   "cell_type": "markdown",
   "metadata": {
    "slideshow": {
     "slide_type": "slide"
    }
   },
   "source": [
    "## en pratique : pour soi"
   ]
  },
  {
   "cell_type": "markdown",
   "metadata": {
    "slideshow": {
     "slide_type": ""
    }
   },
   "source": [
    "**même si vous travaillez seul**\n",
    "\n",
    "* il est possible - et recommandé - d'utiliser `git`  \n",
    "  sur un dépôt uniquement local (même sans github/gitlab)\n",
    "\n",
    "* travailler sur plusieurs choses en parallèle\n",
    "* identifier les versions qui fonctionnent\n",
    "  * trouver plus facilement les régressions\n",
    "  * en fait les tests **devraient faire partie** du code"
   ]
  },
  {
   "cell_type": "markdown",
   "metadata": {
    "slideshow": {
     "slide_type": "notes"
    }
   },
   "source": [
    "Un premier usage consiste à travailler le plus possible sur de petits problèmes indépendants, chacun sur sa branche, ce qui rend le travail plus simple, sachant que la fusion des branches est prise en charge par `git`.\n",
    "\n",
    "Un autre usage consiste à embarquer la suite de tests avec le code; de cette manière on peut automatiquement déclencher les tests sur chaque nouveau commit."
   ]
  },
  {
   "cell_type": "markdown",
   "metadata": {
    "slideshow": {
     "slide_type": "slide"
    }
   },
   "source": [
    "## en pratique : en équipe"
   ]
  },
  {
   "cell_type": "markdown",
   "metadata": {
    "slideshow": {
     "slide_type": ""
    }
   },
   "source": [
    "* via un dépôt distant (e.g. github)\n",
    "* chacun peut modifier tout le code\n",
    "  * `git` se charge de l'intégration des modifications\n",
    "* permettre un travail très fluide en petite équipe\n",
    "* et permet aussi de travailler en Open Source  \n",
    "  où on ne connaît pas forcément les uns les autres *a priori*"
   ]
  },
  {
   "cell_type": "markdown",
   "metadata": {
    "slideshow": {
     "slide_type": "notes"
    }
   },
   "source": [
    "En exposant un dépôt sur une infrastructure accessible par tous, on crée un point d'échange qui permet le travail en groupe. \n",
    "\n",
    "On verra que l'architecture de `git` est extrêment flexible, et permet de faire face à tous les cas de figure."
   ]
  },
  {
   "cell_type": "markdown",
   "metadata": {
    "slideshow": {
     "slide_type": "slide"
    }
   },
   "source": [
    "## architecture centralisée ou pas"
   ]
  },
  {
   "cell_type": "markdown",
   "metadata": {},
   "source": [
    "le précédent système - baptisé `subversion` -  \n",
    "était basé sur une architecture *centralisée*\n",
    "\n",
    "  * nécessaire de déployer un **noeud central**\n",
    "  * qui se charge de consolider tous les développements\n",
    "  * et qui donc est une *référence*\n",
    "  * mais cela induit beaucoup de lourdeur "
   ]
  },
  {
   "cell_type": "markdown",
   "metadata": {
    "cell_style": "center",
    "slideshow": {
     "slide_type": "fragment"
    }
   },
   "source": [
    "**architecture centralisée** : forcément en étoile\n",
    "\n",
    "<center><img src=\"media/archi-star.png\"></center>"
   ]
  },
  {
   "cell_type": "markdown",
   "metadata": {
    "slideshow": {
     "slide_type": "slide"
    }
   },
   "source": [
    "## `git` permet des architectures décentralisées\n",
    "\n",
    "* `git` a pris le contrepied total de cette approche\n",
    "  * on peut commencer dans son coin\n",
    "  * et créer ensuite des liens de *peering* entre deux dépôts \n",
    "  * de façon à implémenter des workflows aussi simples ou complexes que nécessaire"
   ]
  },
  {
   "cell_type": "markdown",
   "metadata": {
    "cell_style": "split",
    "slideshow": {
     "slide_type": "slide"
    }
   },
   "source": [
    "**un réflexe : git en local**\n",
    "\n",
    "![](media/archi-gh-1.png)"
   ]
  },
  {
   "cell_type": "markdown",
   "metadata": {
    "cell_style": "center",
    "slideshow": {
     "slide_type": "notes"
    }
   },
   "source": [
    "Ceci correspond naturellement à une personne utilisant git en local sur son ordinateur."
   ]
  },
  {
   "cell_type": "markdown",
   "metadata": {
    "cell_style": "split",
    "slideshow": {
     "slide_type": "fragment"
    }
   },
   "source": [
    "**juste publier**\n",
    "\n",
    "![](media/archi-gh-2.png)"
   ]
  },
  {
   "cell_type": "markdown",
   "metadata": {
    "slideshow": {
     "slide_type": "notes"
    }
   },
   "source": [
    "Ici notre auteur a publié son dépôt sur github; la coulaur gris clair indique que sur github, il s'agit d'un *bare* dépôt, un dépôt 'nu', on en reparlera bien sûr."
   ]
  },
  {
   "cell_type": "markdown",
   "metadata": {
    "cell_style": "split",
    "slideshow": {
     "slide_type": "fragment"
    }
   },
   "source": [
    "**une petite équipe (on se connait)**\n",
    "\n",
    "![](media/archi-gh-3.png)"
   ]
  },
  {
   "cell_type": "markdown",
   "metadata": {
    "slideshow": {
     "slide_type": "notes"
    }
   },
   "source": [
    "Maintenant que le premier auteur a publié sur github, un de ses amis peut accéder a ce dépôt, et du coup se créer un troisième dépôt sur son ordinateur; les échanges entre les deux personnes se font tous au travers de github."
   ]
  },
  {
   "cell_type": "markdown",
   "metadata": {
    "cell_style": "split",
    "slideshow": {
     "slide_type": "fragment"
    }
   },
   "source": [
    "**Open Source**\n",
    "\n",
    "![](media/archi-gh-4.png)"
   ]
  },
  {
   "cell_type": "markdown",
   "metadata": {
    "slideshow": {
     "slide_type": "notes"
    }
   },
   "source": [
    "Dans le cas ou le contributeur est inconnu de l'auteur, le contributeur n'a **pas les droits d'accès en écriture** dans le dépôt `github`; pour pouvoir malgré tout proposer des améliorations à l'auteur, le contributeur se crée un *fork* où il aura cette fois le droit d'écrire; le fork est simplement un quatrième dépôt, toujours sur github, dans lequel le contributeur a les droits d'écrire, il peut ainsi exposer ses propositions. On reparlera de ce cas d'usage vers la fin du cours."
   ]
  },
  {
   "cell_type": "markdown",
   "metadata": {
    "cell_style": "center",
    "slideshow": {
     "slide_type": "slide"
    }
   },
   "source": [
    "**codéveloppement**\n",
    "\n",
    "![](media/archi-codev.png)"
   ]
  },
  {
   "cell_type": "markdown",
   "metadata": {
    "slideshow": {
     "slide_type": "notes"
    }
   },
   "source": [
    "Dans cette configuration, totalement différente, on a illustré le cas de deux équipes, une aux USA et une en France, qui collaborent sur le même sujet mais veulent préserver leur indépendance, ou en tous cas intégrer - ou pas - les idées de l'uutre équipe, mais chacun à son rythme. Pour un tel scénario, on peut imaginer une architecture avec de chaque coté un dépôt d'intégration, et un lien entre ces deux dépôts pour permettre d'aller - plus ou moins automatiquement selon les besoins - adopter les nouveautés de l'autre équipe."
   ]
  },
  {
   "cell_type": "markdown",
   "metadata": {
    "slideshow": {
     "slide_type": "slide"
    }
   },
   "source": [
    "## espace de travail / index / dépôt"
   ]
  },
  {
   "cell_type": "markdown",
   "metadata": {},
   "source": [
    "lorsque vous créez un dépôt git **localement** sur votre ordi, vous disposez de trois éléments :\n",
    "\n",
    "* un espace de travail: répertoires et fichiers\n",
    "* un index: changements en préparation pour le prochain commit\n",
    "* repository: ensemble de commits"
   ]
  },
  {
   "cell_type": "markdown",
   "metadata": {},
   "source": [
    "![](media/repo-contents-1-three-parts.png)"
   ]
  },
  {
   "cell_type": "markdown",
   "metadata": {
    "slideshow": {
     "slide_type": "notes"
    }
   },
   "source": [
    "Pour faire le lien avec les figures précédentes : ces trois boites constituent les morceaux de chacun des dépots gris foncé comme `john` ou `auteur`; la boite gris clair à droite est de même nature que par exemple les boites `github` et `fork`."
   ]
  },
  {
   "cell_type": "markdown",
   "metadata": {
    "slideshow": {
     "slide_type": "slide"
    }
   },
   "source": [
    "## dépôt 'nu' *vs* dépôt de travail"
   ]
  },
  {
   "cell_type": "markdown",
   "metadata": {
    "cell_style": "center"
   },
   "source": [
    "* un dépôt 'usuel' contient donc trois parties\n",
    "  * espace de travail\n",
    "  * index\n",
    "  * dépôt à proprement parler\n",
    "* un dépôt 'hébergé' \n",
    "  * par ex. sur *github.com*\n",
    "  * est dit nu (*bare dépôt*)"
   ]
  },
  {
   "cell_type": "markdown",
   "metadata": {
    "slideshow": {
     "slide_type": "notes"
    }
   },
   "source": [
    "Un dépôt 'usuel' correspond au fait qu'un humain travaille sur le contenu des fichiers. On n'a besoin des parties 'espace de travail' et 'index' que pour travailler à de nouvelles modifications, et expérimenter avant de valider dans un commit. \n",
    "\n",
    "Par contre dans un dépôt distant comme par exemple sur github, seuls les commits sont importants, et on n'a pas besoin de l'index car on ne crée pas les commits par expérimentation; du coup on peut faire l'économie des composants bleu et vert, qui n'apportent que des inconvénients, et c'est pourquoi on a introduit la notion de dépôt nu."
   ]
  },
  {
   "cell_type": "markdown",
   "metadata": {
    "slideshow": {
     "slide_type": "slide"
    }
   },
   "source": [
    "## zoom sur les dépôts"
   ]
  },
  {
   "cell_type": "markdown",
   "metadata": {
    "cell_style": "split"
   },
   "source": [
    "* ainsi dans ce cas d'usage fréquent\n",
    "  * avec un auteur\n",
    "  * qui publie sur github\n",
    "* si on zoome on observe ceci"
   ]
  },
  {
   "cell_type": "markdown",
   "metadata": {
    "cell_style": "split",
    "slideshow": {
     "slide_type": ""
    }
   },
   "source": [
    "![](media/repo-contents-2-repo-sync-to-repo.png)"
   ]
  },
  {
   "cell_type": "markdown",
   "metadata": {
    "slideshow": {
     "slide_type": "slide"
    }
   },
   "source": [
    "## deux familles de commandes"
   ]
  },
  {
   "cell_type": "markdown",
   "metadata": {
    "cell_style": "split"
   },
   "source": [
    "**commandes *locales***\n",
    "\n",
    "* ne se préoccupent pas d'un éventuel dépôt distant\n",
    "\n",
    "* créer des commits\n",
    "  * `init`\n",
    "  * `log`\n",
    "  * `add`\n",
    "  * `commit`\n",
    "\n",
    "* gérer les branches\n",
    "  * `checkout`\n",
    "  * `merge`\n",
    "  * `branch`"
   ]
  },
  {
   "cell_type": "markdown",
   "metadata": {
    "cell_style": "split"
   },
   "source": [
    "**commandes *distantes***\n",
    "\n",
    "* pour se synchroniser avec un autre dépôt \n",
    "\n",
    "* inspecter\n",
    "  * `fetch`\n",
    "  * `remote`\n",
    "  \n",
    "* synchroniser\n",
    "  * `clone`\n",
    "  * `pull`\n",
    "  * `push`"
   ]
  },
  {
   "cell_type": "markdown",
   "metadata": {
    "slideshow": {
     "slide_type": "slide"
    }
   },
   "source": [
    "## plusieurs étages"
   ]
  },
  {
   "cell_type": "markdown",
   "metadata": {},
   "source": [
    "enfin, il faut bien distinguer  \n",
    "\n",
    "* le socle technologique `git` pur, open-source, utilisable :\n",
    "  * en local sur un seul ordi\n",
    "  * ou en réseau au dessus de n'importe quelle infra (petite ou grosse, publique ou privée)\n",
    "\n",
    "* et les plateformes publiques : \n",
    "<htps://github.com>,\n",
    "<https://gitlab.com>,\n",
    "<https://bitbucket.org> \n",
    "\n",
    "  * qui sont construites **au-dessus** de la couche `git`  \n",
    "    par ex. synchroniser un contenu local avec github\n",
    "\n",
    "  * et offrents des services **additionels**  \n",
    "    par ex. 'pull requests` "
   ]
  },
  {
   "cell_type": "markdown",
   "metadata": {
    "slideshow": {
     "slide_type": "slide"
    }
   },
   "source": [
    "![](media/archi-plain-git-vs-extras.png)"
   ]
  },
  {
   "cell_type": "markdown",
   "metadata": {
    "slideshow": {
     "slide_type": "notes"
    }
   },
   "source": [
    "Une plateforme comme `github` offre à chaque projet deux types de services. \n",
    "Sous le capot, elle utilise naturellement le système `git` de manière totalement native.\n",
    "En supplément, elle offre des traits supplémentaires, dans une dimension que nous qualifions de *sociale*.\n",
    "\n",
    "Les deux étages sont très largement indépendants; en allant sur github et en n'utilisant pas les traits additionnels, on reste libre de partir ensuite sur gitlab; même si ça ne présente pas un grand intérêt, pour bien comprendre, on peut même avoir le même dépôt présent à la fois sur github et gitlab."
   ]
  },
  {
   "cell_type": "markdown",
   "metadata": {
    "slideshow": {
     "slide_type": "slide"
    }
   },
   "source": [
    "## plan du cours\n",
    "\n",
    "* session 1\n",
    "  * primer   \n",
    "    présenter le modèle mental dépôt / espace de travail / index  \n",
    "    bien utiliser git en local, commit / branches\n",
    "\n",
    "* session 2\n",
    "  * synchros  \n",
    "    mettre à jour deux dépôts l'un par rapport à l'autre\n",
    "    un mot sur les plateformes : fork, pull request, …\n",
    "\n",
    "  * avancé   \n",
    "    gérer les modifications pendantes, récrire l'histoire, …"
   ]
  },
  {
   "cell_type": "markdown",
   "metadata": {
    "slideshow": {
     "slide_type": "notes"
    }
   },
   "source": [
    "Nous allons principalement étudier la couche 'pure git', car c'est ce qui est le plus délicat à bien maitriser; en fin de cours nous verrons rapidement les traits additionnels proposés par github."
   ]
  },
  {
   "cell_type": "markdown",
   "metadata": {
    "slideshow": {
     "slide_type": "slide"
    }
   },
   "source": [
    "## pour en savoir plus\n",
    "\n",
    "* livre \"Pro Git\" par Scott Chacon et Ben Straub\n",
    "  * https://git-scm.com/book/en/v2\n",
    "  * aussi en français https://git-scm.com/book/fr/v2"
   ]
  }
 ],
 "metadata": {
  "celltoolbar": "Slideshow",
  "ipub": {
   "sphinx": {
    "toggle_input": false,
    "toggle_input_all": false,
    "toggle_output": false,
    "toggle_output_all": false
   }
  },
  "kernelspec": {
   "display_name": "Calysto Bash",
   "language": "bash",
   "name": "calysto_bash"
  },
  "language_info": {
   "file_extension": ".sh",
   "help_links": [
    {
     "text": "MetaKernel Magics",
     "url": "https://metakernel.readthedocs.io/en/latest/source/README.html"
    }
   ],
   "mimetype": "text/x-sh",
   "name": "bash",
   "version": "0.2.1"
  },
  "notebookname": "intro - architecture",
  "rise": {
   "autolaunch": true,
   "slideNumber": "c/t",
   "start_slideshow_at": "selected",
   "theme": "sky",
   "transition": "cube"
  },
  "version": "1.0"
 },
 "nbformat": 4,
 "nbformat_minor": 4
}

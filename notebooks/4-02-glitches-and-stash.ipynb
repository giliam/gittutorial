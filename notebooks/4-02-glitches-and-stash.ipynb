{
 "cells": [
  {
   "cell_type": "markdown",
   "metadata": {},
   "source": [
    "<div class=\"licence\">\n",
    "<span>Licence CC BY-NC-ND</span>\n",
    "<span><img src=\"../media/ensmp-25-alpha.png\" /><img src=\"../media/inria-25-alpha.png\" /></span>\n",    "</div>"
   ]
  },
  {
   "cell_type": "markdown",
   "metadata": {},
   "source": [
    "# quand ça coince"
   ]
  },
  {
   "cell_type": "code",
   "execution_count": null,
   "metadata": {},
   "outputs": [],
   "source": [
    "# ce sera toujours notre façon de commencer\n",
    "[ -f scripts/helpers.sh ] && source scripts/helpers.sh"
   ]
  },
  {
   "cell_type": "markdown",
   "metadata": {
    "slideshow": {
     "slide_type": "slide"
    }
   },
   "source": [
    "## git est conservatoire"
   ]
  },
  {
   "cell_type": "markdown",
   "metadata": {},
   "source": [
    "* plusieurs situations où git va refuser de travailler  \n",
    "* de bon sens, à chaque fois qu'il y a un risque de perdre des données  \n",
    "* le plus souvent relatif à des changements  \n",
    "  qui ne sont **pas encore dans un commit**  \n",
    "\n",
    "* voyons quelques cas typiques (liste non exhaustive)"
   ]
  },
  {
   "cell_type": "markdown",
   "metadata": {
    "slideshow": {
     "slide_type": "slide"
    }
   },
   "source": [
    "## git pull avec modifications pendantes"
   ]
  },
  {
   "cell_type": "markdown",
   "metadata": {},
   "source": [
    "**le cas le plus fréquent :**  \n",
    "\n",
    "* vous avez un changement pendant (dans l'index ou pas)  \n",
    "  dans le fichier `bidule`\n",
    "  \n",
    "* vous faites `git pull` pour vous mettre à jour  \n",
    "  par rapport à *upstream* \n",
    "  \n",
    "* sauf que ce pull **induit aussi** \n",
    "  un changement dans `bidule` \n",
    "  \n",
    "dans ce cas d'usage assez fréquent, `git pull` **échoue**\n"
   ]
  },
  {
   "cell_type": "markdown",
   "metadata": {
    "slideshow": {
     "slide_type": "slide"
    }
   },
   "source": [
    "récap  \n",
    "\n",
    "* changement pendant dans le fichier `bidule`\n",
    "* tentative de `git pull`\n",
    "* induit un changement dans `bidule`\n",
    "\n",
    "il faut donc faire, en ce qui concerne `bidule`  \n",
    "un *merge* entre  \n",
    "\n",
    "* le fichier local **qui n'est dans aucun commit**\n",
    "* le commit qui vient d'upstream\n",
    "\n",
    "si cela devait aboutir à un conflit,  \n",
    "on **ne pourrait pas revenir en arrière** "
   ]
  },
  {
   "cell_type": "markdown",
   "metadata": {
    "slideshow": {
     "slide_type": "slide"
    }
   },
   "source": [
    "## mise en place"
   ]
  },
  {
   "cell_type": "code",
   "execution_count": null,
   "metadata": {},
   "outputs": [],
   "source": [
    "# si nécessaire, vous pouvez remettre le repository en l'état\n",
    "# \n",
    "# pour cela mettez \"true\" au lieu de \"\"\n",
    "# et bien sûr évaluer la cellule\n",
    "\n",
    "reset=\"\"\n",
    "\n",
    "if [ -n \"$reset\" ]; then \n",
    "    cd $TOP\n",
    "    bash $SCRIPTS/3-01-my-first-remote.sh\n",
    "fi >& /dev/null"
   ]
  },
  {
   "cell_type": "code",
   "execution_count": null,
   "metadata": {},
   "outputs": [],
   "source": [
    "# si nécessaire, on se place dans le dépôt git\n",
    "[ -d repo-alice ] && cd repo-alice\n",
    "\n",
    "pwd"
   ]
  },
  {
   "cell_type": "markdown",
   "metadata": {
    "slideshow": {
     "slide_type": "slide"
    }
   },
   "source": [
    "## vérifions"
   ]
  },
  {
   "cell_type": "code",
   "execution_count": null,
   "metadata": {
    "cell_style": "split"
   },
   "outputs": [],
   "source": [
    "# nous sommes dans 'repo-alice' qui a 4 commits\n",
    "\n",
    "git l"
   ]
  },
  {
   "cell_type": "code",
   "execution_count": null,
   "metadata": {
    "cell_style": "split"
   },
   "outputs": [],
   "source": [
    "# et pour être sûr on vérifie aussi \n",
    "# qu'il n'y a pas de différence entre\n",
    "# le commit et les fichiers\n",
    "# on doit voir 'working tree clean'\n",
    "\n",
    "git status"
   ]
  },
  {
   "cell_type": "markdown",
   "metadata": {
    "slideshow": {
     "slide_type": "slide"
    }
   },
   "source": [
    "## illustration"
   ]
  },
  {
   "cell_type": "markdown",
   "metadata": {},
   "source": [
    "**scénario**\n",
    "\n",
    "* je clone `repo-alice` dans `repo-upstream`\n",
    "* dans le repo *upstream*, je **crée un commit** qui change **le début** de `factorial.py`\n",
    "* dans `repo-alice` je change cette fois **la fin** de `factorial.py`  \n",
    "  mais **sans faire de commit**\n",
    "\n",
    "* toujours dans `repo-alice`, j'**essaie de tirer** le repo *upstream* \n",
    "\n",
    "\n",
    "j'observe que `git pull` refuse de travailler  \n"
   ]
  },
  {
   "cell_type": "markdown",
   "metadata": {
    "slideshow": {
     "slide_type": ""
    }
   },
   "source": [
    "### on crée un repo *upstream* "
   ]
  },
  {
   "cell_type": "code",
   "execution_count": null,
   "metadata": {
    "cell_style": "split"
   },
   "outputs": [],
   "source": [
    "# je crée le clone\n",
    "\n",
    "cd $TOP\n",
    "rm -rf repo-upstream\n",
    "git clone repo-alice repo-upstream\n",
    "cd repo-upstream\n",
    "git l"
   ]
  },
  {
   "cell_type": "code",
   "execution_count": null,
   "metadata": {
    "cell_style": "split"
   },
   "outputs": [],
   "source": [
    "# je change le début du fichier python\n",
    "\n",
    "\n",
    "$SCRIPTS/do change-factorial-py-beginning\n",
    "\n",
    "git diff"
   ]
  },
  {
   "cell_type": "code",
   "execution_count": null,
   "metadata": {},
   "outputs": [],
   "source": [
    "# je crée le commit correspondant\n",
    "\n",
    "git add factorial.py\n",
    "git commit -m \"modif début de factorial.py depuis upstream\""
   ]
  },
  {
   "cell_type": "markdown",
   "metadata": {
    "slideshow": {
     "slide_type": "slide"
    }
   },
   "source": [
    "### une modification pendante dans `repo-alice`"
   ]
  },
  {
   "cell_type": "code",
   "execution_count": null,
   "metadata": {},
   "outputs": [],
   "source": [
    "cd $TOP/repo-alice\n",
    "$SCRIPTS/do change-factorial-py-end\n",
    "git diff"
   ]
  },
  {
   "cell_type": "markdown",
   "metadata": {
    "slideshow": {
     "slide_type": "slide"
    }
   },
   "source": [
    "### on ne peut pas tirer !"
   ]
  },
  {
   "cell_type": "code",
   "execution_count": null,
   "metadata": {},
   "outputs": [],
   "source": [
    "cd $TOP/repo-alice\n",
    "git pull ../repo-upstream"
   ]
  },
  {
   "cell_type": "markdown",
   "metadata": {
    "slideshow": {
     "slide_type": "slide"
    }
   },
   "source": [
    "### git est (très) conservatoire"
   ]
  },
  {
   "cell_type": "markdown",
   "metadata": {},
   "source": [
    "* nous avons fait attention à faire deux changements  \n",
    "  qui sont **non conflictuels**\n",
    "\n",
    "* du coup on pourrait s'attendre à ce que `git pull` parvienne  \n",
    "  à s'en sortir\n",
    "\n",
    "* et pourtant git **refuse de seulement essayer**\n",
    "* à cause du risque de perte de pertes\n",
    "* car **on n'a plus nulle part la version de `factorial.py`\n",
    "  avec seulement les changements locaux !"
   ]
  },
  {
   "cell_type": "markdown",
   "metadata": {
    "slideshow": {
     "slide_type": "slide"
    }
   },
   "source": [
    "## deux options pour s'en sortir"
   ]
  },
  {
   "cell_type": "markdown",
   "metadata": {},
   "source": [
    "dans ce cas - relativement fréquent -  \n",
    "vous avez deux options pour vous en sortir :\n",
    "\n",
    "* commencez par committer vos propres changements,  \n",
    "  car là on a une sauvegarde et git acceptera   \n",
    "  de prendre le risque de conflit  \n",
    "\n",
    "* ou créez un *stash*\n"
   ]
  },
  {
   "cell_type": "markdown",
   "metadata": {
    "slideshow": {
     "slide_type": "slide"
    }
   },
   "source": [
    "## git checkout avec modifications pendantes"
   ]
  },
  {
   "cell_type": "markdown",
   "metadata": {},
   "source": [
    "le symptôme est **exactement le même**  \n",
    "si vous essayez de **changer de branche** (avec git `checkout`)  \n",
    "avec des **modifications pendantes** sur des fichiers  \n",
    "auxquels le `git checkout` aurait **besoin de toucher**  \n",
    "\n",
    "(puisque, on le rappelle, changer de branche induit de maintenir votre espace de travail en cohérence avec la nouvelle branche)\n",
    "\n",
    "même symptôme, et mêmes remèdes (commit ou stash)"
   ]
  },
  {
   "cell_type": "markdown",
   "metadata": {
    "slideshow": {
     "slide_type": "slide"
    }
   },
   "source": [
    "## git stash"
   ]
  },
  {
   "cell_type": "markdown",
   "metadata": {},
   "source": [
    "l'idée générale du *stash* (cachette en anglais) :\n",
    "\n",
    "* enlever les modifications pendantes\n",
    "* les ranger à la place dans un espace dédié\n",
    "* que l'on peut réutiliser ensuite\n",
    "* typiquement pour réappliquer les changements ultérieurement"
   ]
  },
  {
   "cell_type": "markdown",
   "metadata": {
    "slideshow": {
     "slide_type": "slide"
    }
   },
   "source": [
    "## git pull grâce à un stash"
   ]
  },
  {
   "cell_type": "markdown",
   "metadata": {},
   "source": [
    "nous allons résoudre notre problème initial avec un stash  "
   ]
  },
  {
   "cell_type": "code",
   "execution_count": null,
   "metadata": {},
   "outputs": [],
   "source": [
    "cd $TOP/repo-alice\n",
    "git diff"
   ]
  },
  {
   "cell_type": "code",
   "execution_count": null,
   "metadata": {
    "slideshow": {
     "slide_type": "slide"
    }
   },
   "outputs": [],
   "source": [
    "# dans un premier temps on range nos modifications courantes\n",
    "# dans un objet de type stash\n",
    "\n",
    "# on lui donne un message pour le retrouver\n",
    "# car on peut créer autant de stashes que l'on veut\n",
    "git stash push -m\"change circa the end of factorial.py\""
   ]
  },
  {
   "cell_type": "code",
   "execution_count": null,
   "metadata": {},
   "outputs": [],
   "source": [
    "# le point c'est que maintenant notre dépôt est propre\n",
    "git status"
   ]
  },
  {
   "cell_type": "code",
   "execution_count": null,
   "metadata": {},
   "outputs": [],
   "source": [
    "# si on veut on peut lister les stashes \n",
    "\n",
    "git stash list"
   ]
  },
  {
   "cell_type": "code",
   "execution_count": null,
   "metadata": {
    "slideshow": {
     "slide_type": "slide"
    }
   },
   "outputs": [],
   "source": [
    "# comme le repo est propre maintenant\n",
    "# on peut tirer sans souci\n",
    "\n",
    "git pull ../repo-upstream"
   ]
  },
  {
   "cell_type": "code",
   "execution_count": null,
   "metadata": {},
   "outputs": [],
   "source": [
    "# et pour remettre les changements locaux\n",
    "# dans nos fichiers, on applique le stash \n",
    "# avec la commande `git stash pop`\n",
    "git stash pop 'stash@{0}'"
   ]
  },
  {
   "cell_type": "code",
   "execution_count": null,
   "metadata": {
    "slideshow": {
     "slide_type": "slide"
    }
   },
   "outputs": [],
   "source": [
    "# on est bien dans l'état où on voulait être\n",
    "# le commit de upstream a été tiré\n",
    "# et on a préservé la modification locale \n",
    "git l"
   ]
  },
  {
   "cell_type": "code",
   "execution_count": null,
   "metadata": {},
   "outputs": [],
   "source": [
    "git diff"
   ]
  },
  {
   "cell_type": "markdown",
   "metadata": {
    "slideshow": {
     "slide_type": "slide"
    }
   },
   "source": [
    "## résumé\n",
    "\n",
    "* `git stash` permet de \"mettre de côté\"  \n",
    "  des modifications pendantes\n",
    "\n",
    "* de manière à revenir à un repo propre\n",
    "* pour pouvoir faire `pull` ou `checkout` (entre autres)\n",
    "* quand on a un dépôt encombré de modifications\n",
    "* que l'on ne souhaite pas forcément committer\n"
   ]
  }
 ],
 "metadata": {
  "celltoolbar": "Slideshow",
  "ipub": {
   "sphinx": {
    "toggle_input": true,
    "toggle_input_all": true,
    "toggle_output": true,
    "toggle_output_all": true
   }
  },
  "kernelspec": {
   "display_name": "Calysto Bash",
   "language": "bash",
   "name": "calysto_bash"
  },
  "language_info": {
   "file_extension": ".sh",
   "help_links": [
    {
     "text": "MetaKernel Magics",
     "url": "https://metakernel.readthedocs.io/en/latest/source/README.html"
    }
   ],
   "mimetype": "text/x-sh",
   "name": "bash",
   "version": "0.2.1"
  },
  "notebookname": "quand ça coince",
  "rise": {
   "autolaunch": true,
   "slideNumber": "c/t",
   "start_slideshow_at": "selected",
   "theme": "sky",
   "transition": "cube"
  },
  "version": "1.0"
 },
 "nbformat": 4,
 "nbformat_minor": 4
}

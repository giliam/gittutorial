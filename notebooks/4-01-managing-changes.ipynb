{
 "cells": [
  {
   "cell_type": "markdown",
   "metadata": {
    "slideshow": {
     "slide_type": "slide"
    }
   },
   "source": [
    "<div class=\"licence\">\n",
    "<span>Licence CC BY-NC-ND</span>\n",
    "<span>Thierry Parmentelat</span>\n",
    "<span><img src=\"media/inria-25-alpha.png\" /></span>\n",
    "</div>"
   ]
  },
  {
   "cell_type": "markdown",
   "metadata": {
    "slideshow": {
     "slide_type": ""
    }
   },
   "source": [
    "# modifications pendantes"
   ]
  },
  {
   "cell_type": "code",
   "execution_count": null,
   "metadata": {
    "slideshow": {
     "slide_type": "slide"
    }
   },
   "outputs": [],
   "source": [
    "# ce sera toujours notre façon de commencer\n",
    "[ -f scripts/helpers.sh ] && source scripts/helpers.sh"
   ]
  },
  {
   "cell_type": "markdown",
   "metadata": {
    "slideshow": {
     "slide_type": "slide"
    }
   },
   "source": [
    "## point de départ\n",
    "\n",
    "nous repartons du `repo-alice` du scénario précédent"
   ]
  },
  {
   "cell_type": "code",
   "execution_count": null,
   "metadata": {},
   "outputs": [],
   "source": [
    "# si nécessaire, vous pouvez remettre le repository en l'état\n",
    "# \n",
    "# pour cela mettez \"true\" au lieu de \"\"\n",
    "# et bien sûr évaluer la cellule\n",
    "\n",
    "reset=\"\"\n",
    "\n",
    "if [ -n \"$reset\" ]; then \n",
    "    cd $TOP\n",
    "    bash $SCRIPTS/3-01-my-first-remote.sh\n",
    "fi >& /dev/null"
   ]
  },
  {
   "cell_type": "code",
   "execution_count": null,
   "metadata": {},
   "outputs": [],
   "source": [
    "# si nécessaire, on se place dans le dépôt git\n",
    "[ -d repo-alice ] && cd repo-alice\n",
    "\n",
    "pwd"
   ]
  },
  {
   "cell_type": "markdown",
   "metadata": {
    "slideshow": {
     "slide_type": "slide"
    }
   },
   "source": [
    "## vérifions"
   ]
  },
  {
   "cell_type": "code",
   "execution_count": null,
   "metadata": {
    "cell_style": "split"
   },
   "outputs": [],
   "source": [
    "# nous sommes dans 'repo-alice' qui a 5 commits\n",
    "\n",
    "git l"
   ]
  },
  {
   "cell_type": "code",
   "execution_count": null,
   "metadata": {
    "cell_style": "split"
   },
   "outputs": [],
   "source": [
    "# et pour être sûr on vérifie aussi \n",
    "# qu'il n'y a pas de différence entre\n",
    "# le commit et les fichiers\n",
    "# on doit voir 'working tree clean'\n",
    "\n",
    "git status"
   ]
  },
  {
   "cell_type": "code",
   "execution_count": null,
   "metadata": {},
   "outputs": [],
   "source": [
    "# juste pour alléger l'affichage, on se crée un commit\n",
    "# avec un libellé plus court\n",
    "git commit --allow-empty --message=\"modifications pendantes\""
   ]
  },
  {
   "cell_type": "markdown",
   "metadata": {
    "slideshow": {
     "slide_type": "slide"
    }
   },
   "source": [
    "## objet\n",
    "\n",
    "on a déjà vu dans la vidéo comment le trajet d'une modification :\n",
    "\n",
    "* d'abord à la main dans un fichier\n",
    "* ensuite dans l'index\n",
    "* enfin dans un commit\n",
    "\n",
    "maintenant : apprendre les commandes qui permettent :\n",
    "\n",
    "* de savoir où on en est  \n",
    "* de revenir en arrière\n",
    "\n",
    "tout ceci naturellement est **local**"
   ]
  },
  {
   "cell_type": "markdown",
   "metadata": {
    "slideshow": {
     "slide_type": "slide"
    }
   },
   "source": [
    "## beaucoup d'outils UI disponibles"
   ]
  },
  {
   "cell_type": "markdown",
   "metadata": {
    "cell_style": "split",
    "slideshow": {
     "slide_type": ""
    }
   },
   "source": [
    "* visualiser le graphe des commits\n",
    "  * une branche ou plusieurs"
   ]
  },
  {
   "cell_type": "markdown",
   "metadata": {
    "cell_style": "split",
    "slideshow": {
     "slide_type": ""
    }
   },
   "source": [
    "* et/ou de gérer\n",
    "  * ajout dans l'index\n",
    "  * commit\n",
    "* et dans l'autre sens\n",
    "  * enlever un changement de l'index  \n",
    "    et le conserver dans les fichiers\n",
    "\n",
    "  * jeter complètement un changement  \n",
    "    souvent appelé *discard*"
   ]
  },
  {
   "cell_type": "markdown",
   "metadata": {
    "cell_style": "center",
    "slideshow": {
     "slide_type": ""
    }
   },
   "source": [
    "https://www.slant.co/topics/4985/~visual-git-guis"
   ]
  },
  {
   "cell_type": "markdown",
   "metadata": {
    "cell_style": "split",
    "slideshow": {
     "slide_type": ""
    }
   },
   "source": [
    "* les plus répandues\n",
    "  * sourcetree\n",
    "  * gitkraken\n",
    "  * vscode"
   ]
  },
  {
   "cell_type": "markdown",
   "metadata": {
    "cell_style": "split",
    "slideshow": {
     "slide_type": ""
    }
   },
   "source": [
    "* et les autres\n",
    "  * smartgit\n",
    "  * guitar\n",
    "  * gitahead\n",
    "  * tower"
   ]
  },
  {
   "cell_type": "markdown",
   "metadata": {
    "slideshow": {
     "slide_type": "slide"
    }
   },
   "source": [
    "## comprendre où on en est"
   ]
  },
  {
   "cell_type": "markdown",
   "metadata": {},
   "source": [
    "* git vient avec **beaucoup** (trop) de commandes !\n",
    "* en plus pas toujours très cohérentes entre elles ...\n",
    "* simplement pour *regarder* l'état courant il y a \n",
    "  * `git log` : lister les commits\n",
    "  * `git ls-tree` : voir le contenu d'un commit\n",
    "  * `git status` : une synthèse \n",
    "  * `git diff` : voir les modifications (dans l'index, entre edt et index, entre deux commits)\n",
    "  * `git ls-files` : lister les fichiers dans l'index et l'e.d.t.\n",
    "  * `git branch` : sans argument, liste les branches connues"
   ]
  },
  {
   "cell_type": "markdown",
   "metadata": {
    "slideshow": {
     "slide_type": "slide"
    }
   },
   "source": [
    "## où on en est: `git log`"
   ]
  },
  {
   "cell_type": "markdown",
   "metadata": {},
   "source": [
    "travaille uniquement **à partir du dépôt**  (ignore les fichiers)"
   ]
  },
  {
   "cell_type": "code",
   "execution_count": null,
   "metadata": {
    "cell_style": "center"
   },
   "outputs": [],
   "source": [
    "# de très nombreuses options disponibles\n",
    "# sans --all\n",
    "git log --graph --abbrev-commit --decorate --format=format:'%C(bold blue)%h%C(reset) - %C(bold cyan)%aD%C(reset) %C(bold green)(%ar)%C(reset)%C(bold yellow)%d%C(reset)%n''          %C(white)%s%C(reset) %C(dim white)- %an%C(reset)'"
   ]
  },
  {
   "cell_type": "code",
   "execution_count": null,
   "metadata": {},
   "outputs": [],
   "source": [
    "# avec --all\n",
    "git log --graph --abbrev-commit --decorate --format=format:'%C(bold blue)%h%C(reset) - %C(bold green)(%ar)%C(reset) %C(white)%s%C(reset) %C(dim white)- %an%C(reset)%C(bold yellow)%d%C(reset)' --all"
   ]
  },
  {
   "cell_type": "markdown",
   "metadata": {
    "slideshow": {
     "slide_type": "slide"
    }
   },
   "source": [
    "## où on en est: `git ls-tree`"
   ]
  },
  {
   "cell_type": "markdown",
   "metadata": {},
   "source": [
    "travaille uniquement **à partir du dépôt**  (ignore les fichiers)"
   ]
  },
  {
   "cell_type": "code",
   "execution_count": null,
   "metadata": {
    "cell_style": "split"
   },
   "outputs": [],
   "source": [
    "# le contenu d'un commit\n",
    "git ls-tree --abbrev HEAD"
   ]
  },
  {
   "cell_type": "code",
   "execution_count": null,
   "metadata": {
    "cell_style": "split"
   },
   "outputs": [],
   "source": [
    "# un autre commit\n",
    "git ls-tree --abbrev master"
   ]
  },
  {
   "cell_type": "markdown",
   "metadata": {
    "slideshow": {
     "slide_type": ""
    }
   },
   "source": [
    "voir aussi `ls-index` et `ls-files`"
   ]
  },
  {
   "cell_type": "markdown",
   "metadata": {
    "slideshow": {
     "slide_type": "slide"
    }
   },
   "source": [
    "## où on en est: `git status`"
   ]
  },
  {
   "cell_type": "code",
   "execution_count": null,
   "metadata": {
    "cell_style": "split"
   },
   "outputs": [],
   "source": [
    "# git status donne une synthèse\n",
    "\n",
    "# dans le cas général il va nous montrer \n",
    "# (*) le nom de la branche courante\n",
    "# (*) les deux sortes de différences\n",
    "# (*) et aussi le cas échéant les fichiers\n",
    "#     qui sont présents mais pas dans le commit\n",
    "\n",
    "# mais pour l'instant il n'y a pas grand chose à voir\n",
    "git status"
   ]
  },
  {
   "cell_type": "code",
   "execution_count": null,
   "metadata": {
    "cell_style": "split"
   },
   "outputs": [],
   "source": [
    "# je mets un changement dans l'index\n",
    "echo \"δ2: une ligne dans l'index\" >> README.md\n",
    "git add README.md\n",
    "\n",
    "# je fais un autre changement \n",
    "# mais pas dans l'index\n",
    "echo \"δ1: pas dans l'index\" >> README.md"
   ]
  },
  {
   "cell_type": "markdown",
   "metadata": {
    "cell_style": "split"
   },
   "source": [
    "![](media/changes-reference.png)"
   ]
  },
  {
   "cell_type": "code",
   "execution_count": null,
   "metadata": {},
   "outputs": [],
   "source": [
    "# voici ce que ça donne quand on a des changements \n",
    "\n",
    "git status"
   ]
  },
  {
   "cell_type": "markdown",
   "metadata": {
    "slideshow": {
     "slide_type": "slide"
    }
   },
   "source": [
    "## où on en est: `git diff`"
   ]
  },
  {
   "cell_type": "code",
   "execution_count": null,
   "metadata": {
    "cell_style": "split"
   },
   "outputs": [],
   "source": [
    "# par défaut git diff montre les diffs\n",
    "# entre l'espace de travail et l'index\n",
    "\n",
    "git diff"
   ]
  },
  {
   "cell_type": "code",
   "execution_count": null,
   "metadata": {
    "cell_style": "split"
   },
   "outputs": [],
   "source": [
    "# pour voir ce qui est dans l'index\n",
    "\n",
    "git diff --cached"
   ]
  },
  {
   "cell_type": "markdown",
   "metadata": {
    "slideshow": {
     "slide_type": "slide"
    }
   },
   "source": [
    "## un raccourci: `show-diffs`"
   ]
  },
  {
   "cell_type": "code",
   "execution_count": null,
   "metadata": {
    "cell_style": "split"
   },
   "outputs": [],
   "source": [
    "# juste pour ce tuto:\n",
    "# \n",
    "# un raccourci pour bien montrer \n",
    "# LES DEUX différences:\n",
    "# fichiers / index \n",
    "# et\n",
    "# index / commit\n",
    "\n",
    "type show-diffs"
   ]
  },
  {
   "cell_type": "code",
   "execution_count": null,
   "metadata": {
    "cell_style": "split"
   },
   "outputs": [],
   "source": [
    "show-diffs"
   ]
  },
  {
   "cell_type": "markdown",
   "metadata": {
    "slideshow": {
     "slide_type": "slide"
    }
   },
   "source": [
    "## abandonner toutes les modifications pendantes :  \n",
    "`git reset --hard`"
   ]
  },
  {
   "cell_type": "markdown",
   "metadata": {},
   "source": [
    "***attention*** : avec cette commande :\n",
    "\n",
    "* je **jette** littéralement **toutes les modifications** pendantes\n",
    "* qu'elles aient été mises dans l'index ou non"
   ]
  },
  {
   "cell_type": "code",
   "execution_count": null,
   "metadata": {},
   "outputs": [],
   "source": [
    "# j'avais deux différences (une dans l'index et l'autre non)\n",
    "\n",
    "# avec cette commande je vais revenir à l'état du dernier commit\n",
    "\n",
    "git reset --hard"
   ]
  },
  {
   "cell_type": "code",
   "execution_count": null,
   "metadata": {
    "cell_style": "split"
   },
   "outputs": [],
   "source": [
    "git status"
   ]
  },
  {
   "cell_type": "code",
   "execution_count": null,
   "metadata": {
    "cell_style": "split"
   },
   "outputs": [],
   "source": [
    "show-diffs"
   ]
  },
  {
   "cell_type": "markdown",
   "metadata": {
    "slideshow": {
     "slide_type": "slide"
    }
   },
   "source": [
    "en partant de ceci"
   ]
  },
  {
   "cell_type": "markdown",
   "metadata": {
    "slideshow": {
     "slide_type": ""
    }
   },
   "source": [
    "![](media/changes-reference.png)"
   ]
  },
  {
   "cell_type": "markdown",
   "metadata": {},
   "source": [
    "on obtient donc cela"
   ]
  },
  {
   "cell_type": "markdown",
   "metadata": {},
   "source": [
    "![](media/changes-reset-hard.png)"
   ]
  },
  {
   "cell_type": "markdown",
   "metadata": {
    "slideshow": {
     "slide_type": "slide"
    }
   },
   "source": [
    "## les deux sortes de modification"
   ]
  },
  {
   "cell_type": "markdown",
   "metadata": {},
   "source": [
    "on se définit un état de référence avec deux changements"
   ]
  },
  {
   "cell_type": "code",
   "execution_count": null,
   "metadata": {
    "cell_style": "split"
   },
   "outputs": [],
   "source": [
    "git reset --hard\n",
    "$SCRIPTS/do both-kinds-of-changes"
   ]
  },
  {
   "cell_type": "code",
   "execution_count": null,
   "metadata": {
    "cell_style": "split"
   },
   "outputs": [],
   "source": [
    "show-diffs"
   ]
  },
  {
   "cell_type": "markdown",
   "metadata": {
    "slideshow": {
     "slide_type": "slide"
    }
   },
   "source": [
    "## abandonner des modifications pendantes - suite"
   ]
  },
  {
   "cell_type": "markdown",
   "metadata": {},
   "source": [
    "autres variantes -- moins extrêmes que `git reset --hard`\n",
    "\n",
    "avec les commandes\n",
    "\n",
    "* `git reset` : \n",
    "  * sans option, permet d'enlever les modifications dans l'index  \n",
    "  * `git reset -- README.md` pour se limiter à des fichiers spécifiques\n",
    "  \n",
    "* `git checkout --` : \n",
    "  * pour enlever les modifications qui ne sont pas dans l'index\n",
    "  * à nouveau on peut faire `git checkout -- README.md` pour limiter la portée\n"
   ]
  },
  {
   "cell_type": "markdown",
   "metadata": {
    "slideshow": {
     "slide_type": "slide"
    }
   },
   "source": [
    "## `git reset` sans arguments "
   ]
  },
  {
   "cell_type": "code",
   "execution_count": null,
   "metadata": {
    "cell_style": "split"
   },
   "outputs": [],
   "source": [
    "git reset --hard\n",
    "$SCRIPTS/do both-kinds-of-changes\n",
    "\n",
    "\n",
    "# on vide l'index mais on conserve \n",
    "# les deux différences  \n",
    "\n",
    "git reset"
   ]
  },
  {
   "cell_type": "code",
   "execution_count": null,
   "metadata": {
    "cell_style": "split"
   },
   "outputs": [],
   "source": [
    "show-diffs"
   ]
  },
  {
   "cell_type": "markdown",
   "metadata": {},
   "source": [
    "![](media/changes-reset.png)"
   ]
  },
  {
   "cell_type": "markdown",
   "metadata": {
    "slideshow": {
     "slide_type": "slide"
    }
   },
   "source": [
    "## `git checkout -- .` "
   ]
  },
  {
   "cell_type": "code",
   "execution_count": null,
   "metadata": {
    "cell_style": "split"
   },
   "outputs": [],
   "source": [
    "git reset --hard\n",
    "$SCRIPTS/do both-kinds-of-changes\n",
    "\n",
    "\n",
    "# on abandonne la différence \n",
    "# qui n'etait pas dans l'index\n",
    "\n",
    "git checkout -- ."
   ]
  },
  {
   "cell_type": "code",
   "execution_count": null,
   "metadata": {
    "cell_style": "split"
   },
   "outputs": [],
   "source": [
    "show-diffs"
   ]
  },
  {
   "cell_type": "markdown",
   "metadata": {},
   "source": [
    "![](media/changes-checkout.png)"
   ]
  },
  {
   "cell_type": "markdown",
   "metadata": {
    "slideshow": {
     "slide_type": "slide"
    }
   },
   "source": [
    "## reset + checkout"
   ]
  },
  {
   "cell_type": "code",
   "execution_count": null,
   "metadata": {
    "cell_style": "split"
   },
   "outputs": [],
   "source": [
    "git reset --hard HEAD\n",
    "$SCRIPTS/do both-kinds-of-changes\n",
    "\n",
    "# si on fait les deux \n",
    "# c'est comme reset --hard\n",
    "\n",
    "git reset -- README.md\n",
    "git checkout -- README.md"
   ]
  },
  {
   "cell_type": "code",
   "execution_count": null,
   "metadata": {
    "cell_style": "split"
   },
   "outputs": [],
   "source": [
    "show-diffs"
   ]
  },
  {
   "cell_type": "markdown",
   "metadata": {
    "slideshow": {
     "slide_type": "slide"
    }
   },
   "source": [
    "## résumé"
   ]
  },
  {
   "cell_type": "markdown",
   "metadata": {},
   "source": [
    "![](media/changes-summary.png)"
   ]
  }
 ],
 "metadata": {
  "celltoolbar": "Slideshow",
  "ipub": {
   "sphinx": {
    "toggle_input": true,
    "toggle_input_all": true,
    "toggle_output": true,
    "toggle_output_all": true
   }
  },
  "kernelspec": {
   "display_name": "Calysto Bash",
   "language": "bash",
   "name": "calysto_bash"
  },
  "language_info": {
   "file_extension": ".sh",
   "help_links": [
    {
     "text": "MetaKernel Magics",
     "url": "https://metakernel.readthedocs.io/en/latest/source/README.html"
    }
   ],
   "mimetype": "text/x-sh",
   "name": "bash",
   "version": "0.2.1"
  },
  "notebookname": "modifications pendantes",
  "rise": {
   "autolaunch": true,
   "slideNumber": "c/t",
   "start_slideshow_at": "selected",
   "theme": "sky",
   "transition": "cube"
  },
  "version": "1.0"
 },
 "nbformat": 4,
 "nbformat_minor": 4
}
